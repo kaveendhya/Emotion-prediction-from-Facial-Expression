{
  "nbformat": 4,
  "nbformat_minor": 0,
  "metadata": {
    "colab": {
      "provenance": []
    },
    "kernelspec": {
      "name": "python3",
      "display_name": "Python 3"
    },
    "language_info": {
      "name": "python"
    }
  },
  "cells": [
    {
      "cell_type": "markdown",
      "source": [
        "### **Insall nessaray libraries and packages**"
      ],
      "metadata": {
        "id": "NJuGubRJv3Bn"
      }
    },
    {
      "cell_type": "code",
      "source": [
        "!pip install utils"
      ],
      "metadata": {
        "colab": {
          "base_uri": "https://localhost:8080/"
        },
        "id": "Dd2Sr88ivuGb",
        "outputId": "e0d875f1-7f99-4e7a-da90-fb056c32ac5b"
      },
      "execution_count": null,
      "outputs": [
        {
          "output_type": "stream",
          "name": "stdout",
          "text": [
            "Collecting utils\n",
            "  Downloading utils-1.0.1-py2.py3-none-any.whl (21 kB)\n",
            "Installing collected packages: utils\n",
            "Successfully installed utils-1.0.1\n"
          ]
        }
      ]
    },
    {
      "cell_type": "code",
      "source": [
        "import numpy as np\n",
        "import seaborn as sns\n",
        "import matplotlib.pyplot as plt\n",
        "import utils\n",
        "import os\n",
        "%matplotlib inline\n",
        "import pandas as pd"
      ],
      "metadata": {
        "id": "rFLEl4jlsexy"
      },
      "execution_count": null,
      "outputs": []
    },
    {
      "cell_type": "code",
      "source": [
        "!pip install livelossplot"
      ],
      "metadata": {
        "colab": {
          "base_uri": "https://localhost:8080/"
        },
        "id": "z-XXzPSvwBcT",
        "outputId": "f5b212aa-aac1-45ed-d075-49339cc371ce"
      },
      "execution_count": null,
      "outputs": [
        {
          "output_type": "stream",
          "name": "stdout",
          "text": [
            "Collecting livelossplot\n",
            "  Downloading livelossplot-0.5.5-py3-none-any.whl (22 kB)\n",
            "Requirement already satisfied: matplotlib in /usr/local/lib/python3.10/dist-packages (from livelossplot) (3.7.1)\n",
            "Requirement already satisfied: bokeh in /usr/local/lib/python3.10/dist-packages (from livelossplot) (3.2.2)\n",
            "Requirement already satisfied: Jinja2>=2.9 in /usr/local/lib/python3.10/dist-packages (from bokeh->livelossplot) (3.1.2)\n",
            "Requirement already satisfied: contourpy>=1 in /usr/local/lib/python3.10/dist-packages (from bokeh->livelossplot) (1.1.0)\n",
            "Requirement already satisfied: numpy>=1.16 in /usr/local/lib/python3.10/dist-packages (from bokeh->livelossplot) (1.23.5)\n",
            "Requirement already satisfied: packaging>=16.8 in /usr/local/lib/python3.10/dist-packages (from bokeh->livelossplot) (23.1)\n",
            "Requirement already satisfied: pandas>=1.2 in /usr/local/lib/python3.10/dist-packages (from bokeh->livelossplot) (1.5.3)\n",
            "Requirement already satisfied: pillow>=7.1.0 in /usr/local/lib/python3.10/dist-packages (from bokeh->livelossplot) (9.4.0)\n",
            "Requirement already satisfied: PyYAML>=3.10 in /usr/local/lib/python3.10/dist-packages (from bokeh->livelossplot) (6.0.1)\n",
            "Requirement already satisfied: tornado>=5.1 in /usr/local/lib/python3.10/dist-packages (from bokeh->livelossplot) (6.3.2)\n",
            "Requirement already satisfied: xyzservices>=2021.09.1 in /usr/local/lib/python3.10/dist-packages (from bokeh->livelossplot) (2023.7.0)\n",
            "Requirement already satisfied: cycler>=0.10 in /usr/local/lib/python3.10/dist-packages (from matplotlib->livelossplot) (0.11.0)\n",
            "Requirement already satisfied: fonttools>=4.22.0 in /usr/local/lib/python3.10/dist-packages (from matplotlib->livelossplot) (4.42.1)\n",
            "Requirement already satisfied: kiwisolver>=1.0.1 in /usr/local/lib/python3.10/dist-packages (from matplotlib->livelossplot) (1.4.4)\n",
            "Requirement already satisfied: pyparsing>=2.3.1 in /usr/local/lib/python3.10/dist-packages (from matplotlib->livelossplot) (3.1.1)\n",
            "Requirement already satisfied: python-dateutil>=2.7 in /usr/local/lib/python3.10/dist-packages (from matplotlib->livelossplot) (2.8.2)\n",
            "Requirement already satisfied: MarkupSafe>=2.0 in /usr/local/lib/python3.10/dist-packages (from Jinja2>=2.9->bokeh->livelossplot) (2.1.3)\n",
            "Requirement already satisfied: pytz>=2020.1 in /usr/local/lib/python3.10/dist-packages (from pandas>=1.2->bokeh->livelossplot) (2023.3)\n",
            "Requirement already satisfied: six>=1.5 in /usr/local/lib/python3.10/dist-packages (from python-dateutil>=2.7->matplotlib->livelossplot) (1.16.0)\n",
            "Installing collected packages: livelossplot\n",
            "Successfully installed livelossplot-0.5.5\n"
          ]
        }
      ]
    },
    {
      "cell_type": "code",
      "source": [
        "from tensorflow.keras.preprocessing.image import ImageDataGenerator\n",
        "from tensorflow.keras.layers import Dense, Input, Dropout,Flatten, Conv2D\n",
        "from tensorflow.keras.layers import BatchNormalization, Activation, MaxPooling2D\n",
        "from tensorflow.keras.models import Model, Sequential\n",
        "from tensorflow.keras.optimizers import Adam\n",
        "from tensorflow.keras.callbacks import ModelCheckpoint, ReduceLROnPlateau\n",
        "from tensorflow.keras.utils import plot_model\n",
        "\n",
        "from IPython.display import SVG, Image\n",
        "from livelossplot.tf_keras import PlotLossesCallback\n",
        "import tensorflow as tf\n",
        "print(\"Tensorflow version:\", tf.__version__)"
      ],
      "metadata": {
        "colab": {
          "base_uri": "https://localhost:8080/"
        },
        "id": "3ae2l1NhF1cs",
        "outputId": "5488fb91-0caf-4ff6-b98b-ca74efd0c077"
      },
      "execution_count": null,
      "outputs": [
        {
          "output_type": "stream",
          "name": "stdout",
          "text": [
            "Tensorflow version: 2.12.0\n"
          ]
        }
      ]
    },
    {
      "cell_type": "code",
      "source": [
        "from tensorflow.keras.preprocessing.image import load_img"
      ],
      "metadata": {
        "id": "2cATCSkwFssd"
      },
      "execution_count": null,
      "outputs": []
    },
    {
      "cell_type": "code",
      "source": [
        "import warnings\n",
        "import random\n",
        "from tqdm.notebook import tqdm\n",
        "warnings.filterwarnings('ignore')"
      ],
      "metadata": {
        "id": "1aYRTXXgF-o6"
      },
      "execution_count": null,
      "outputs": []
    },
    {
      "cell_type": "code",
      "source": [
        "from keras.utils import to_categorical\n",
        "from sklearn.utils import shuffle"
      ],
      "metadata": {
        "id": "PJzi2wNnF_UW"
      },
      "execution_count": null,
      "outputs": []
    },
    {
      "cell_type": "markdown",
      "source": [
        "**Load the dataset**"
      ],
      "metadata": {
        "id": "5uRd09hLwqTZ"
      }
    },
    {
      "cell_type": "code",
      "source": [
        "TRAIN_DIR_Male = '/content/drive/MyDrive/FER2013_CK+/Male/Train/'\n",
        "TEST_DIR_Male = '/content/drive/MyDrive/FER2013_CK+/Male/Test/'"
      ],
      "metadata": {
        "id": "H5rtKzphwQJU"
      },
      "execution_count": null,
      "outputs": []
    },
    {
      "cell_type": "markdown",
      "source": [
        "# **Preprocess the datasets**"
      ],
      "metadata": {
        "id": "zZl-cPAA4ixA"
      }
    },
    {
      "cell_type": "markdown",
      "source": [
        "**Read Images from the data path**"
      ],
      "metadata": {
        "id": "8mBxUCGdz6tp"
      }
    },
    {
      "cell_type": "code",
      "source": [
        "import cv2"
      ],
      "metadata": {
        "id": "WB4VoPWg0QFE"
      },
      "execution_count": null,
      "outputs": []
    },
    {
      "cell_type": "code",
      "source": [],
      "metadata": {
        "id": "Ghft8uucKMEN"
      },
      "execution_count": null,
      "outputs": []
    },
    {
      "cell_type": "code",
      "source": [],
      "metadata": {
        "id": "q8v-0UHhLN2z"
      },
      "execution_count": null,
      "outputs": []
    },
    {
      "cell_type": "code",
      "source": [
        "TRAIN_DIR_Male = '/content/drive/MyDrive/FER2013_CK+/Male/Train/'\n",
        "data_dir_sequence = ['angry', 'disgust', 'fear', 'happy', 'neutral','sad']\n",
        "\n",
        "\n",
        "img_data_list = []\n",
        "emotion_counts_tr_male = {}\n",
        "\n",
        "for dataset in data_dir_sequence:\n",
        "    img_list = os.listdir(os.path.join(TRAIN_DIR_Male, dataset))\n",
        "    count = len(img_list)\n",
        "    emotion_counts_tr_male[dataset] = count\n",
        "    print('Loaded {} images for the dataset-{}\\n'.format(count, dataset))\n",
        "    for img in img_list:\n",
        "        input_img = cv2.imread(os.path.join(TRAIN_DIR_Male, dataset, img))\n",
        "        if input_img is not None:\n",
        "            input_img = cv2.cvtColor(input_img, cv2.COLOR_BGR2GRAY)\n",
        "            input_img = cv2.equalizeHist(input_img)\n",
        "            img_data_list.append(input_img)\n",
        "        else:\n",
        "            print(f\"Failed to read image: {img}\")\n",
        "\n",
        "img_data_train_male = np.array(img_data_list)\n",
        "img_data_train_male = img_data_train_male.astype('float32')\n",
        "img_data_train_male = img_data_train_male/ 255\n",
        "\n",
        "# img_data_train_male = img_data_train_male.reshape(-1, 48, 48)  # Reshape the array to (total_count, 48, 48)\n",
        "\n",
        "print(\"Emotion Counts:\")\n",
        "for emotion, count in emotion_counts_tr_male.items():\n",
        "    print(\"{}: {}\".format(emotion, count))\n"
      ],
      "metadata": {
        "id": "gbQUIdB6DIxF",
        "colab": {
          "base_uri": "https://localhost:8080/"
        },
        "outputId": "3da3c3e7-51c8-4279-8b6a-a6a9202f27f8"
      },
      "execution_count": null,
      "outputs": [
        {
          "output_type": "stream",
          "name": "stdout",
          "text": [
            "Loaded 2823 images for the dataset-angry\n",
            "\n",
            "Loaded 480 images for the dataset-disgust\n",
            "\n",
            "Loaded 2235 images for the dataset-fear\n",
            "\n",
            "Loaded 2713 images for the dataset-happy\n",
            "\n",
            "Loaded 3208 images for the dataset-neutral\n",
            "\n",
            "Loaded 2643 images for the dataset-sad\n",
            "\n",
            "Failed to read image: desktop.ini\n",
            "Emotion Counts:\n",
            "angry: 2823\n",
            "disgust: 480\n",
            "fear: 2235\n",
            "happy: 2713\n",
            "neutral: 3208\n",
            "sad: 2643\n"
          ]
        }
      ]
    },
    {
      "cell_type": "code",
      "source": [
        "img_data_train_male.shape"
      ],
      "metadata": {
        "id": "jDvGPVXZ9KuL",
        "colab": {
          "base_uri": "https://localhost:8080/"
        },
        "outputId": "3f0b0920-900a-432d-e25d-2b0fc173bbf1"
      },
      "execution_count": null,
      "outputs": [
        {
          "output_type": "execute_result",
          "data": {
            "text/plain": [
              "(14101, 48, 48)"
            ]
          },
          "metadata": {},
          "execution_count": 11
        }
      ]
    },
    {
      "cell_type": "code",
      "source": [
        "TEST_DIR_Male = '/content/drive/MyDrive/FER2013_CK+/Male/Test/'\n",
        "data_dir_sequence = ['angry', 'disgust', 'fear', 'happy', 'neutral','sad']\n",
        "\n",
        "\n",
        "img_data_list = []\n",
        "emotion_counts_te_male = {}\n",
        "\n",
        "for dataset in data_dir_sequence:\n",
        "    img_list = os.listdir(os.path.join(TEST_DIR_Male, dataset))\n",
        "    count = len(img_list)\n",
        "    emotion_counts_te_male[dataset] = count\n",
        "    print('Loaded {} images for the dataset-{}\\n'.format(count, dataset))\n",
        "    for img in img_list:\n",
        "        input_img = cv2.imread(os.path.join(TEST_DIR_Male, dataset, img))\n",
        "        if input_img is not None:\n",
        "            input_img = cv2.cvtColor(input_img, cv2.COLOR_BGR2GRAY)\n",
        "            input_img = cv2.equalizeHist(input_img)\n",
        "            img_data_list.append(input_img)\n",
        "        else:\n",
        "            print(f\"Failed to read image: {img}\")\n",
        "\n",
        "img_data_test_male = np.array(img_data_list)\n",
        "img_data_test_male = img_data_test_male.astype('float32')\n",
        "img_data_test_male = img_data_test_male/ 255\n",
        "\n",
        "# img_data_test_male = img_data_test_male.reshape(-1, 48, 48)  # Reshape the array to (total_count, 48, 48)\n",
        "\n",
        "print(\"Emotion Counts:\")\n",
        "for emotion, count in  emotion_counts_te_male.items():\n",
        "    print(\"{}: {}\".format(emotion, count))"
      ],
      "metadata": {
        "id": "UccvBcCBCuhX",
        "colab": {
          "base_uri": "https://localhost:8080/"
        },
        "outputId": "506b8227-7a22-401e-db9b-d646e82718f6"
      },
      "execution_count": null,
      "outputs": [
        {
          "output_type": "stream",
          "name": "stdout",
          "text": [
            "Loaded 555 images for the dataset-angry\n",
            "\n",
            "Loaded 75 images for the dataset-disgust\n",
            "\n",
            "Loaded 451 images for the dataset-fear\n",
            "\n",
            "Loaded 553 images for the dataset-happy\n",
            "\n",
            "Loaded 646 images for the dataset-neutral\n",
            "\n",
            "Loaded 537 images for the dataset-sad\n",
            "\n",
            "Emotion Counts:\n",
            "angry: 555\n",
            "disgust: 75\n",
            "fear: 451\n",
            "happy: 553\n",
            "neutral: 646\n",
            "sad: 537\n"
          ]
        }
      ]
    },
    {
      "cell_type": "code",
      "source": [
        "img_data_test_male.shape"
      ],
      "metadata": {
        "id": "n1I58I9e9TEO",
        "colab": {
          "base_uri": "https://localhost:8080/"
        },
        "outputId": "40145c18-40b3-435e-e761-2d741926db1b"
      },
      "execution_count": null,
      "outputs": [
        {
          "output_type": "execute_result",
          "data": {
            "text/plain": [
              "(2817, 48, 48)"
            ]
          },
          "metadata": {},
          "execution_count": 13
        }
      ]
    },
    {
      "cell_type": "markdown",
      "source": [
        "**Distribution of datasets**"
      ],
      "metadata": {
        "id": "o_wmY9JO0EfU"
      }
    },
    {
      "cell_type": "code",
      "source": [
        "emotions_tr_ma = list(emotion_counts_tr_male.keys())\n",
        "counts_tr_ma = list(emotion_counts_tr_male.values())\n",
        "\n",
        "# Create a bar chart\n",
        "plt.bar(emotions_tr_ma, counts_tr_ma)\n",
        "plt.xlabel('Emotions')\n",
        "plt.ylabel('Count')\n",
        "plt.title('Distribution of Images across Emotions')\n",
        "plt.show()"
      ],
      "metadata": {
        "id": "YHliOtVe9TLa",
        "colab": {
          "base_uri": "https://localhost:8080/",
          "height": 472
        },
        "outputId": "fd37268b-4440-4d87-e05c-afc85125035b"
      },
      "execution_count": null,
      "outputs": [
        {
          "output_type": "display_data",
          "data": {
            "text/plain": [
              "<Figure size 640x480 with 1 Axes>"
            ],
            "image/png": "[encoded data removed]"
          },
          "metadata": {}
        }
      ]
    },
    {
      "cell_type": "code",
      "source": [
        "emotions_ts_me = list(emotion_counts_te_male.keys())\n",
        "counts_ts_me = list(emotion_counts_te_male.values())\n",
        "\n",
        "# Create a bar chart\n",
        "plt.bar(emotions_ts_me, counts_ts_me)\n",
        "plt.xlabel('Emotions')\n",
        "plt.ylabel('Count')\n",
        "plt.title('Distribution of Images across Emotions')\n",
        "plt.show()"
      ],
      "metadata": {
        "id": "Ue09jAht9TPa",
        "colab": {
          "base_uri": "https://localhost:8080/",
          "height": 472
        },
        "outputId": "100fde93-a4d0-456a-de32-206a57360c4b"
      },
      "execution_count": null,
      "outputs": [
        {
          "output_type": "display_data",
          "data": {
            "text/plain": [
              "<Figure size 640x480 with 1 Axes>"
            ],
            "image/png": "[encoded data removed]"
          },
          "metadata": {}
        }
      ]
    },
    {
      "cell_type": "markdown",
      "source": [
        "**Define the number of classes**"
      ],
      "metadata": {
        "id": "7QrYxdJt0bMC"
      }
    },
    {
      "cell_type": "code",
      "source": [
        "from keras.utils import to_categorical\n",
        "\n",
        "num_classes = 6\n",
        "num_of_samples_tr_male = img_data_train_male.shape[0]\n",
        "\n",
        "labels_train_male = np.ones((num_of_samples_tr_male,), dtype='int64')\n",
        "labels_train_male[0:2823] = 5  # 2823 Angry\n",
        "labels_train_male[2823:3303] = 4  #  480 Disgust\n",
        "labels_train_male[3303:5538] = 3  # 2235 Fear\n",
        "labels_train_male[5538:8251] = 0  # 2713nHappy\n",
        "labels_train_male[8251:11459] = 2  # 3208  neutral\n",
        "labels_train_male[11459:] = 1  # 2643 Sad\n",
        "# labels_train_male[9088:] = 2  # Surprise\n",
        "\n",
        "names = ['HAPPY', 'SAD', 'NEUTRAL', 'FEAR', 'DISGUST', 'ANGRY']\n",
        "\n",
        "def getLabel(id):\n",
        "    return ['HAPPY', 'SAD', 'NEUTRAL', 'FEAR', 'DISGUST', 'ANGRY'][id]\n",
        "\n",
        "# labels_train_female_encoded = to_categorical(labels_train_female, num_classes=num_classes)"
      ],
      "metadata": {
        "id": "nB31En7m9kQk"
      },
      "execution_count": null,
      "outputs": []
    },
    {
      "cell_type": "code",
      "source": [
        "labels_train_males = np.bincount(labels_train_male)\n",
        "\n",
        "# Print the count of each label\n",
        "for i, count in enumerate(labels_train_males):\n",
        "    label_name = getLabel(i)\n",
        "    print(\"{}: {}\".format(label_name, count))"
      ],
      "metadata": {
        "id": "Zg5LKV9F9kYZ",
        "colab": {
          "base_uri": "https://localhost:8080/"
        },
        "outputId": "86a067e1-d9e4-4fcc-8df9-1df2a82e517c"
      },
      "execution_count": null,
      "outputs": [
        {
          "output_type": "stream",
          "name": "stdout",
          "text": [
            "HAPPY: 2713\n",
            "SAD: 2642\n",
            "NEUTRAL: 3208\n",
            "FEAR: 2235\n",
            "DISGUST: 480\n",
            "ANGRY: 2823\n"
          ]
        }
      ]
    },
    {
      "cell_type": "code",
      "source": [
        "from keras.utils import to_categorical\n",
        "\n",
        "num_classes = 6\n",
        "num_of_samples_te_male = img_data_test_male.shape[0]\n",
        "\n",
        "labels_test_male = np.ones((num_of_samples_te_male,), dtype='int64')\n",
        "labels_test_male[0:555] = 5  # 555 Angry\n",
        "labels_test_male[555:630] = 4  # 75 Disgust\n",
        "labels_test_male[630:1081] = 3  # 451 Fear 475\n",
        "labels_test_male[1081:1634] = 0  # 553 Happy\n",
        "labels_test_male[1634:2280] = 2  # 646 neutral\n",
        "labels_test_male[2280:] = 1  # 537 Sad\n",
        "# labels_test_male[2524:] = 2  642 # Surprise\n",
        "\n",
        "names = ['HAPPY', 'SAD', 'NEUTRAL', 'FEAR', 'DISGUST', 'ANGRY']\n",
        "\n",
        "def getLabel(id):\n",
        "    return ['HAPPY', 'SAD', 'NEUTRAL', 'FEAR', 'DISGUST', 'ANGRY'][id]\n",
        "\n",
        "# labels_train_female_encoded = to_categorical(labels_train_female, num_classes=num_classes)\n"
      ],
      "metadata": {
        "id": "tTWHqQPE49l2"
      },
      "execution_count": null,
      "outputs": []
    },
    {
      "cell_type": "code",
      "source": [
        "labels_test_males = np.bincount(labels_test_male)\n",
        "\n",
        "# Print the count of each label\n",
        "for i, count in enumerate(labels_test_males):\n",
        "    label_name = getLabel(i)\n",
        "    print(\"{}: {}\".format(label_name, count))"
      ],
      "metadata": {
        "id": "LOCUOFBZ5HET",
        "colab": {
          "base_uri": "https://localhost:8080/"
        },
        "outputId": "7c1498dc-f341-4cfa-feaf-a9f2e2bbe932"
      },
      "execution_count": null,
      "outputs": [
        {
          "output_type": "stream",
          "name": "stdout",
          "text": [
            "HAPPY: 553\n",
            "SAD: 537\n",
            "NEUTRAL: 646\n",
            "FEAR: 451\n",
            "DISGUST: 75\n",
            "ANGRY: 555\n"
          ]
        }
      ]
    },
    {
      "cell_type": "code",
      "source": [
        "print(labels_test_male.shape,labels_train_male.shape)"
      ],
      "metadata": {
        "id": "Tn7uJZOM9kgW",
        "colab": {
          "base_uri": "https://localhost:8080/"
        },
        "outputId": "d6ef0f46-c8d0-4833-ea79-821ccfc87688"
      },
      "execution_count": null,
      "outputs": [
        {
          "output_type": "stream",
          "name": "stdout",
          "text": [
            "(2817,) (14101,)\n"
          ]
        }
      ]
    },
    {
      "cell_type": "markdown",
      "source": [
        "**Convert the class label to one-hot encoding**"
      ],
      "metadata": {
        "id": "Mz0JSu6R0mkm"
      }
    },
    {
      "cell_type": "code",
      "source": [
        "# convert class labels to on-hot encoding# conve\n",
        "Y_ma_tr = to_categorical(labels_train_male, num_classes)\n",
        "Y_ma_ts = to_categorical(labels_test_male, num_classes)"
      ],
      "metadata": {
        "id": "I9BMLKxSrcZr"
      },
      "execution_count": null,
      "outputs": []
    },
    {
      "cell_type": "code",
      "source": [
        "print(Y_ma_tr.shape,Y_ma_ts.shape)"
      ],
      "metadata": {
        "id": "UmCMvukKu-og",
        "colab": {
          "base_uri": "https://localhost:8080/"
        },
        "outputId": "1627e2a6-6793-4acc-b772-b3a56b08c15f"
      },
      "execution_count": null,
      "outputs": [
        {
          "output_type": "stream",
          "name": "stdout",
          "text": [
            "(14101, 6) (2817, 6)\n"
          ]
        }
      ]
    },
    {
      "cell_type": "markdown",
      "source": [
        "**Shuffle the dataset**"
      ],
      "metadata": {
        "id": "5-Mr8WZx0tzB"
      }
    },
    {
      "cell_type": "code",
      "source": [
        "#Shuffle the dataset\n",
        "x_train_male,y_train_male = shuffle(img_data_train_male,Y_ma_tr, random_state=2)\n",
        "x_test_male,y_test_male = shuffle(img_data_test_male,Y_ma_ts, random_state=2)"
      ],
      "metadata": {
        "id": "9ap9Wpaon1iG"
      },
      "execution_count": null,
      "outputs": []
    },
    {
      "cell_type": "code",
      "source": [
        "X_train_male = x_train_male\n",
        "Y_train_male = y_train_male\n",
        "X_test_male = x_test_male\n",
        "Y_test_male = y_test_male"
      ],
      "metadata": {
        "id": "2e8d9YmO9xxX"
      },
      "execution_count": null,
      "outputs": []
    },
    {
      "cell_type": "code",
      "source": [
        "print(X_train_male.shape,Y_train_male.shape,X_test_male.shape,Y_test_male.shape)"
      ],
      "metadata": {
        "id": "rbrhs1N56fo1",
        "colab": {
          "base_uri": "https://localhost:8080/"
        },
        "outputId": "5dc97a21-c71d-4783-fda2-59181f868688"
      },
      "execution_count": null,
      "outputs": [
        {
          "output_type": "stream",
          "name": "stdout",
          "text": [
            "(14101, 48, 48) (14101, 6) (2817, 48, 48) (2817, 6)\n"
          ]
        }
      ]
    },
    {
      "cell_type": "code",
      "source": [
        "X_train_male = X_train_male.reshape(X_train_male.shape[0], X_train_male.shape[1], X_train_male.shape[2], 1)\n",
        "X_test_male =X_test_male.reshape(X_test_male.shape[0], X_test_male.shape[1], X_test_male.shape[2], 1)"
      ],
      "metadata": {
        "id": "1EfpuC2L9yAz"
      },
      "execution_count": null,
      "outputs": []
    },
    {
      "cell_type": "markdown",
      "source": [
        "# **Handling imbalncing**"
      ],
      "metadata": {
        "id": "eMEnkSw97iBT"
      }
    },
    {
      "cell_type": "markdown",
      "source": [
        "**Class weights**"
      ],
      "metadata": {
        "id": "5LuNjQGB7zAF"
      }
    },
    {
      "cell_type": "code",
      "source": [
        "from sklearn.utils import class_weight\n",
        "\n",
        "class_weights = class_weight.compute_class_weight(\n",
        "    class_weight=\"balanced\",\n",
        "    classes=np.unique(labels_train_male),\n",
        "    y=labels_train_male\n",
        ")\n",
        "\n",
        "class_weights = dict(zip(np.unique(labels_train_male), class_weights))"
      ],
      "metadata": {
        "id": "5YyhHHGf9-ye"
      },
      "execution_count": null,
      "outputs": []
    },
    {
      "cell_type": "code",
      "source": [
        "class_weights"
      ],
      "metadata": {
        "id": "jrSElzKg9_BS",
        "colab": {
          "base_uri": "https://localhost:8080/"
        },
        "outputId": "76db6ebe-499b-4aa5-8717-3977615dc59d"
      },
      "execution_count": null,
      "outputs": [
        {
          "output_type": "execute_result",
          "data": {
            "text/plain": [
              "{0: 0.8662612114510382,\n",
              " 1: 0.8895407519555892,\n",
              " 2: 0.7325955943474647,\n",
              " 3: 1.0515287099179718,\n",
              " 4: 4.8961805555555555,\n",
              " 5: 0.8325067894674696}"
            ]
          },
          "metadata": {},
          "execution_count": 28
        }
      ]
    },
    {
      "cell_type": "markdown",
      "source": [
        "**Data Augmentation**"
      ],
      "metadata": {
        "id": "0enBp08G8oBG"
      }
    },
    {
      "cell_type": "code",
      "source": [
        "from tensorflow.keras.preprocessing.image import ImageDataGenerator"
      ],
      "metadata": {
        "id": "0vjV3hvUiral"
      },
      "execution_count": null,
      "outputs": []
    },
    {
      "cell_type": "code",
      "source": [
        "datagen = ImageDataGenerator(rotation_range=10)"
      ],
      "metadata": {
        "id": "wp8cXj0-8Mti"
      },
      "execution_count": null,
      "outputs": []
    },
    {
      "cell_type": "code",
      "source": [
        "from keras.utils.data_utils import Sequence\n",
        "from imblearn.over_sampling import RandomOverSampler\n",
        "from imblearn.tensorflow import balanced_batch_generator\n",
        "\n",
        "class BalancedDataGenerator(Sequence):\n",
        "    \"\"\"ImageDataGenerator + RandomOversampling\"\"\"\n",
        "    def __init__(self, x, y, datagen, batch_size=32):\n",
        "        self.datagen = datagen\n",
        "        self.batch_size = min(batch_size, x.shape[0])\n",
        "        datagen.fit(x)\n",
        "        self.gen, self.steps_per_epoch = balanced_batch_generator(x.reshape(x.shape[0], -1), y, sampler=RandomOverSampler(), batch_size=self.batch_size, keep_sparse=True)\n",
        "        self._shape = (self.steps_per_epoch * batch_size, *x.shape[1:])\n",
        "\n",
        "    def __len__(self):\n",
        "        return self.steps_per_epoch\n",
        "\n",
        "    def __getitem__(self, idx):\n",
        "        x_batch, y_batch = self.gen.__next__()\n",
        "        x_batch = x_batch.reshape(-1, *self._shape[1:])\n",
        "        return self.datagen.flow(x_batch, y_batch, batch_size=self.batch_size).next()"
      ],
      "metadata": {
        "id": "fB94yMEbkjJu"
      },
      "execution_count": null,
      "outputs": []
    },
    {
      "cell_type": "code",
      "source": [
        "data_generator = ImageDataGenerator(\n",
        "                        featurewise_center=False,\n",
        "                        featurewise_std_normalization=False,\n",
        "                        samplewise_std_normalization=False,  # divide each input by its std\n",
        "                        zca_whitening=False,\n",
        "                        rotation_range=10,\n",
        "                        shear_range = 10,\n",
        "                        width_shift_range=0.2,\n",
        "                        height_shift_range=0.2,\n",
        "                        zoom_range=.1,\n",
        "                        horizontal_flip=True,\n",
        "                        vertical_flip=False)\n",
        "\n",
        "\n",
        "balanced_gen_male = data_generator.flow(X_train_male,Y_train_male,)"
      ],
      "metadata": {
        "id": "M_AsxH1OeUJh"
      },
      "execution_count": null,
      "outputs": []
    },
    {
      "cell_type": "code",
      "source": [
        "# Create an instance of the data generator\n",
        "\n",
        "# # datagen = ImageDataGenerator(rotation_range=10,)\n",
        "# balanced_gen_male = BalancedDataGenerator(X_train_male,Y_train_male, datagen, batch_size=32)\n",
        "# # balanced_gen_val_male = BalancedDataGenerator(X_test_male, Y_test_male, datagen, batch_size=32)"
      ],
      "metadata": {
        "id": "9jdd3zQuEuOs"
      },
      "execution_count": null,
      "outputs": []
    },
    {
      "cell_type": "markdown",
      "source": [
        "**Learning Rate Scheduler**"
      ],
      "metadata": {
        "id": "_LNvGe7P8sN6"
      }
    },
    {
      "cell_type": "code",
      "source": [
        "class LossLearningRateScheduler(tf.keras.callbacks.History):\n",
        "    \"\"\"\n",
        "    A learning rate scheduler that relies on changes in loss function\n",
        "    value to dictate whether learning rate is decayed or not.\n",
        "    LossLearningRateScheduler has the following properties:\n",
        "    base_lr: the starting learning rate\n",
        "    lookback_epochs: the number of epochs in the past to compare with the loss function at the current epoch to determine if progress is being made.\n",
        "    decay_threshold / decay_multiple: if loss function has not improved by a factor of decay_threshold * lookback_epochs, then decay_multiple will be applied to the learning rate.\n",
        "    spike_epochs: list of the epoch numbers where you want to spike the learning rate.\n",
        "    spike_multiple: the multiple applied to the current learning rate for a spike.\n",
        "    \"\"\"\n",
        "\n",
        "    def __init__(self, base_lr, lookback_epochs, spike_epochs = None, spike_multiple = 10, decay_threshold = 0.002, decay_multiple = 0.7, loss_type = 'val_loss'):\n",
        "\n",
        "        super(LossLearningRateScheduler, self).__init__()\n",
        "\n",
        "        self.base_lr = base_lr\n",
        "        self.lookback_epochs = lookback_epochs\n",
        "        self.spike_epochs = spike_epochs\n",
        "        self.spike_multiple = spike_multiple\n",
        "        self.decay_threshold = decay_threshold\n",
        "        self.decay_multiple = decay_multiple\n",
        "        self.loss_type = loss_type\n",
        "\n",
        "\n",
        "    def on_epoch_begin(self, epoch, logs=None):\n",
        "\n",
        "        if len(self.epoch) > self.lookback_epochs:\n",
        "\n",
        "            current_lr = tf.keras.backend.get_value(self.model.optimizer.lr)\n",
        "\n",
        "            target_loss = self.history[self.loss_type]\n",
        "\n",
        "            loss_diff =  target_loss[-int(self.lookback_epochs)] - target_loss[-1]\n",
        "\n",
        "            if loss_diff <= np.abs(target_loss[-1]) * (self.decay_threshold * self.lookback_epochs):\n",
        "\n",
        "                print(' '.join(('Changing learning rate from', str(current_lr), 'to', str(current_lr * self.decay_multiple))))\n",
        "                tf.keras.backend.set_value(self.model.optimizer.lr, current_lr * self.decay_multiple)\n",
        "                current_lr = current_lr * self.decay_multiple\n",
        "\n",
        "            else:\n",
        "\n",
        "                print(' '.join(('Learning rate:', str(current_lr))))\n",
        "\n",
        "            if self.spike_epochs is not None and len(self.epoch) in self.spike_epochs:\n",
        "                print(' '.join(('Spiking learning rate from', str(current_lr), 'to', str(current_lr * self.spike_multiple))))\n",
        "                tf.keras.backend.set_value(self.model.optimizer.lr, current_lr * self.spike_multiple)\n",
        "\n",
        "        else:\n",
        "\n",
        "            print(' '.join(('Setting learning rate to', str(self.base_lr))))\n",
        "            tf.keras.backend.set_value(self.model.optimizer.lr, self.base_lr)\n",
        "\n",
        "\n",
        "        return tf.keras.backend.get_value(self.model.optimizer.lr)\n",
        "\n"
      ],
      "metadata": {
        "id": "Nk9qlA8drDoP"
      },
      "execution_count": null,
      "outputs": []
    },
    {
      "cell_type": "code",
      "source": [
        "callback_lr = LossLearningRateScheduler(base_lr=0.001, lookback_epochs=5)"
      ],
      "metadata": {
        "id": "jCsDItdF8lx6"
      },
      "execution_count": null,
      "outputs": []
    },
    {
      "cell_type": "code",
      "source": [
        "filepath = '/content/drive/MyDrive/Reserch/best_model_cifar10_male.hdf5'\n",
        "from tensorflow.keras.callbacks import Callback\n",
        "from tensorflow.keras.callbacks import EarlyStopping\n",
        "\n",
        "\n",
        "checkpoint = ModelCheckpoint(filepath=filepath,\n",
        "                             monitor='val_accuracy',\n",
        "                             verbose=1,\n",
        "                             save_best_only=True)\n",
        "\n",
        "stop = EarlyStopping(monitor='val_accuracy', patience =5,\n",
        "                      verbose=0, mode='auto', baseline=None,\n",
        "                      restore_best_weights=False)\n",
        "\n",
        "callbacks = [checkpoint,stop,callback_lr]"
      ],
      "metadata": {
        "id": "lKeY2EE2IXdX"
      },
      "execution_count": null,
      "outputs": []
    },
    {
      "cell_type": "code",
      "source": [
        "from keras import layers\n"
      ],
      "metadata": {
        "id": "re9E9UYo5K6Q"
      },
      "execution_count": null,
      "outputs": []
    },
    {
      "cell_type": "markdown",
      "source": [
        "# **Model Buliding**"
      ],
      "metadata": {
        "id": "cT6olR_y8VQS"
      }
    },
    {
      "cell_type": "code",
      "source": [
        "from keras.models import Sequential\n",
        "from keras.layers import Conv2D, BatchNormalization\n",
        "from keras.regularizers import l2  # Import l2 function"
      ],
      "metadata": {
        "id": "pfLRe1Xmqft7"
      },
      "execution_count": null,
      "outputs": []
    },
    {
      "cell_type": "code",
      "source": [
        "img_size = 48"
      ],
      "metadata": {
        "id": "gM8KmfJLqr4c"
      },
      "execution_count": null,
      "outputs": []
    },
    {
      "cell_type": "code",
      "source": [
        "\n",
        "    num_classes = 6\n",
        "    model = Sequential()\n",
        "    #the 1-st block\n",
        "    model.add(Conv2D(64,(3,3),padding='same',input_shape =(48,48,1)))\n",
        "    model.add(BatchNormalization())\n",
        "    model.add(Activation('relu'))\n",
        "    model.add(MaxPooling2D(pool_size=(2,2)))\n",
        "    model.add(Dropout(0.25))\n",
        "\n",
        "    model.add(Conv2D(128,(5,5),padding='same'))\n",
        "    model.add(BatchNormalization())\n",
        "    model.add(Activation('relu'))\n",
        "    model.add(MaxPooling2D(pool_size=(2,2)))\n",
        "    model.add(Dropout(0.25))\n",
        "\n",
        "    model.add(Conv2D(512,(3,3),padding='same'))\n",
        "    model.add(BatchNormalization())\n",
        "    model.add(Activation('relu'))\n",
        "    model.add(MaxPooling2D(pool_size=(2,2)))\n",
        "    model.add(Dropout(0.25))\n",
        "\n",
        "    model.add(Conv2D(512,(3,3),padding='same'))\n",
        "    model.add(BatchNormalization())\n",
        "    model.add(Activation('relu'))\n",
        "    model.add(MaxPooling2D(pool_size=(2,2)))\n",
        "    model.add(Dropout(0.25))\n",
        "\n",
        "    model.add(Flatten())\n",
        "\n",
        "    model.add(Dense(256,))\n",
        "    model.add(BatchNormalization())\n",
        "    model.add(Activation('relu'))\n",
        "    model.add(Dropout(0.25))\n",
        "\n",
        "\n",
        "    model.add(Dense(512,))\n",
        "    model.add(BatchNormalization())\n",
        "    model.add(Activation('relu'))\n",
        "    model.add(Dropout(0.25))\n",
        "\n",
        "    model.add(Dense(num_classes,activation='softmax'))\n",
        "\n",
        "\n",
        "\n",
        "    print(model.summary())\n"
      ],
      "metadata": {
        "id": "xOGCxm5wjzyr",
        "colab": {
          "base_uri": "https://localhost:8080/"
        },
        "outputId": "19afc839-0595-41ae-f72d-421600c4c708"
      },
      "execution_count": null,
      "outputs": [
        {
          "output_type": "stream",
          "name": "stdout",
          "text": [
            "Model: \"sequential\"\n",
            "_________________________________________________________________\n",
            " Layer (type)                Output Shape              Param #   \n",
            "=================================================================\n",
            " conv2d (Conv2D)             (None, 48, 48, 64)        640       \n",
            "                                                                 \n",
            " batch_normalization (BatchN  (None, 48, 48, 64)       256       \n",
            " ormalization)                                                   \n",
            "                                                                 \n",
            " activation (Activation)     (None, 48, 48, 64)        0         \n",
            "                                                                 \n",
            " max_pooling2d (MaxPooling2D  (None, 24, 24, 64)       0         \n",
            " )                                                               \n",
            "                                                                 \n",
            " dropout (Dropout)           (None, 24, 24, 64)        0         \n",
            "                                                                 \n",
            " conv2d_1 (Conv2D)           (None, 24, 24, 128)       204928    \n",
            "                                                                 \n",
            " batch_normalization_1 (Batc  (None, 24, 24, 128)      512       \n",
            " hNormalization)                                                 \n",
            "                                                                 \n",
            " activation_1 (Activation)   (None, 24, 24, 128)       0         \n",
            "                                                                 \n",
            " max_pooling2d_1 (MaxPooling  (None, 12, 12, 128)      0         \n",
            " 2D)                                                             \n",
            "                                                                 \n",
            " dropout_1 (Dropout)         (None, 12, 12, 128)       0         \n",
            "                                                                 \n",
            " conv2d_2 (Conv2D)           (None, 12, 12, 512)       590336    \n",
            "                                                                 \n",
            " batch_normalization_2 (Batc  (None, 12, 12, 512)      2048      \n",
            " hNormalization)                                                 \n",
            "                                                                 \n",
            " activation_2 (Activation)   (None, 12, 12, 512)       0         \n",
            "                                                                 \n",
            " max_pooling2d_2 (MaxPooling  (None, 6, 6, 512)        0         \n",
            " 2D)                                                             \n",
            "                                                                 \n",
            " dropout_2 (Dropout)         (None, 6, 6, 512)         0         \n",
            "                                                                 \n",
            " conv2d_3 (Conv2D)           (None, 6, 6, 512)         2359808   \n",
            "                                                                 \n",
            " batch_normalization_3 (Batc  (None, 6, 6, 512)        2048      \n",
            " hNormalization)                                                 \n",
            "                                                                 \n",
            " activation_3 (Activation)   (None, 6, 6, 512)         0         \n",
            "                                                                 \n",
            " max_pooling2d_3 (MaxPooling  (None, 3, 3, 512)        0         \n",
            " 2D)                                                             \n",
            "                                                                 \n",
            " dropout_3 (Dropout)         (None, 3, 3, 512)         0         \n",
            "                                                                 \n",
            " flatten (Flatten)           (None, 4608)              0         \n",
            "                                                                 \n",
            " dense (Dense)               (None, 256)               1179904   \n",
            "                                                                 \n",
            " batch_normalization_4 (Batc  (None, 256)              1024      \n",
            " hNormalization)                                                 \n",
            "                                                                 \n",
            " activation_4 (Activation)   (None, 256)               0         \n",
            "                                                                 \n",
            " dropout_4 (Dropout)         (None, 256)               0         \n",
            "                                                                 \n",
            " dense_1 (Dense)             (None, 512)               131584    \n",
            "                                                                 \n",
            " batch_normalization_5 (Batc  (None, 512)              2048      \n",
            " hNormalization)                                                 \n",
            "                                                                 \n",
            " activation_5 (Activation)   (None, 512)               0         \n",
            "                                                                 \n",
            " dropout_5 (Dropout)         (None, 512)               0         \n",
            "                                                                 \n",
            " dense_2 (Dense)             (None, 6)                 3078      \n",
            "                                                                 \n",
            "=================================================================\n",
            "Total params: 4,478,214\n",
            "Trainable params: 4,474,246\n",
            "Non-trainable params: 3,968\n",
            "_________________________________________________________________\n",
            "None\n"
          ]
        }
      ]
    },
    {
      "cell_type": "markdown",
      "source": [
        "# **Train the model**"
      ],
      "metadata": {
        "id": "fphXM2sC9kv_"
      }
    },
    {
      "cell_type": "code",
      "source": [
        "batch = 32\n",
        "epoch = 50\n",
        "optimizer = Adam(beta_1=0.9, beta_2=0.999, amsgrad=False)\n",
        "model.compile(optimizer=optimizer, loss='categorical_crossentropy', metrics=['accuracy'])\n",
        "history = model.fit(balanced_gen_male, batch_size=batch, epochs=epoch, class_weight=class_weights, validation_data=(X_test_male,Y_test_male),callbacks=callbacks)"
      ],
      "metadata": {
        "id": "0TjYAL-F8IeY",
        "colab": {
          "base_uri": "https://localhost:8080/"
        },
        "outputId": "a3502b65-3a5a-42dc-d963-0d9a2f58ac9e"
      },
      "execution_count": null,
      "outputs": [
        {
          "output_type": "stream",
          "name": "stdout",
          "text": [
            "Setting learning rate to 0.001\n",
            "Epoch 1/50\n",
            "439/441 [============================>.] - ETA: 0s - loss: 1.9877 - accuracy: 0.1948\n",
            "Epoch 1: val_accuracy improved from -inf to 0.24210, saving model to /content/drive/MyDrive/Reserch/best_model_cifar10_male.hdf5\n",
            "441/441 [==============================] - 31s 36ms/step - loss: 1.9862 - accuracy: 0.1952 - val_loss: 1.7099 - val_accuracy: 0.2421\n",
            "Setting learning rate to 0.001\n",
            "Epoch 2/50\n",
            "439/441 [============================>.] - ETA: 0s - loss: 1.7938 - accuracy: 0.2407\n",
            "Epoch 2: val_accuracy improved from 0.24210 to 0.30032, saving model to /content/drive/MyDrive/Reserch/best_model_cifar10_male.hdf5\n",
            "441/441 [==============================] - 14s 32ms/step - loss: 1.7934 - accuracy: 0.2411 - val_loss: 1.6340 - val_accuracy: 0.3003\n",
            "Setting learning rate to 0.001\n",
            "Epoch 3/50\n",
            "441/441 [==============================] - ETA: 0s - loss: 1.7220 - accuracy: 0.2774\n",
            "Epoch 3: val_accuracy did not improve from 0.30032\n",
            "441/441 [==============================] - 15s 34ms/step - loss: 1.7220 - accuracy: 0.2774 - val_loss: 2.0313 - val_accuracy: 0.1974\n",
            "Setting learning rate to 0.001\n",
            "Epoch 4/50\n",
            "440/441 [============================>.] - ETA: 0s - loss: 1.6459 - accuracy: 0.3120\n",
            "Epoch 4: val_accuracy improved from 0.30032 to 0.32233, saving model to /content/drive/MyDrive/Reserch/best_model_cifar10_male.hdf5\n",
            "441/441 [==============================] - 14s 31ms/step - loss: 1.6450 - accuracy: 0.3125 - val_loss: 1.6434 - val_accuracy: 0.3223\n",
            "Setting learning rate to 0.001\n",
            "Epoch 5/50\n",
            "441/441 [==============================] - ETA: 0s - loss: 1.5867 - accuracy: 0.3432\n",
            "Epoch 5: val_accuracy improved from 0.32233 to 0.34611, saving model to /content/drive/MyDrive/Reserch/best_model_cifar10_male.hdf5\n",
            "441/441 [==============================] - 14s 33ms/step - loss: 1.5867 - accuracy: 0.3432 - val_loss: 1.5235 - val_accuracy: 0.3461\n",
            "Setting learning rate to 0.001\n",
            "Epoch 6/50\n",
            "439/441 [============================>.] - ETA: 0s - loss: 1.5246 - accuracy: 0.3608\n",
            "Epoch 6: val_accuracy improved from 0.34611 to 0.38339, saving model to /content/drive/MyDrive/Reserch/best_model_cifar10_male.hdf5\n",
            "441/441 [==============================] - 15s 33ms/step - loss: 1.5251 - accuracy: 0.3609 - val_loss: 1.5242 - val_accuracy: 0.3834\n",
            "Learning rate: 0.001\n",
            "Epoch 7/50\n",
            "440/441 [============================>.] - ETA: 0s - loss: 1.4795 - accuracy: 0.3811\n",
            "Epoch 7: val_accuracy improved from 0.38339 to 0.41960, saving model to /content/drive/MyDrive/Reserch/best_model_cifar10_male.hdf5\n",
            "441/441 [==============================] - 14s 31ms/step - loss: 1.4794 - accuracy: 0.3807 - val_loss: 1.4084 - val_accuracy: 0.4196\n",
            "Learning rate: 0.001\n",
            "Epoch 8/50\n",
            "440/441 [============================>.] - ETA: 0s - loss: 1.4562 - accuracy: 0.3983\n",
            "Epoch 8: val_accuracy did not improve from 0.41960\n",
            "441/441 [==============================] - 13s 28ms/step - loss: 1.4554 - accuracy: 0.3983 - val_loss: 1.4893 - val_accuracy: 0.4068\n",
            "Learning rate: 0.001\n",
            "Epoch 9/50\n",
            "441/441 [==============================] - ETA: 0s - loss: 1.4313 - accuracy: 0.4086\n",
            "Epoch 9: val_accuracy improved from 0.41960 to 0.44054, saving model to /content/drive/MyDrive/Reserch/best_model_cifar10_male.hdf5\n",
            "441/441 [==============================] - 15s 34ms/step - loss: 1.4313 - accuracy: 0.4086 - val_loss: 1.3939 - val_accuracy: 0.4405\n",
            "Learning rate: 0.001\n",
            "Epoch 10/50\n",
            "439/441 [============================>.] - ETA: 0s - loss: 1.3917 - accuracy: 0.4178\n",
            "Epoch 10: val_accuracy improved from 0.44054 to 0.44586, saving model to /content/drive/MyDrive/Reserch/best_model_cifar10_male.hdf5\n",
            "441/441 [==============================] - 15s 34ms/step - loss: 1.3922 - accuracy: 0.4177 - val_loss: 1.3322 - val_accuracy: 0.4459\n",
            "Learning rate: 0.001\n",
            "Epoch 11/50\n",
            "441/441 [==============================] - ETA: 0s - loss: 1.3716 - accuracy: 0.4322\n",
            "Epoch 11: val_accuracy improved from 0.44586 to 0.44941, saving model to /content/drive/MyDrive/Reserch/best_model_cifar10_male.hdf5\n",
            "441/441 [==============================] - 14s 31ms/step - loss: 1.3716 - accuracy: 0.4322 - val_loss: 1.3713 - val_accuracy: 0.4494\n",
            "Learning rate: 0.001\n",
            "Epoch 12/50\n",
            "439/441 [============================>.] - ETA: 0s - loss: 1.3656 - accuracy: 0.4299\n",
            "Epoch 12: val_accuracy did not improve from 0.44941\n",
            "441/441 [==============================] - 14s 31ms/step - loss: 1.3658 - accuracy: 0.4298 - val_loss: 1.4768 - val_accuracy: 0.4100\n",
            "Changing learning rate from 0.001 to 0.0007000000332482159\n",
            "Epoch 13/50\n",
            "441/441 [==============================] - ETA: 0s - loss: 1.3228 - accuracy: 0.4505\n",
            "Epoch 13: val_accuracy improved from 0.44941 to 0.45758, saving model to /content/drive/MyDrive/Reserch/best_model_cifar10_male.hdf5\n",
            "441/441 [==============================] - 15s 34ms/step - loss: 1.3228 - accuracy: 0.4505 - val_loss: 1.3308 - val_accuracy: 0.4576\n",
            "Learning rate: 0.00070000003\n",
            "Epoch 14/50\n",
            "440/441 [============================>.] - ETA: 0s - loss: 1.3015 - accuracy: 0.4612\n",
            "Epoch 14: val_accuracy improved from 0.45758 to 0.46681, saving model to /content/drive/MyDrive/Reserch/best_model_cifar10_male.hdf5\n",
            "441/441 [==============================] - 15s 33ms/step - loss: 1.3015 - accuracy: 0.4610 - val_loss: 1.2709 - val_accuracy: 0.4668\n",
            "Learning rate: 0.00070000003\n",
            "Epoch 15/50\n",
            "440/441 [============================>.] - ETA: 0s - loss: 1.2875 - accuracy: 0.4656\n",
            "Epoch 15: val_accuracy improved from 0.46681 to 0.47817, saving model to /content/drive/MyDrive/Reserch/best_model_cifar10_male.hdf5\n",
            "441/441 [==============================] - 14s 31ms/step - loss: 1.2874 - accuracy: 0.4656 - val_loss: 1.2982 - val_accuracy: 0.4782\n",
            "Learning rate: 0.00070000003\n",
            "Epoch 16/50\n",
            "441/441 [==============================] - ETA: 0s - loss: 1.2816 - accuracy: 0.4678\n",
            "Epoch 16: val_accuracy improved from 0.47817 to 0.49414, saving model to /content/drive/MyDrive/Reserch/best_model_cifar10_male.hdf5\n",
            "441/441 [==============================] - 14s 31ms/step - loss: 1.2816 - accuracy: 0.4678 - val_loss: 1.2462 - val_accuracy: 0.4941\n",
            "Learning rate: 0.00070000003\n",
            "Epoch 17/50\n",
            "441/441 [==============================] - ETA: 0s - loss: 1.2668 - accuracy: 0.4710\n",
            "Epoch 17: val_accuracy improved from 0.49414 to 0.51154, saving model to /content/drive/MyDrive/Reserch/best_model_cifar10_male.hdf5\n",
            "441/441 [==============================] - 17s 38ms/step - loss: 1.2668 - accuracy: 0.4710 - val_loss: 1.2114 - val_accuracy: 0.5115\n",
            "Learning rate: 0.00070000003\n",
            "Epoch 18/50\n",
            "439/441 [============================>.] - ETA: 0s - loss: 1.2439 - accuracy: 0.4823\n",
            "Epoch 18: val_accuracy did not improve from 0.51154\n",
            "441/441 [==============================] - 14s 31ms/step - loss: 1.2440 - accuracy: 0.4821 - val_loss: 1.2104 - val_accuracy: 0.5020\n",
            "Learning rate: 0.00070000003\n",
            "Epoch 19/50\n",
            "441/441 [==============================] - ETA: 0s - loss: 1.2440 - accuracy: 0.4809\n",
            "Epoch 19: val_accuracy improved from 0.51154 to 0.53390, saving model to /content/drive/MyDrive/Reserch/best_model_cifar10_male.hdf5\n",
            "441/441 [==============================] - 15s 34ms/step - loss: 1.2440 - accuracy: 0.4809 - val_loss: 1.1641 - val_accuracy: 0.5339\n",
            "Learning rate: 0.00070000003\n",
            "Epoch 20/50\n",
            "440/441 [============================>.] - ETA: 0s - loss: 1.2365 - accuracy: 0.4912\n",
            "Epoch 20: val_accuracy did not improve from 0.53390\n",
            "441/441 [==============================] - 13s 30ms/step - loss: 1.2371 - accuracy: 0.4912 - val_loss: 1.3117 - val_accuracy: 0.4938\n",
            "Changing learning rate from 0.00070000003 to 0.0004900000232737511\n",
            "Epoch 21/50\n",
            "441/441 [==============================] - ETA: 0s - loss: 1.2078 - accuracy: 0.4945\n",
            "Epoch 21: val_accuracy improved from 0.53390 to 0.54775, saving model to /content/drive/MyDrive/Reserch/best_model_cifar10_male.hdf5\n",
            "441/441 [==============================] - 13s 30ms/step - loss: 1.2078 - accuracy: 0.4945 - val_loss: 1.1475 - val_accuracy: 0.5477\n",
            "Learning rate: 0.00049\n",
            "Epoch 22/50\n",
            "439/441 [============================>.] - ETA: 0s - loss: 1.1866 - accuracy: 0.5032\n",
            "Epoch 22: val_accuracy improved from 0.54775 to 0.55875, saving model to /content/drive/MyDrive/Reserch/best_model_cifar10_male.hdf5\n",
            "441/441 [==============================] - 14s 32ms/step - loss: 1.1864 - accuracy: 0.5031 - val_loss: 1.1219 - val_accuracy: 0.5588\n",
            "Learning rate: 0.00049\n",
            "Epoch 23/50\n",
            "440/441 [============================>.] - ETA: 0s - loss: 1.1815 - accuracy: 0.5116\n",
            "Epoch 23: val_accuracy did not improve from 0.55875\n",
            "441/441 [==============================] - 13s 30ms/step - loss: 1.1819 - accuracy: 0.5115 - val_loss: 1.1203 - val_accuracy: 0.5453\n",
            "Learning rate: 0.00049\n",
            "Epoch 24/50\n",
            "440/441 [============================>.] - ETA: 0s - loss: 1.1706 - accuracy: 0.5116\n",
            "Epoch 24: val_accuracy did not improve from 0.55875\n",
            "441/441 [==============================] - 13s 29ms/step - loss: 1.1706 - accuracy: 0.5119 - val_loss: 1.1724 - val_accuracy: 0.5417\n",
            "Learning rate: 0.00049\n",
            "Epoch 25/50\n",
            "440/441 [============================>.] - ETA: 0s - loss: 1.1582 - accuracy: 0.5160\n",
            "Epoch 25: val_accuracy improved from 0.55875 to 0.57082, saving model to /content/drive/MyDrive/Reserch/best_model_cifar10_male.hdf5\n",
            "441/441 [==============================] - 15s 34ms/step - loss: 1.1581 - accuracy: 0.5160 - val_loss: 1.0991 - val_accuracy: 0.5708\n",
            "Learning rate: 0.00049\n",
            "Epoch 26/50\n",
            "440/441 [============================>.] - ETA: 0s - loss: 1.1541 - accuracy: 0.5201\n",
            "Epoch 26: val_accuracy did not improve from 0.57082\n",
            "441/441 [==============================] - 13s 30ms/step - loss: 1.1543 - accuracy: 0.5199 - val_loss: 1.1065 - val_accuracy: 0.5644\n",
            "Learning rate: 0.00049\n",
            "Epoch 27/50\n",
            "441/441 [==============================] - ETA: 0s - loss: 1.1406 - accuracy: 0.5201\n",
            "Epoch 27: val_accuracy did not improve from 0.57082\n",
            "441/441 [==============================] - 13s 29ms/step - loss: 1.1406 - accuracy: 0.5201 - val_loss: 1.1138 - val_accuracy: 0.5662\n",
            "Changing learning rate from 0.00049 to 0.00034300000406801696\n",
            "Epoch 28/50\n",
            "441/441 [==============================] - ETA: 0s - loss: 1.1188 - accuracy: 0.5334\n",
            "Epoch 28: val_accuracy did not improve from 0.57082\n",
            "441/441 [==============================] - 12s 27ms/step - loss: 1.1188 - accuracy: 0.5334 - val_loss: 1.1082 - val_accuracy: 0.5666\n",
            "Learning rate: 0.000343\n",
            "Epoch 29/50\n",
            "441/441 [==============================] - ETA: 0s - loss: 1.1086 - accuracy: 0.5352\n",
            "Epoch 29: val_accuracy improved from 0.57082 to 0.57792, saving model to /content/drive/MyDrive/Reserch/best_model_cifar10_male.hdf5\n",
            "441/441 [==============================] - 15s 34ms/step - loss: 1.1086 - accuracy: 0.5352 - val_loss: 1.0771 - val_accuracy: 0.5779\n",
            "Learning rate: 0.000343\n",
            "Epoch 30/50\n",
            "440/441 [============================>.] - ETA: 0s - loss: 1.1021 - accuracy: 0.5364\n",
            "Epoch 30: val_accuracy improved from 0.57792 to 0.57934, saving model to /content/drive/MyDrive/Reserch/best_model_cifar10_male.hdf5\n",
            "441/441 [==============================] - 15s 33ms/step - loss: 1.1021 - accuracy: 0.5363 - val_loss: 1.0639 - val_accuracy: 0.5793\n",
            "Learning rate: 0.000343\n",
            "Epoch 31/50\n",
            "439/441 [============================>.] - ETA: 0s - loss: 1.0970 - accuracy: 0.5411\n",
            "Epoch 31: val_accuracy improved from 0.57934 to 0.58111, saving model to /content/drive/MyDrive/Reserch/best_model_cifar10_male.hdf5\n",
            "441/441 [==============================] - 14s 32ms/step - loss: 1.0961 - accuracy: 0.5414 - val_loss: 1.0781 - val_accuracy: 0.5811\n",
            "Learning rate: 0.000343\n",
            "Epoch 32/50\n",
            "439/441 [============================>.] - ETA: 0s - loss: 1.0894 - accuracy: 0.5388\n",
            "Epoch 32: val_accuracy did not improve from 0.58111\n",
            "441/441 [==============================] - 15s 34ms/step - loss: 1.0895 - accuracy: 0.5387 - val_loss: 1.0690 - val_accuracy: 0.5758\n",
            "Learning rate: 0.000343\n",
            "Epoch 33/50\n",
            "441/441 [==============================] - ETA: 0s - loss: 1.1017 - accuracy: 0.5373\n",
            "Epoch 33: val_accuracy improved from 0.58111 to 0.59354, saving model to /content/drive/MyDrive/Reserch/best_model_cifar10_male.hdf5\n",
            "441/441 [==============================] - 14s 32ms/step - loss: 1.1017 - accuracy: 0.5373 - val_loss: 1.0565 - val_accuracy: 0.5935\n",
            "Learning rate: 0.000343\n",
            "Epoch 34/50\n",
            "439/441 [============================>.] - ETA: 0s - loss: 1.0789 - accuracy: 0.5418\n",
            "Epoch 34: val_accuracy did not improve from 0.59354\n",
            "441/441 [==============================] - 13s 30ms/step - loss: 1.0778 - accuracy: 0.5420 - val_loss: 1.0931 - val_accuracy: 0.5786\n",
            "Changing learning rate from 0.000343 to 0.00024009999469853935\n",
            "Epoch 35/50\n",
            "440/441 [============================>.] - ETA: 0s - loss: 1.0655 - accuracy: 0.5521\n",
            "Epoch 35: val_accuracy did not improve from 0.59354\n",
            "441/441 [==============================] - 13s 30ms/step - loss: 1.0663 - accuracy: 0.5522 - val_loss: 1.0403 - val_accuracy: 0.5836\n",
            "Learning rate: 0.0002401\n",
            "Epoch 36/50\n",
            "441/441 [==============================] - ETA: 0s - loss: 1.0588 - accuracy: 0.5524\n",
            "Epoch 36: val_accuracy did not improve from 0.59354\n",
            "441/441 [==============================] - 12s 27ms/step - loss: 1.0588 - accuracy: 0.5524 - val_loss: 1.0726 - val_accuracy: 0.5843\n",
            "Changing learning rate from 0.0002401 to 0.00016806999628897755\n",
            "Epoch 37/50\n",
            "441/441 [==============================] - ETA: 0s - loss: 1.0527 - accuracy: 0.5558\n",
            "Epoch 37: val_accuracy improved from 0.59354 to 0.59851, saving model to /content/drive/MyDrive/Reserch/best_model_cifar10_male.hdf5\n",
            "441/441 [==============================] - 13s 30ms/step - loss: 1.0527 - accuracy: 0.5558 - val_loss: 1.0128 - val_accuracy: 0.5985\n",
            "Learning rate: 0.00016807\n",
            "Epoch 38/50\n",
            "441/441 [==============================] - ETA: 0s - loss: 1.0398 - accuracy: 0.5624\n",
            "Epoch 38: val_accuracy did not improve from 0.59851\n",
            "441/441 [==============================] - 14s 31ms/step - loss: 1.0398 - accuracy: 0.5624 - val_loss: 1.0359 - val_accuracy: 0.5886\n",
            "Learning rate: 0.00016807\n",
            "Epoch 39/50\n",
            "439/441 [============================>.] - ETA: 0s - loss: 1.0438 - accuracy: 0.5590\n",
            "Epoch 39: val_accuracy improved from 0.59851 to 0.60525, saving model to /content/drive/MyDrive/Reserch/best_model_cifar10_male.hdf5\n",
            "441/441 [==============================] - 13s 29ms/step - loss: 1.0448 - accuracy: 0.5585 - val_loss: 1.0089 - val_accuracy: 0.6053\n",
            "Learning rate: 0.00016807\n",
            "Epoch 40/50\n",
            "440/441 [============================>.] - ETA: 0s - loss: 1.0428 - accuracy: 0.5606\n",
            "Epoch 40: val_accuracy did not improve from 0.60525\n",
            "441/441 [==============================] - 13s 30ms/step - loss: 1.0425 - accuracy: 0.5605 - val_loss: 1.0353 - val_accuracy: 0.5964\n",
            "Learning rate: 0.00016807\n",
            "Epoch 41/50\n",
            "441/441 [==============================] - ETA: 0s - loss: 1.0395 - accuracy: 0.5661\n",
            "Epoch 41: val_accuracy did not improve from 0.60525\n",
            "441/441 [==============================] - 11s 26ms/step - loss: 1.0395 - accuracy: 0.5661 - val_loss: 1.0185 - val_accuracy: 0.5932\n",
            "Changing learning rate from 0.00016807 to 0.00011764899536501615\n",
            "Epoch 42/50\n",
            "441/441 [==============================] - ETA: 0s - loss: 1.0256 - accuracy: 0.5733\n",
            "Epoch 42: val_accuracy did not improve from 0.60525\n",
            "441/441 [==============================] - 14s 31ms/step - loss: 1.0256 - accuracy: 0.5733 - val_loss: 1.0126 - val_accuracy: 0.6042\n",
            "Learning rate: 0.000117649\n",
            "Epoch 43/50\n",
            "441/441 [==============================] - ETA: 0s - loss: 1.0252 - accuracy: 0.5648\n",
            "Epoch 43: val_accuracy did not improve from 0.60525\n",
            "441/441 [==============================] - 13s 30ms/step - loss: 1.0252 - accuracy: 0.5648 - val_loss: 1.0071 - val_accuracy: 0.6049\n",
            "Changing learning rate from 0.000117649 to 8.235429777414538e-05\n",
            "Epoch 44/50\n",
            "441/441 [==============================] - ETA: 0s - loss: 1.0022 - accuracy: 0.5771\n",
            "Epoch 44: val_accuracy improved from 0.60525 to 0.61022, saving model to /content/drive/MyDrive/Reserch/best_model_cifar10_male.hdf5\n",
            "441/441 [==============================] - 13s 30ms/step - loss: 1.0022 - accuracy: 0.5771 - val_loss: 1.0089 - val_accuracy: 0.6102\n",
            "Learning rate: 8.2354294e-05\n",
            "Epoch 45/50\n",
            "439/441 [============================>.] - ETA: 0s - loss: 1.0200 - accuracy: 0.5725\n",
            "Epoch 45: val_accuracy did not improve from 0.61022\n",
            "441/441 [==============================] - 12s 27ms/step - loss: 1.0195 - accuracy: 0.5727 - val_loss: 1.0073 - val_accuracy: 0.6074\n",
            "Learning rate: 8.2354294e-05\n",
            "Epoch 46/50\n",
            "441/441 [==============================] - ETA: 0s - loss: 1.0120 - accuracy: 0.5722\n",
            "Epoch 46: val_accuracy did not improve from 0.61022\n",
            "441/441 [==============================] - 14s 32ms/step - loss: 1.0120 - accuracy: 0.5722 - val_loss: 0.9999 - val_accuracy: 0.6035\n",
            "Learning rate: 8.2354294e-05\n",
            "Epoch 47/50\n",
            "441/441 [==============================] - ETA: 0s - loss: 1.0040 - accuracy: 0.5771\n",
            "Epoch 47: val_accuracy improved from 0.61022 to 0.61342, saving model to /content/drive/MyDrive/Reserch/best_model_cifar10_male.hdf5\n",
            "441/441 [==============================] - 14s 32ms/step - loss: 1.0040 - accuracy: 0.5771 - val_loss: 1.0017 - val_accuracy: 0.6134\n",
            "Changing learning rate from 8.2354294e-05 to 5.76480058953166e-05\n",
            "Epoch 48/50\n",
            "440/441 [============================>.] - ETA: 0s - loss: 1.0003 - accuracy: 0.5770\n",
            "Epoch 48: val_accuracy did not improve from 0.61342\n",
            "441/441 [==============================] - 12s 28ms/step - loss: 1.0002 - accuracy: 0.5771 - val_loss: 1.0067 - val_accuracy: 0.6063\n",
            "Changing learning rate from 5.7648005e-05 to 4.0353603617404586e-05\n",
            "Epoch 49/50\n",
            "441/441 [==============================] - ETA: 0s - loss: 1.0047 - accuracy: 0.5741\n",
            "Epoch 49: val_accuracy did not improve from 0.61342\n",
            "441/441 [==============================] - 13s 29ms/step - loss: 1.0047 - accuracy: 0.5741 - val_loss: 1.0106 - val_accuracy: 0.6038\n",
            "Changing learning rate from 4.0353603e-05 to 2.8247522277524694e-05\n",
            "Epoch 50/50\n",
            "439/441 [============================>.] - ETA: 0s - loss: 0.9995 - accuracy: 0.5713\n",
            "Epoch 50: val_accuracy did not improve from 0.61342\n",
            "441/441 [==============================] - 13s 29ms/step - loss: 0.9983 - accuracy: 0.5721 - val_loss: 1.0053 - val_accuracy: 0.6131\n"
          ]
        }
      ]
    },
    {
      "cell_type": "code",
      "source": [
        "loss, accuracy = model.evaluate(X_test_male,Y_test_male)"
      ],
      "metadata": {
        "id": "0yQ87dpw5yy5",
        "colab": {
          "base_uri": "https://localhost:8080/"
        },
        "outputId": "72a54728-1bcc-4ea1-d2f6-235bb2512457"
      },
      "execution_count": null,
      "outputs": [
        {
          "output_type": "stream",
          "name": "stdout",
          "text": [
            "89/89 [==============================] - 1s 7ms/step - loss: 1.0053 - accuracy: 0.6131\n"
          ]
        }
      ]
    },
    {
      "cell_type": "markdown",
      "source": [
        "**Prediction results**"
      ],
      "metadata": {
        "id": "eDR0Q3819z_E"
      }
    },
    {
      "cell_type": "code",
      "source": [
        "# Assuming you have a trained model named 'model' and training data X_train and corresponding labels Y_train\n",
        "\n",
        "# Define the emotion label mapping\n",
        "label_mapping = {\n",
        "    0: \"happy\",\n",
        "    1: \"sad\",\n",
        "    2: \"neutral\",\n",
        "    3: \"fear\",\n",
        "    4: \"disgust\",\n",
        "    5: \"angry\"\n",
        "}\n",
        "\n",
        "# Make predictions on the training data\n",
        "Y_pred = model.predict(X_train_male)\n",
        "\n",
        "# Select a few examples to display\n",
        "num_examples = 10\n",
        "indices = np.random.randint(0, len(X_train_male), num_examples)\n",
        "\n",
        "# Display the predicted and actual labels for the selected examples\n",
        "for index in indices:\n",
        "    predicted_label = np.argmax(Y_pred[index])  # Get the index of the predicted class with the highest probability\n",
        "    actual_label = np.argmax(Y_train_male[index])  # Get the index of the actual class\n",
        "    predicted_emotion = label_mapping[predicted_label]\n",
        "    actual_emotion = label_mapping[actual_label]\n",
        "    print(\"Example {}: Predicted label = {}, Actual label = {}\".format(index, predicted_emotion, actual_emotion))\n"
      ],
      "metadata": {
        "id": "Iny-osZwrh1O",
        "colab": {
          "base_uri": "https://localhost:8080/"
        },
        "outputId": "e2e40965-09c5-444b-f0f1-e9effc5f8c28"
      },
      "execution_count": null,
      "outputs": [
        {
          "output_type": "stream",
          "name": "stdout",
          "text": [
            "441/441 [==============================] - 3s 6ms/step\n",
            "Example 1750: Predicted label = angry, Actual label = sad\n",
            "Example 5997: Predicted label = happy, Actual label = happy\n",
            "Example 11288: Predicted label = neutral, Actual label = angry\n",
            "Example 5032: Predicted label = angry, Actual label = angry\n",
            "Example 4029: Predicted label = happy, Actual label = happy\n",
            "Example 6165: Predicted label = neutral, Actual label = neutral\n",
            "Example 13694: Predicted label = neutral, Actual label = neutral\n",
            "Example 537: Predicted label = neutral, Actual label = neutral\n",
            "Example 2301: Predicted label = sad, Actual label = fear\n",
            "Example 11182: Predicted label = fear, Actual label = fear\n"
          ]
        }
      ]
    },
    {
      "cell_type": "code",
      "source": [
        "def plotting_epochs(training_, validation_, lossOrAccu):\n",
        "  plt.figure(figsize=[6,4])\n",
        "  plt.plot(training_, 'black', linewidth=2.0)\n",
        "  plt.plot(validation_, 'blue', linewidth=2.0)\n",
        "  plt.legend(['Training '+lossOrAccu, 'Validation '+lossOrAccu], fontsize=14)\n",
        "  plt.xlabel('Epochs', fontsize=10)\n",
        "  plt.ylabel(lossOrAccu, fontsize=10)\n",
        "  plt.title(lossOrAccu+' Curves', fontsize=12)"
      ],
      "metadata": {
        "id": "XJgLuaFT-J8s"
      },
      "execution_count": null,
      "outputs": []
    },
    {
      "cell_type": "code",
      "source": [
        "plotting_epochs(history.history['accuracy'], history.history['val_accuracy'], \"Accuracy\")\n",
        "plotting_epochs(history.history['loss'], history.history['val_loss'], \"Loss\")"
      ],
      "metadata": {
        "id": "dd188geq81_r",
        "colab": {
          "base_uri": "https://localhost:8080/",
          "height": 803
        },
        "outputId": "151b9b82-5496-4f0b-dc4c-44802fcdeda9"
      },
      "execution_count": null,
      "outputs": [
        {
          "output_type": "display_data",
          "data": {
            "text/plain": [
              "<Figure size 600x400 with 1 Axes>"
            ],
            "image/png": "[encoded data removed]"
          },
          "metadata": {}
        },
        {
          "output_type": "display_data",
          "data": {
            "text/plain": [
              "<Figure size 600x400 with 1 Axes>"
            ],
            "image/png": "[encoded data removed]"
          },
          "metadata": {}
        }
      ]
    },
    {
      "cell_type": "code",
      "source": [
        "fig, ((ax1, ax2)) = plt.subplots(nrows=1, ncols=2,figsize=(20,6))\n",
        "\n",
        "ax1.plot(history.history['accuracy'],'b', history.history['val_accuracy'], 'r')\n",
        "ax1.set_ylabel('Accuracy Rate',fontsize=12)\n",
        "ax1.set_xlabel('Iteration',fontsize=12)\n",
        "ax1.set_title(')',fontsize=14)\n",
        "\n",
        "ax1.legend(['Training Accuracy','Validation Accuracy'],fontsize=12,loc='best')\n",
        "\n",
        "ax2.plot(history.history['loss'], 'b',history.history['val_loss'],'r')\n",
        "ax2.set_ylabel('Loss',fontsize=12)\n",
        "ax2.set_xlabel('Iteration',fontsize=12)\n",
        "ax2.set_title('Learning Curve',fontsize=14)\n",
        "ax2.legend(['Training Loss','Validation Loss'],fontsize=12,loc='best')\n",
        "\n",
        "# plt.savefig('crosse_results.png')\n",
        "plt.show()"
      ],
      "metadata": {
        "id": "6IJiFJPC821D",
        "colab": {
          "base_uri": "https://localhost:8080/",
          "height": 569
        },
        "outputId": "c4650006-039c-4b9d-b921-26eac5a1ce9d"
      },
      "execution_count": null,
      "outputs": [
        {
          "output_type": "display_data",
          "data": {
            "text/plain": [
              "<Figure size 2000x600 with 2 Axes>"
            ],
            "image/png": "[encoded data removed]"
          },
          "metadata": {}
        }
      ]
    },
    {
      "cell_type": "code",
      "source": [
        "import numpy as np\n",
        "import matplotlib.pyplot as plt\n",
        "import seaborn as sns\n",
        "from sklearn.metrics import confusion_matrix\n",
        "\n",
        "# Assuming you have a trained model named 'model' and test data X_test with corresponding true labels Y_test\n",
        "\n",
        "# Make predictions on the test data\n",
        "Y_pred = model.predict(X_test_male)\n",
        "\n",
        "# Get the class labels with the highest probability for each prediction\n",
        "y_pred = np.argmax(Y_pred, axis=1)\n",
        "\n",
        "# Get the true labels for the test data\n",
        "y_true = np.argmax(Y_test_male, axis=1)\n",
        "\n",
        "# Assuming you have the true labels (y_true) and predicted labels (y_pred)\n",
        "\n",
        "# Compute the confusion matrix\n",
        "cm = confusion_matrix(y_true, y_pred)\n",
        "\n",
        "# Create a list of class labels\n",
        "class_labels = ['happy', 'sad', 'surprise', 'fear', 'disgust', 'angry']\n",
        "\n",
        "# Plot the confusion matrix\n",
        "plt.figure(figsize=(8, 6))\n",
        "sns.heatmap(cm, annot=True, fmt=\"d\", cmap='Blues', xticklabels=class_labels, yticklabels=class_labels)\n",
        "plt.title(\"Confusion Matrix\")\n",
        "plt.xlabel(\"Predicted Labels\")\n",
        "plt.ylabel(\"True Labels\")\n",
        "plt.show()"
      ],
      "metadata": {
        "id": "7_usqMAK5g3d",
        "colab": {
          "base_uri": "https://localhost:8080/",
          "height": 581
        },
        "outputId": "cc8ebfb4-8364-4614-868a-5147653a87dc"
      },
      "execution_count": null,
      "outputs": [
        {
          "output_type": "stream",
          "name": "stdout",
          "text": [
            "89/89 [==============================] - 1s 6ms/step\n"
          ]
        },
        {
          "output_type": "display_data",
          "data": {
            "text/plain": [
              "<Figure size 800x600 with 2 Axes>"
            ],
            "image/png": "[encoded data removed]"
          },
          "metadata": {}
        }
      ]
    },
    {
      "cell_type": "code",
      "source": [
        "\n",
        "from sklearn.metrics import classification_report\n",
        "\n",
        "# Assuming you have a trained model named 'model' and test data X_test and corresponding labels Y_test\n",
        "\n",
        "# Make predictions on the test data\n",
        "Y_pred = model.predict(X_test_male)\n",
        "predicted_labels = np.argmax(Y_pred, axis=1)\n",
        "\n",
        "# Generate classification report\n",
        "report = classification_report(np.argmax(Y_test_male, axis=1), predicted_labels)\n",
        "\n",
        "print(report)"
      ],
      "metadata": {
        "id": "conpb89JAm70",
        "colab": {
          "base_uri": "https://localhost:8080/"
        },
        "outputId": "9894234b-f870-43b2-c02a-5a2454bb4069"
      },
      "execution_count": null,
      "outputs": [
        {
          "output_type": "stream",
          "name": "stdout",
          "text": [
            "89/89 [==============================] - 0s 5ms/step\n",
            "              precision    recall  f1-score   support\n",
            "\n",
            "           0       0.83      0.86      0.84       553\n",
            "           1       0.53      0.39      0.45       537\n",
            "           2       0.58      0.75      0.65       646\n",
            "           3       0.58      0.44      0.50       451\n",
            "           4       0.45      0.81      0.58        75\n",
            "           5       0.57      0.54      0.55       555\n",
            "\n",
            "    accuracy                           0.61      2817\n",
            "   macro avg       0.59      0.63      0.60      2817\n",
            "weighted avg       0.61      0.61      0.60      2817\n",
            "\n"
          ]
        }
      ]
    },
    {
      "cell_type": "code",
      "source": [
        "import dlib\n",
        "from PIL import Image\n",
        "from skimage import io, color\n",
        "import matplotlib.pyplot as plt\n",
        "\n",
        "def detect_faces(image):\n",
        "    # Create a face detector\n",
        "    face_detector = dlib.get_frontal_face_detector()\n",
        "\n",
        "    # Convert image to RGB if it's in a different format\n",
        "    if image.ndim == 2:\n",
        "        # Grayscale image\n",
        "        image = color.gray2rgb(image)\n",
        "    elif image.ndim == 4:\n",
        "        # RGBA image\n",
        "        image = image[..., :3]\n",
        "\n",
        "    # Run detector and get bounding boxes of the faces in the image\n",
        "    detected_faces = face_detector(image, 1)\n",
        "    face_frames = [(x.left(), x.top(), x.right(), x.bottom()) for x in detected_faces]\n",
        "\n",
        "    return face_frames\n",
        "\n",
        "# Load image\n",
        "img_path = '/content/drive/MyDrive/photos/S057_001_00000019.png'\n",
        "image = io.imread(img_path)\n",
        "\n",
        "# Detect faces\n",
        "detected_faces = detect_faces(image)\n",
        "tab_faces = []\n",
        "# Crop faces and plot\n",
        "for n, face_rect in enumerate(detected_faces):\n",
        "    face = Image.fromarray(image).crop(face_rect)\n",
        "    tab = np.asarray(face)\n",
        "    tab_faces.append(tab)\n",
        "    plt.subplot(1, len(detected_faces), n+1)\n",
        "    plt.axis('off')\n",
        "    plt.imshow(face)\n",
        "\n",
        "plt.show()\n"
      ],
      "metadata": {
        "id": "yLtV0VxsWwo4",
        "colab": {
          "base_uri": "https://localhost:8080/",
          "height": 406
        },
        "outputId": "7fb5c5c8-b7f7-49c9-ec58-6ee8b767d384"
      },
      "execution_count": null,
      "outputs": [
        {
          "output_type": "display_data",
          "data": {
            "text/plain": [
              "<Figure size 640x480 with 1 Axes>"
            ],
            "image/png": "[encoded data removed]"
          },
          "metadata": {}
        }
      ]
    },
    {
      "cell_type": "code",
      "source": [
        "image_to_predict = np.asarray(face)\n",
        "img = cv2.resize(image_to_predict,(48,48),1)"
      ],
      "metadata": {
        "id": "_5NklaupX9k4"
      },
      "execution_count": null,
      "outputs": []
    },
    {
      "cell_type": "code",
      "source": [
        "inv_dic = {\n",
        "    0: 'happy',\n",
        "    1: 'sad',\n",
        "    2: 'suprise',\n",
        "    3: 'fear',\n",
        "    4: 'disgust',\n",
        "    5: 'angry'\n",
        "    # Add more class labels and indices as needed\n",
        "}\n"
      ],
      "metadata": {
        "id": "OQEmQYoPby4G"
      },
      "execution_count": null,
      "outputs": []
    },
    {
      "cell_type": "code",
      "source": [
        "tab = []\n",
        "tab.append(img)\n",
        "tab = np.array(tab)\n",
        "print(inv_dic[np.argmax(model.predict(tab))])\n",
        "# plt.imshow(tab[0],cmap = plt.cm.binary)"
      ],
      "metadata": {
        "id": "No-8oCsAYTTp",
        "colab": {
          "base_uri": "https://localhost:8080/"
        },
        "outputId": "f3671321-a48f-410d-a24c-28a87e41a4c8"
      },
      "execution_count": null,
      "outputs": [
        {
          "output_type": "stream",
          "name": "stdout",
          "text": [
            "1/1 [==============================] - 0s 160ms/step\n",
            "suprise\n"
          ]
        }
      ]
    },
    {
      "cell_type": "code",
      "source": [
        "for img in tab_faces :\n",
        "  img = img = cv2.resize(img,(48,48),3)\n",
        "  tab = []\n",
        "  tab.append(img)\n",
        "  tab = np.array(tab)\n",
        "  print(inv_dic[np.argmax(model.predict(tab))])"
      ],
      "metadata": {
        "id": "KDTSWgY0YgjQ",
        "colab": {
          "base_uri": "https://localhost:8080/"
        },
        "outputId": "6c490e88-c83b-45bc-ddd2-04feec10e706"
      },
      "execution_count": null,
      "outputs": [
        {
          "output_type": "stream",
          "name": "stdout",
          "text": [
            "1/1 [==============================] - 0s 21ms/step\n",
            "suprise\n"
          ]
        }
      ]
    },
    {
      "cell_type": "code",
      "source": [
        "# Load and display the original image\n",
        "original_image = Image.fromarray(image)\n",
        "plt.figure()\n",
        "plt.imshow(original_image)\n",
        "plt.axis('off')\n",
        "plt.show()"
      ],
      "metadata": {
        "id": "f0Hd9d55Yo2Y",
        "colab": {
          "base_uri": "https://localhost:8080/",
          "height": 406
        },
        "outputId": "14581e99-80a3-41b0-b00c-8045feda2e70"
      },
      "execution_count": null,
      "outputs": [
        {
          "output_type": "display_data",
          "data": {
            "text/plain": [
              "<Figure size 640x480 with 1 Axes>"
            ],
            "image/png": "[encoded data removed]"
          },
          "metadata": {}
        }
      ]
    },
    {
      "cell_type": "code",
      "source": [
        "import dlib\n",
        "from PIL import Image\n",
        "from skimage import io, color\n",
        "import matplotlib.pyplot as plt\n",
        "\n",
        "def detect_faces(image):\n",
        "    # Create a face detector\n",
        "    face_detector = dlib.get_frontal_face_detector()\n",
        "\n",
        "    # Convert image to RGB if it's in a different format\n",
        "    if image.ndim == 2:\n",
        "        # Grayscale image\n",
        "        image = color.gray2rgb(image)\n",
        "    elif image.ndim == 4:\n",
        "        # RGBA image\n",
        "        image = image[..., :3]\n",
        "\n",
        "    # Run detector and get bounding boxes of the faces in the image\n",
        "    detected_faces = face_detector(image, 1)\n",
        "    face_frames = [(x.left(), x.top(), x.right(), x.bottom()) for x in detected_faces]\n",
        "\n",
        "    return face_frames\n",
        "\n",
        "# Load image\n",
        "img_path = '/content/drive/MyDrive/photos/S999_001_00000018.png'\n",
        "image = io.imread(img_path)\n",
        "\n",
        "# Detect faces\n",
        "detected_faces = detect_faces(image)\n",
        "tab_faces = []\n",
        "# Crop faces and plot\n",
        "for n, face_rect in enumerate(detected_faces):\n",
        "    face = Image.fromarray(image).crop(face_rect)\n",
        "    tab = np.asarray(face)\n",
        "    tab_faces.append(tab)\n",
        "    plt.subplot(1, len(detected_faces), n+1)\n",
        "    plt.axis('off')\n",
        "    plt.imshow(face)\n",
        "\n",
        "plt.show()"
      ],
      "metadata": {
        "id": "OldZd-26i13n",
        "colab": {
          "base_uri": "https://localhost:8080/",
          "height": 406
        },
        "outputId": "2c3034fe-e7fa-4df0-f1c5-ba937ee07640"
      },
      "execution_count": null,
      "outputs": [
        {
          "output_type": "display_data",
          "data": {
            "text/plain": [
              "<Figure size 640x480 with 1 Axes>"
            ],
            "image/png": "[encoded data removed]"
          },
          "metadata": {}
        }
      ]
    },
    {
      "cell_type": "code",
      "source": [
        "image_to_predict = np.asarray(face)\n",
        "img = cv2.resize(image_to_predict,(48,48),1)"
      ],
      "metadata": {
        "id": "dnUsaX6gjRrU"
      },
      "execution_count": null,
      "outputs": []
    },
    {
      "cell_type": "code",
      "source": [
        "inv_dic = {\n",
        "    0: 'happy',\n",
        "    1: 'sad',\n",
        "    2: 'suprise',\n",
        "    3: 'fear',\n",
        "    4: 'disgust',\n",
        "    5: 'angry'\n",
        "    # Add more class labels and indices as needed\n",
        "}\n"
      ],
      "metadata": {
        "id": "u0x83Pd9jSsy"
      },
      "execution_count": null,
      "outputs": []
    },
    {
      "cell_type": "code",
      "source": [
        "tab = []\n",
        "tab.append(img)\n",
        "tab = np.array(tab)\n",
        "print(inv_dic[np.argmax(model.predict(tab))])\n",
        "# plt.imshow(tab[0],cmap = plt.cm.binary)"
      ],
      "metadata": {
        "id": "iVL20p22jZaE",
        "colab": {
          "base_uri": "https://localhost:8080/"
        },
        "outputId": "5a91d082-89c7-45d2-af55-b0ecbed4fa27"
      },
      "execution_count": null,
      "outputs": [
        {
          "output_type": "stream",
          "name": "stdout",
          "text": [
            "1/1 [==============================] - 0s 24ms/step\n",
            "suprise\n"
          ]
        }
      ]
    },
    {
      "cell_type": "code",
      "source": [
        "# for img in tab_faces :\n",
        "#   img = img = cv2.resize(img,(48,48),3)\n",
        "#   tab = []\n",
        "#   tab.append(img)\n",
        "#   tab = np.array(tab)\n",
        "#   print(inv_dic[np.argmax(model.predict(tab))])"
      ],
      "metadata": {
        "id": "EUo5JUQ6jdYT"
      },
      "execution_count": null,
      "outputs": []
    },
    {
      "cell_type": "code",
      "source": [
        "# # Load and display the original image\n",
        "# original_image = Image.fromarray(image)\n",
        "# plt.figure()\n",
        "# plt.imshow(original_image)\n",
        "# plt.axis('off')\n",
        "# plt.show()"
      ],
      "metadata": {
        "id": "rynoKBtLjeuZ"
      },
      "execution_count": null,
      "outputs": []
    }
  ]
}