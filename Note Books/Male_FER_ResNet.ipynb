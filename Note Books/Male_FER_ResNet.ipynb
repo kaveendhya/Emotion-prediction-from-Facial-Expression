{
  "nbformat": 4,
  "nbformat_minor": 0,
  "metadata": {
    "colab": {
      "provenance": [],
      "gpuType": "T4"
    },
    "kernelspec": {
      "name": "python3",
      "display_name": "Python 3"
    },
    "language_info": {
      "name": "python"
    },
    "accelerator": "GPU"
  },
  "cells": [
    {
      "cell_type": "markdown",
      "source": [
        "### **Insall nessaray libraries and packages**"
      ],
      "metadata": {
        "id": "NJuGubRJv3Bn"
      }
    },
    {
      "cell_type": "code",
      "source": [
        "!pip install utils"
      ],
      "metadata": {
        "colab": {
          "base_uri": "https://localhost:8080/"
        },
        "id": "Dd2Sr88ivuGb",
        "outputId": "773541f2-c09b-4621-9e73-bd9c970832ad"
      },
      "execution_count": null,
      "outputs": [
        {
          "output_type": "stream",
          "name": "stdout",
          "text": [
            "Collecting utils\n",
            "  Downloading utils-1.0.1-py2.py3-none-any.whl (21 kB)\n",
            "Installing collected packages: utils\n",
            "Successfully installed utils-1.0.1\n"
          ]
        }
      ]
    },
    {
      "cell_type": "code",
      "source": [
        "import numpy as np\n",
        "import seaborn as sns\n",
        "import matplotlib.pyplot as plt\n",
        "import utils\n",
        "import os\n",
        "%matplotlib inline\n",
        "import pandas as pd"
      ],
      "metadata": {
        "id": "rFLEl4jlsexy"
      },
      "execution_count": null,
      "outputs": []
    },
    {
      "cell_type": "code",
      "source": [
        "!pip install livelossplot"
      ],
      "metadata": {
        "colab": {
          "base_uri": "https://localhost:8080/"
        },
        "id": "z-XXzPSvwBcT",
        "outputId": "57ba7f73-e768-41b1-e74a-77a3cfcffe6c"
      },
      "execution_count": null,
      "outputs": [
        {
          "output_type": "stream",
          "name": "stdout",
          "text": [
            "Collecting livelossplot\n",
            "  Downloading livelossplot-0.5.5-py3-none-any.whl (22 kB)\n",
            "Requirement already satisfied: matplotlib in /usr/local/lib/python3.10/dist-packages (from livelossplot) (3.7.1)\n",
            "Requirement already satisfied: bokeh in /usr/local/lib/python3.10/dist-packages (from livelossplot) (3.2.2)\n",
            "Requirement already satisfied: Jinja2>=2.9 in /usr/local/lib/python3.10/dist-packages (from bokeh->livelossplot) (3.1.2)\n",
            "Requirement already satisfied: contourpy>=1 in /usr/local/lib/python3.10/dist-packages (from bokeh->livelossplot) (1.1.0)\n",
            "Requirement already satisfied: numpy>=1.16 in /usr/local/lib/python3.10/dist-packages (from bokeh->livelossplot) (1.23.5)\n",
            "Requirement already satisfied: packaging>=16.8 in /usr/local/lib/python3.10/dist-packages (from bokeh->livelossplot) (23.1)\n",
            "Requirement already satisfied: pandas>=1.2 in /usr/local/lib/python3.10/dist-packages (from bokeh->livelossplot) (1.5.3)\n",
            "Requirement already satisfied: pillow>=7.1.0 in /usr/local/lib/python3.10/dist-packages (from bokeh->livelossplot) (9.4.0)\n",
            "Requirement already satisfied: PyYAML>=3.10 in /usr/local/lib/python3.10/dist-packages (from bokeh->livelossplot) (6.0.1)\n",
            "Requirement already satisfied: tornado>=5.1 in /usr/local/lib/python3.10/dist-packages (from bokeh->livelossplot) (6.3.2)\n",
            "Requirement already satisfied: xyzservices>=2021.09.1 in /usr/local/lib/python3.10/dist-packages (from bokeh->livelossplot) (2023.7.0)\n",
            "Requirement already satisfied: cycler>=0.10 in /usr/local/lib/python3.10/dist-packages (from matplotlib->livelossplot) (0.11.0)\n",
            "Requirement already satisfied: fonttools>=4.22.0 in /usr/local/lib/python3.10/dist-packages (from matplotlib->livelossplot) (4.42.1)\n",
            "Requirement already satisfied: kiwisolver>=1.0.1 in /usr/local/lib/python3.10/dist-packages (from matplotlib->livelossplot) (1.4.4)\n",
            "Requirement already satisfied: pyparsing>=2.3.1 in /usr/local/lib/python3.10/dist-packages (from matplotlib->livelossplot) (3.1.1)\n",
            "Requirement already satisfied: python-dateutil>=2.7 in /usr/local/lib/python3.10/dist-packages (from matplotlib->livelossplot) (2.8.2)\n",
            "Requirement already satisfied: MarkupSafe>=2.0 in /usr/local/lib/python3.10/dist-packages (from Jinja2>=2.9->bokeh->livelossplot) (2.1.3)\n",
            "Requirement already satisfied: pytz>=2020.1 in /usr/local/lib/python3.10/dist-packages (from pandas>=1.2->bokeh->livelossplot) (2023.3)\n",
            "Requirement already satisfied: six>=1.5 in /usr/local/lib/python3.10/dist-packages (from python-dateutil>=2.7->matplotlib->livelossplot) (1.16.0)\n",
            "Installing collected packages: livelossplot\n",
            "Successfully installed livelossplot-0.5.5\n"
          ]
        }
      ]
    },
    {
      "cell_type": "code",
      "source": [
        "from tensorflow.keras.preprocessing.image import ImageDataGenerator\n",
        "from tensorflow.keras.layers import Dense, Input, Dropout,Flatten, Conv2D\n",
        "from tensorflow.keras.layers import BatchNormalization, Activation, MaxPooling2D\n",
        "from tensorflow.keras.models import Model, Sequential\n",
        "from tensorflow.keras.optimizers import Adam\n",
        "from tensorflow.keras.callbacks import ModelCheckpoint, ReduceLROnPlateau\n",
        "from tensorflow.keras.utils import plot_model\n",
        "\n",
        "from IPython.display import SVG, Image\n",
        "from livelossplot.tf_keras import PlotLossesCallback\n",
        "import tensorflow as tf\n",
        "print(\"Tensorflow version:\", tf.__version__)"
      ],
      "metadata": {
        "colab": {
          "base_uri": "https://localhost:8080/"
        },
        "id": "3ae2l1NhF1cs",
        "outputId": "4dd499a1-f7fb-45c5-8ea1-d879b8de3a33"
      },
      "execution_count": null,
      "outputs": [
        {
          "output_type": "stream",
          "name": "stdout",
          "text": [
            "Tensorflow version: 2.12.0\n"
          ]
        }
      ]
    },
    {
      "cell_type": "code",
      "source": [
        "from tensorflow.keras.preprocessing.image import load_img"
      ],
      "metadata": {
        "id": "2cATCSkwFssd"
      },
      "execution_count": null,
      "outputs": []
    },
    {
      "cell_type": "code",
      "source": [
        "import warnings\n",
        "import random\n",
        "from tqdm.notebook import tqdm\n",
        "warnings.filterwarnings('ignore')"
      ],
      "metadata": {
        "id": "1aYRTXXgF-o6"
      },
      "execution_count": null,
      "outputs": []
    },
    {
      "cell_type": "code",
      "source": [
        "from keras.utils import to_categorical\n",
        "from sklearn.utils import shuffle"
      ],
      "metadata": {
        "id": "PJzi2wNnF_UW"
      },
      "execution_count": null,
      "outputs": []
    },
    {
      "cell_type": "markdown",
      "source": [
        "**Load the dataset**"
      ],
      "metadata": {
        "id": "5uRd09hLwqTZ"
      }
    },
    {
      "cell_type": "code",
      "source": [
        "TRAIN_DIR_Male = '/content/drive/MyDrive/FER2013_CK+/Male/Train/'\n",
        "TEST_DIR_Male = '/content/drive/MyDrive/FER2013_CK+/Male/Test/'"
      ],
      "metadata": {
        "id": "H5rtKzphwQJU"
      },
      "execution_count": null,
      "outputs": []
    },
    {
      "cell_type": "markdown",
      "source": [
        "# **Preprocess the datasets**"
      ],
      "metadata": {
        "id": "zZl-cPAA4ixA"
      }
    },
    {
      "cell_type": "markdown",
      "source": [
        "**Read Images from the data path**"
      ],
      "metadata": {
        "id": "8mBxUCGdz6tp"
      }
    },
    {
      "cell_type": "code",
      "source": [
        "import cv2"
      ],
      "metadata": {
        "id": "WB4VoPWg0QFE"
      },
      "execution_count": null,
      "outputs": []
    },
    {
      "cell_type": "code",
      "source": [],
      "metadata": {
        "id": "Ghft8uucKMEN"
      },
      "execution_count": null,
      "outputs": []
    },
    {
      "cell_type": "code",
      "source": [],
      "metadata": {
        "id": "q8v-0UHhLN2z"
      },
      "execution_count": null,
      "outputs": []
    },
    {
      "cell_type": "code",
      "source": [
        "TRAIN_DIR_Male = '/content/drive/MyDrive/FER2013_CK+/Male/Train/'\n",
        "data_dir_sequence = ['angry', 'disgust', 'fear', 'happy', 'neutral','sad']\n",
        "\n",
        "\n",
        "img_data_list = []\n",
        "emotion_counts_tr_male = {}\n",
        "\n",
        "for dataset in data_dir_sequence:\n",
        "    img_list = os.listdir(os.path.join(TRAIN_DIR_Male, dataset))\n",
        "    count = len(img_list)\n",
        "    emotion_counts_tr_male[dataset] = count\n",
        "    print('Loaded {} images for the dataset-{}\\n'.format(count, dataset))\n",
        "    for img in img_list:\n",
        "        input_img = cv2.imread(os.path.join(TRAIN_DIR_Male, dataset, img))\n",
        "        if input_img is not None:\n",
        "            input_img = cv2.cvtColor(input_img, cv2.COLOR_BGR2GRAY)\n",
        "            img_data_list.append(input_img)\n",
        "        else:\n",
        "            print(f\"Failed to read image: {img}\")\n",
        "\n",
        "img_data_train_male = np.array(img_data_list)\n",
        "img_data_train_male = img_data_train_male.astype('float32')\n",
        "img_data_train_male = img_data_train_male/ 255\n",
        "\n",
        "# img_data_train_male = img_data_train_male.reshape(-1, 48, 48)  # Reshape the array to (total_count, 48, 48)\n",
        "\n",
        "print(\"Emotion Counts:\")\n",
        "for emotion, count in emotion_counts_tr_male.items():\n",
        "    print(\"{}: {}\".format(emotion, count))\n"
      ],
      "metadata": {
        "id": "gbQUIdB6DIxF",
        "colab": {
          "base_uri": "https://localhost:8080/"
        },
        "outputId": "bfefa55d-144f-4e0d-fd8e-2d4303238769"
      },
      "execution_count": null,
      "outputs": [
        {
          "output_type": "stream",
          "name": "stdout",
          "text": [
            "Loaded 2823 images for the dataset-angry\n",
            "\n",
            "Loaded 480 images for the dataset-disgust\n",
            "\n",
            "Loaded 2235 images for the dataset-fear\n",
            "\n",
            "Loaded 2713 images for the dataset-happy\n",
            "\n",
            "Loaded 3208 images for the dataset-neutral\n",
            "\n",
            "Loaded 2643 images for the dataset-sad\n",
            "\n",
            "Failed to read image: desktop.ini\n",
            "Emotion Counts:\n",
            "angry: 2823\n",
            "disgust: 480\n",
            "fear: 2235\n",
            "happy: 2713\n",
            "neutral: 3208\n",
            "sad: 2643\n"
          ]
        }
      ]
    },
    {
      "cell_type": "code",
      "source": [
        "img_data_train_male.shape"
      ],
      "metadata": {
        "id": "jDvGPVXZ9KuL",
        "colab": {
          "base_uri": "https://localhost:8080/"
        },
        "outputId": "bdf0463d-e0f6-4d2b-f248-c7d683f1b115"
      },
      "execution_count": null,
      "outputs": [
        {
          "output_type": "execute_result",
          "data": {
            "text/plain": [
              "(14101, 48, 48)"
            ]
          },
          "metadata": {},
          "execution_count": 11
        }
      ]
    },
    {
      "cell_type": "code",
      "source": [
        "TEST_DIR_Male = '/content/drive/MyDrive/FER2013_CK+/Male/Test/'\n",
        "data_dir_sequence = ['angry', 'disgust', 'fear', 'happy', 'neutral','sad']\n",
        "\n",
        "\n",
        "img_data_list = []\n",
        "emotion_counts_te_male = {}\n",
        "\n",
        "for dataset in data_dir_sequence:\n",
        "    img_list = os.listdir(os.path.join(TEST_DIR_Male, dataset))\n",
        "    count = len(img_list)\n",
        "    emotion_counts_te_male[dataset] = count\n",
        "    print('Loaded {} images for the dataset-{}\\n'.format(count, dataset))\n",
        "    for img in img_list:\n",
        "        input_img = cv2.imread(os.path.join(TEST_DIR_Male, dataset, img))\n",
        "        if input_img is not None:\n",
        "            input_img = cv2.cvtColor(input_img, cv2.COLOR_BGR2GRAY)\n",
        "            img_data_list.append(input_img)\n",
        "        else:\n",
        "            print(f\"Failed to read image: {img}\")\n",
        "\n",
        "img_data_test_male = np.array(img_data_list)\n",
        "img_data_test_male = img_data_test_male.astype('float32')\n",
        "img_data_test_male = img_data_test_male/ 255\n",
        "\n",
        "# img_data_test_male = img_data_test_male.reshape(-1, 48, 48)  # Reshape the array to (total_count, 48, 48)\n",
        "\n",
        "print(\"Emotion Counts:\")\n",
        "for emotion, count in  emotion_counts_te_male.items():\n",
        "    print(\"{}: {}\".format(emotion, count))"
      ],
      "metadata": {
        "id": "UccvBcCBCuhX",
        "colab": {
          "base_uri": "https://localhost:8080/"
        },
        "outputId": "4a46ec99-ccbf-4fd2-eb73-c789a076d31f"
      },
      "execution_count": null,
      "outputs": [
        {
          "output_type": "stream",
          "name": "stdout",
          "text": [
            "Loaded 555 images for the dataset-angry\n",
            "\n",
            "Loaded 75 images for the dataset-disgust\n",
            "\n",
            "Loaded 451 images for the dataset-fear\n",
            "\n",
            "Loaded 553 images for the dataset-happy\n",
            "\n",
            "Loaded 646 images for the dataset-neutral\n",
            "\n",
            "Loaded 537 images for the dataset-sad\n",
            "\n",
            "Emotion Counts:\n",
            "angry: 555\n",
            "disgust: 75\n",
            "fear: 451\n",
            "happy: 553\n",
            "neutral: 646\n",
            "sad: 537\n"
          ]
        }
      ]
    },
    {
      "cell_type": "code",
      "source": [
        "img_data_test_male.shape"
      ],
      "metadata": {
        "id": "n1I58I9e9TEO",
        "colab": {
          "base_uri": "https://localhost:8080/"
        },
        "outputId": "a08e78f0-1757-4876-b2c8-45effb6d0636"
      },
      "execution_count": null,
      "outputs": [
        {
          "output_type": "execute_result",
          "data": {
            "text/plain": [
              "(2817, 48, 48)"
            ]
          },
          "metadata": {},
          "execution_count": 13
        }
      ]
    },
    {
      "cell_type": "markdown",
      "source": [
        "**Distribution of datasets**"
      ],
      "metadata": {
        "id": "o_wmY9JO0EfU"
      }
    },
    {
      "cell_type": "code",
      "source": [
        "emotions_tr_ma = list(emotion_counts_tr_male.keys())\n",
        "counts_tr_ma = list(emotion_counts_tr_male.values())\n",
        "\n",
        "# Create a bar chart\n",
        "plt.bar(emotions_tr_ma, counts_tr_ma)\n",
        "plt.xlabel('Emotions')\n",
        "plt.ylabel('Count')\n",
        "plt.title('Distribution of Images across Emotions')\n",
        "plt.show()"
      ],
      "metadata": {
        "id": "YHliOtVe9TLa",
        "colab": {
          "base_uri": "https://localhost:8080/",
          "height": 472
        },
        "outputId": "590c040c-2d6e-44a1-86db-66f29335e91c"
      },
      "execution_count": null,
      "outputs": [
        {
          "output_type": "display_data",
          "data": {
            "text/plain": [
              "<Figure size 640x480 with 1 Axes>"
            ],
            "image/png": "[encoded data removed]"
          },
          "metadata": {}
        }
      ]
    },
    {
      "cell_type": "code",
      "source": [
        "emotions_ts_me = list(emotion_counts_te_male.keys())\n",
        "counts_ts_me = list(emotion_counts_te_male.values())\n",
        "\n",
        "# Create a bar chart\n",
        "plt.bar(emotions_ts_me, counts_ts_me)\n",
        "plt.xlabel('Emotions')\n",
        "plt.ylabel('Count')\n",
        "plt.title('Distribution of Images across Emotions')\n",
        "plt.show()"
      ],
      "metadata": {
        "id": "Ue09jAht9TPa",
        "colab": {
          "base_uri": "https://localhost:8080/",
          "height": 472
        },
        "outputId": "7161bc4e-35e1-4b07-b6ce-2d5d52aa6c5e"
      },
      "execution_count": null,
      "outputs": [
        {
          "output_type": "display_data",
          "data": {
            "text/plain": [
              "<Figure size 640x480 with 1 Axes>"
            ],
            "image/png": "[encoded data removed]"
          },
          "metadata": {}
        }
      ]
    },
    {
      "cell_type": "markdown",
      "source": [
        "**Define the number of classes**"
      ],
      "metadata": {
        "id": "7QrYxdJt0bMC"
      }
    },
    {
      "cell_type": "code",
      "source": [
        "from keras.utils import to_categorical\n",
        "\n",
        "num_classes = 6\n",
        "num_of_samples_tr_male = img_data_train_male.shape[0]\n",
        "\n",
        "labels_train_male = np.ones((num_of_samples_tr_male,), dtype='int64')\n",
        "labels_train_male[0:2823] = 5  # 2823 Angry\n",
        "labels_train_male[2823:3303] = 4  #  480 Disgust\n",
        "labels_train_male[3303:5538] = 3  # 2235 Fear\n",
        "labels_train_male[5538:8251] = 0  # 2713nHappy\n",
        "labels_train_male[8251:11459] = 2  # 3208  neutral\n",
        "labels_train_male[11459:] = 1  # 2643 Sad\n",
        "# labels_train_male[9088:] = 2  # Surprise\n",
        "\n",
        "names = ['HAPPY', 'SAD', 'NEUTRAL', 'FEAR', 'DISGUST', 'ANGRY']\n",
        "\n",
        "def getLabel(id):\n",
        "    return ['HAPPY', 'SAD', 'NEUTRAL', 'FEAR', 'DISGUST', 'ANGRY'][id]\n",
        "\n",
        "# labels_train_female_encoded = to_categorical(labels_train_female, num_classes=num_classes)"
      ],
      "metadata": {
        "id": "nB31En7m9kQk"
      },
      "execution_count": null,
      "outputs": []
    },
    {
      "cell_type": "code",
      "source": [
        "labels_train_males = np.bincount(labels_train_male)\n",
        "\n",
        "# Print the count of each label\n",
        "for i, count in enumerate(labels_train_males):\n",
        "    label_name = getLabel(i)\n",
        "    print(\"{}: {}\".format(label_name, count))"
      ],
      "metadata": {
        "id": "Zg5LKV9F9kYZ",
        "colab": {
          "base_uri": "https://localhost:8080/"
        },
        "outputId": "a143441d-8bcf-40f1-ff6f-2cd48c7f65a0"
      },
      "execution_count": null,
      "outputs": [
        {
          "output_type": "stream",
          "name": "stdout",
          "text": [
            "HAPPY: 2713\n",
            "SAD: 2642\n",
            "NEUTRAL: 3208\n",
            "FEAR: 2235\n",
            "DISGUST: 480\n",
            "ANGRY: 2823\n"
          ]
        }
      ]
    },
    {
      "cell_type": "code",
      "source": [
        "from keras.utils import to_categorical\n",
        "\n",
        "num_classes = 6\n",
        "num_of_samples_te_male = img_data_test_male.shape[0]\n",
        "\n",
        "labels_test_male = np.ones((num_of_samples_te_male,), dtype='int64')\n",
        "labels_test_male[0:555] = 5  # 555 Angry\n",
        "labels_test_male[555:630] = 4  # 75 Disgust\n",
        "labels_test_male[630:1081] = 3  # 451 Fear 475\n",
        "labels_test_male[1081:1634] = 0  # 553 Happy\n",
        "labels_test_male[1634:2280] = 2  # 646 neutral\n",
        "labels_test_male[2280:] = 1  # 537 Sad\n",
        "# labels_test_male[2524:] = 2  642 # Surprise\n",
        "\n",
        "names = ['HAPPY', 'SAD', 'NEUTRAL', 'FEAR', 'DISGUST', 'ANGRY']\n",
        "\n",
        "def getLabel(id):\n",
        "    return ['HAPPY', 'SAD', 'NEUTRAL', 'FEAR', 'DISGUST', 'ANGRY'][id]\n",
        "\n",
        "# labels_train_female_encoded = to_categorical(labels_train_female, num_classes=num_classes)\n"
      ],
      "metadata": {
        "id": "tTWHqQPE49l2"
      },
      "execution_count": null,
      "outputs": []
    },
    {
      "cell_type": "code",
      "source": [
        "labels_test_males = np.bincount(labels_test_male)\n",
        "\n",
        "# Print the count of each label\n",
        "for i, count in enumerate(labels_test_males):\n",
        "    label_name = getLabel(i)\n",
        "    print(\"{}: {}\".format(label_name, count))"
      ],
      "metadata": {
        "id": "LOCUOFBZ5HET",
        "colab": {
          "base_uri": "https://localhost:8080/"
        },
        "outputId": "41999b04-0b53-49f6-f23a-aab9867a2b1d"
      },
      "execution_count": null,
      "outputs": [
        {
          "output_type": "stream",
          "name": "stdout",
          "text": [
            "HAPPY: 553\n",
            "SAD: 537\n",
            "NEUTRAL: 646\n",
            "FEAR: 451\n",
            "DISGUST: 75\n",
            "ANGRY: 555\n"
          ]
        }
      ]
    },
    {
      "cell_type": "code",
      "source": [
        "print(labels_test_male.shape,labels_train_male.shape)"
      ],
      "metadata": {
        "id": "Tn7uJZOM9kgW",
        "colab": {
          "base_uri": "https://localhost:8080/"
        },
        "outputId": "2b9aed04-d229-4fa9-e0a3-074567039af3"
      },
      "execution_count": null,
      "outputs": [
        {
          "output_type": "stream",
          "name": "stdout",
          "text": [
            "(2817,) (14101,)\n"
          ]
        }
      ]
    },
    {
      "cell_type": "markdown",
      "source": [
        "**Convert the class label to one-hot encoding**"
      ],
      "metadata": {
        "id": "Mz0JSu6R0mkm"
      }
    },
    {
      "cell_type": "code",
      "source": [
        "# convert class labels to on-hot encoding# conve\n",
        "Y_ma_tr = to_categorical(labels_train_male, num_classes)\n",
        "Y_ma_ts = to_categorical(labels_test_male, num_classes)"
      ],
      "metadata": {
        "id": "I9BMLKxSrcZr"
      },
      "execution_count": null,
      "outputs": []
    },
    {
      "cell_type": "code",
      "source": [
        "print(Y_ma_tr.shape,Y_ma_ts.shape)"
      ],
      "metadata": {
        "id": "UmCMvukKu-og",
        "colab": {
          "base_uri": "https://localhost:8080/"
        },
        "outputId": "3618d999-039f-4f9f-9210-b52ad09be246"
      },
      "execution_count": null,
      "outputs": [
        {
          "output_type": "stream",
          "name": "stdout",
          "text": [
            "(14101, 6) (2817, 6)\n"
          ]
        }
      ]
    },
    {
      "cell_type": "markdown",
      "source": [
        "**Shuffle the dataset**"
      ],
      "metadata": {
        "id": "5-Mr8WZx0tzB"
      }
    },
    {
      "cell_type": "code",
      "source": [
        "#Shuffle the dataset\n",
        "x_train_male,y_train_male = shuffle(img_data_train_male,Y_ma_tr, random_state=2)\n",
        "x_test_male,y_test_male = shuffle(img_data_test_male,Y_ma_ts, random_state=2)"
      ],
      "metadata": {
        "id": "9ap9Wpaon1iG"
      },
      "execution_count": null,
      "outputs": []
    },
    {
      "cell_type": "code",
      "source": [
        "X_train_male = x_train_male\n",
        "Y_train_male = y_train_male\n",
        "X_test_male = x_test_male\n",
        "Y_test_male = y_test_male"
      ],
      "metadata": {
        "id": "2e8d9YmO9xxX"
      },
      "execution_count": null,
      "outputs": []
    },
    {
      "cell_type": "code",
      "source": [
        "print(X_train_male.shape,Y_train_male.shape,X_test_male.shape,Y_test_male.shape)"
      ],
      "metadata": {
        "id": "rbrhs1N56fo1",
        "colab": {
          "base_uri": "https://localhost:8080/"
        },
        "outputId": "40fc18ec-d0fc-4536-82ce-fa070f489718"
      },
      "execution_count": null,
      "outputs": [
        {
          "output_type": "stream",
          "name": "stdout",
          "text": [
            "(14101, 48, 48) (14101, 6) (2817, 48, 48) (2817, 6)\n"
          ]
        }
      ]
    },
    {
      "cell_type": "code",
      "source": [
        "# X_train_male = np.stack((X_train_male,)*3, axis = -1)\n",
        "# X_test_male  = np.stack((X_test_male ,)*3, axis = -1)"
      ],
      "metadata": {
        "id": "No7nCXFHnw5S"
      },
      "execution_count": null,
      "outputs": []
    },
    {
      "cell_type": "code",
      "source": [
        "X_train_male = X_train_male.reshape(X_train_male.shape[0], X_train_male.shape[1], X_train_male.shape[2], 1)\n",
        "X_test_male =X_test_male.reshape(X_test_male.shape[0], X_test_male.shape[1], X_test_male.shape[2], 1)"
      ],
      "metadata": {
        "id": "1EfpuC2L9yAz"
      },
      "execution_count": null,
      "outputs": []
    },
    {
      "cell_type": "markdown",
      "source": [
        "# **Handling imbalncing**"
      ],
      "metadata": {
        "id": "eMEnkSw97iBT"
      }
    },
    {
      "cell_type": "markdown",
      "source": [
        "**Class weights**"
      ],
      "metadata": {
        "id": "5LuNjQGB7zAF"
      }
    },
    {
      "cell_type": "code",
      "source": [
        "from sklearn.utils import class_weight\n",
        "\n",
        "class_weights = class_weight.compute_class_weight(\n",
        "    class_weight=\"balanced\",\n",
        "    classes=np.unique(labels_train_male),\n",
        "    y=labels_train_male\n",
        ")\n",
        "\n",
        "class_weights = dict(zip(np.unique(labels_train_male), class_weights))"
      ],
      "metadata": {
        "id": "5YyhHHGf9-ye"
      },
      "execution_count": null,
      "outputs": []
    },
    {
      "cell_type": "code",
      "source": [
        "class_weights"
      ],
      "metadata": {
        "id": "jrSElzKg9_BS",
        "colab": {
          "base_uri": "https://localhost:8080/"
        },
        "outputId": "7c3ee179-9d3a-488d-9f4b-e86f0646174c"
      },
      "execution_count": null,
      "outputs": [
        {
          "output_type": "execute_result",
          "data": {
            "text/plain": [
              "{0: 0.8662612114510382,\n",
              " 1: 0.8895407519555892,\n",
              " 2: 0.7325955943474647,\n",
              " 3: 1.0515287099179718,\n",
              " 4: 4.8961805555555555,\n",
              " 5: 0.8325067894674696}"
            ]
          },
          "metadata": {},
          "execution_count": 29
        }
      ]
    },
    {
      "cell_type": "markdown",
      "source": [
        "**Data Augmentation**"
      ],
      "metadata": {
        "id": "0enBp08G8oBG"
      }
    },
    {
      "cell_type": "code",
      "source": [
        "# datagen = ImageDataGenerator(rotation_range=10)"
      ],
      "metadata": {
        "id": "wp8cXj0-8Mti"
      },
      "execution_count": null,
      "outputs": []
    },
    {
      "cell_type": "code",
      "source": [
        "# from keras.utils.data_utils import Sequence\n",
        "# from imblearn.over_sampling import RandomOverSampler\n",
        "# from imblearn.tensorflow import balanced_batch_generator\n",
        "\n",
        "# class BalancedDataGenerator(Sequence):\n",
        "#     \"\"\"ImageDataGenerator + RandomOversampling\"\"\"\n",
        "#     def __init__(self, x, y, datagen, batch_size=32):\n",
        "#         self.datagen = datagen\n",
        "#         self.batch_size = min(batch_size, x.shape[0])\n",
        "#         datagen.fit(x)\n",
        "#         self.gen, self.steps_per_epoch = balanced_batch_generator(x.reshape(x.shape[0], -1), y, sampler=RandomOverSampler(), batch_size=self.batch_size, keep_sparse=True)\n",
        "#         self._shape = (self.steps_per_epoch * batch_size, *x.shape[1:])\n",
        "\n",
        "#     def __len__(self):\n",
        "#         return self.steps_per_epoch\n",
        "\n",
        "#     def __getitem__(self, idx):\n",
        "#         x_batch, y_batch = self.gen.__next__()\n",
        "#         x_batch = x_batch.reshape(-1, *self._shape[1:])\n",
        "#         return self.datagen.flow(x_batch, y_batch, batch_size=self.batch_size).next()"
      ],
      "metadata": {
        "id": "fB94yMEbkjJu"
      },
      "execution_count": null,
      "outputs": []
    },
    {
      "cell_type": "code",
      "source": [
        "from tensorflow.keras.preprocessing.image import ImageDataGenerator\n",
        "data_generator = ImageDataGenerator(\n",
        "                        featurewise_center=False,\n",
        "                        featurewise_std_normalization=False,\n",
        "                        samplewise_std_normalization=False,  # divide each input by its std\n",
        "                        zca_whitening=False,\n",
        "                        rotation_range=20,\n",
        "                        shear_range = 20,\n",
        "                        width_shift_range=0.1,\n",
        "                        height_shift_range=0.1,\n",
        "                        zoom_range=.1,\n",
        "                        horizontal_flip=True,\n",
        "                        vertical_flip=False)\n",
        "\n",
        "\n",
        "balanced_gen_male = data_generator.flow(X_train_male,Y_train_male,)"
      ],
      "metadata": {
        "id": "M_AsxH1OeUJh"
      },
      "execution_count": null,
      "outputs": []
    },
    {
      "cell_type": "code",
      "source": [
        "# Create an instance of the data generator\n",
        "\n",
        "# # datagen = ImageDataGenerator(rotation_range=10,)\n",
        "# balanced_gen_male = BalancedDataGenerator(X_train_male,Y_train_male, datagen, batch_size=32)\n",
        "# # balanced_gen_val_male = BalancedDataGenerator(X_test_male, Y_test_male, datagen, batch_size=32)"
      ],
      "metadata": {
        "id": "9jdd3zQuEuOs"
      },
      "execution_count": null,
      "outputs": []
    },
    {
      "cell_type": "markdown",
      "source": [
        "**Learning Rate Scheduler**"
      ],
      "metadata": {
        "id": "_LNvGe7P8sN6"
      }
    },
    {
      "cell_type": "code",
      "source": [
        "# filepath = '/content/drive/MyDrive/Reserch/best_model_cifar10_male.hdf5'\n",
        "# from tensorflow.keras.callbacks import Callback\n",
        "# from tensorflow.keras.callbacks import EarlyStopping\n",
        "\n",
        "\n",
        "# checkpoint = ModelCheckpoint(filepath=filepath,\n",
        "#                              monitor='val_accuracy',\n",
        "#                              verbose=1,\n",
        "#                              save_best_only=True)\n",
        "\n",
        "# stop = EarlyStopping(monitor='val_accuracy', patience =5,\n",
        "#                       verbose=0, mode='auto', baseline=None,\n",
        "#                       restore_best_weights=False)\n",
        "\n",
        "# callbacks = [checkpoint,stop,callback_lr]"
      ],
      "metadata": {
        "id": "lKeY2EE2IXdX"
      },
      "execution_count": null,
      "outputs": []
    },
    {
      "cell_type": "code",
      "source": [
        "# from keras import layers\n"
      ],
      "metadata": {
        "id": "re9E9UYo5K6Q"
      },
      "execution_count": null,
      "outputs": []
    },
    {
      "cell_type": "markdown",
      "source": [
        "# **Model Buliding**"
      ],
      "metadata": {
        "id": "cT6olR_y8VQS"
      }
    },
    {
      "cell_type": "code",
      "source": [
        "from keras import layers\n",
        "from keras.models import Sequential\n",
        "from keras.regularizers import l2  # Import l2 function\n",
        "from tensorflow.keras.models import Sequential\n",
        "from tensorflow.keras.layers import Conv2D, BatchNormalization\n",
        "from tensorflow.keras.optimizers import Adam\n",
        "from keras.layers import Conv2D, BatchNormalization, Activation, MaxPooling2D, Dropout, Flatten, Dense, Input, Add ,AveragePooling2D\n",
        "from keras.models import Model\n",
        "from keras.initializers import glorot_uniform\n"
      ],
      "metadata": {
        "id": "pfLRe1Xmqft7"
      },
      "execution_count": null,
      "outputs": []
    },
    {
      "cell_type": "code",
      "source": [
        "batch_size = 32\n",
        "num_epochs = 150\n",
        "input_shape = (48, 48, 1)\n",
        "verbose = 1\n",
        "num_classes = 6\n",
        "base_path = './model/'\n",
        "l2_regularization=0.01"
      ],
      "metadata": {
        "id": "gM8KmfJLqr4c"
      },
      "execution_count": null,
      "outputs": []
    },
    {
      "cell_type": "code",
      "source": [
        "filepath = '/content/drive/MyDrive/Reserch/models/best_model_cifar10_maletrtest.hdf5'\n",
        "\n",
        "checkpoint = ModelCheckpoint(filepath=filepath,\n",
        "                             monitor='val_accuracy',\n",
        "                             verbose=1,\n",
        "                             save_best_only=True)"
      ],
      "metadata": {
        "id": "yZAKOlPljYVg"
      },
      "execution_count": null,
      "outputs": []
    },
    {
      "cell_type": "code",
      "source": [
        "from keras.callbacks import EarlyStopping\n",
        "from tensorflow.keras.callbacks import Callback\n",
        "\n",
        "patience = 25\n",
        "\n",
        "early_stop = EarlyStopping('val_loss', patience=patience)\n",
        "reduce_lr = ReduceLROnPlateau('val_loss', factor=0.1, patience=int(patience/2), verbose=1)\n",
        "\n",
        "\n",
        "callbacks = [checkpoint,early_stop,reduce_lr]"
      ],
      "metadata": {
        "id": "kIzWNCwjjcCe"
      },
      "execution_count": null,
      "outputs": []
    },
    {
      "cell_type": "code",
      "source": [
        "pip install efficientnet"
      ],
      "metadata": {
        "colab": {
          "base_uri": "https://localhost:8080/"
        },
        "id": "pLtUm1uxjcGM",
        "outputId": "bbe7536a-7101-40e6-c626-5ba853eaccfc"
      },
      "execution_count": null,
      "outputs": [
        {
          "output_type": "stream",
          "name": "stdout",
          "text": [
            "Collecting efficientnet\n",
            "  Downloading efficientnet-1.1.1-py3-none-any.whl (18 kB)\n",
            "Collecting keras-applications<=1.0.8,>=1.0.7 (from efficientnet)\n",
            "  Downloading Keras_Applications-1.0.8-py3-none-any.whl (50 kB)\n",
            "\u001b[2K     \u001b[90m━━━━━━━━━━━━━━━━━━━━━━━━━━━━━━━━━━━━━━━━\u001b[0m \u001b[32m50.7/50.7 kB\u001b[0m \u001b[31m1.9 MB/s\u001b[0m eta \u001b[36m0:00:00\u001b[0m\n",
            "\u001b[?25hRequirement already satisfied: scikit-image in /usr/local/lib/python3.10/dist-packages (from efficientnet) (0.19.3)\n",
            "Requirement already satisfied: numpy>=1.9.1 in /usr/local/lib/python3.10/dist-packages (from keras-applications<=1.0.8,>=1.0.7->efficientnet) (1.23.5)\n",
            "Requirement already satisfied: h5py in /usr/local/lib/python3.10/dist-packages (from keras-applications<=1.0.8,>=1.0.7->efficientnet) (3.9.0)\n",
            "Requirement already satisfied: scipy>=1.4.1 in /usr/local/lib/python3.10/dist-packages (from scikit-image->efficientnet) (1.10.1)\n",
            "Requirement already satisfied: networkx>=2.2 in /usr/local/lib/python3.10/dist-packages (from scikit-image->efficientnet) (3.1)\n",
            "Requirement already satisfied: pillow!=7.1.0,!=7.1.1,!=8.3.0,>=6.1.0 in /usr/local/lib/python3.10/dist-packages (from scikit-image->efficientnet) (9.4.0)\n",
            "Requirement already satisfied: imageio>=2.4.1 in /usr/local/lib/python3.10/dist-packages (from scikit-image->efficientnet) (2.31.1)\n",
            "Requirement already satisfied: tifffile>=2019.7.26 in /usr/local/lib/python3.10/dist-packages (from scikit-image->efficientnet) (2023.8.12)\n",
            "Requirement already satisfied: PyWavelets>=1.1.1 in /usr/local/lib/python3.10/dist-packages (from scikit-image->efficientnet) (1.4.1)\n",
            "Requirement already satisfied: packaging>=20.0 in /usr/local/lib/python3.10/dist-packages (from scikit-image->efficientnet) (23.1)\n",
            "Installing collected packages: keras-applications, efficientnet\n",
            "Successfully installed efficientnet-1.1.1 keras-applications-1.0.8\n"
          ]
        }
      ]
    },
    {
      "cell_type": "code",
      "source": [
        "def identity_block(X, f, filters, stage, block,dropout_rate=0.2):\n",
        "    \"\"\"\n",
        "    Implementation of the identity block\n",
        "\n",
        "    Arguments:\n",
        "    X -- input tensor of shape (m, n_H_prev, n_W_prev, n_C_prev)\n",
        "    f -- integer, specifying the shape of the middle CONV's window for the main path\n",
        "    filters -- python list of integers, defining the number of filters in the CONV layers of the main path\n",
        "    stage -- integer, used to name the layers, depending on their position in the network\n",
        "    block -- string/character, used to name the layers, depending on their position in the network\n",
        "\n",
        "    Returns:\n",
        "    X -- output of the identity block, tensor of shape (n_H, n_W, n_C)\n",
        "    \"\"\"\n",
        "\n",
        "    # defining name basis\n",
        "    conv_name_base = 'res' + str(stage) + block + '_branch'\n",
        "    bn_name_base = 'bn' + str(stage) + block + '_branch'\n",
        "\n",
        "    # Retrieve Filters\n",
        "    F1, F2, F3 = filters\n",
        "\n",
        "    # Save the input value. You'll need this later to add back to the main path.\n",
        "    X_shortcut = X\n",
        "\n",
        "    # First component of main path\n",
        "    X = Conv2D(filters = F1, kernel_size = (1, 1), strides = (1,1), padding = 'valid', name = conv_name_base + '2a', kernel_initializer = glorot_uniform(seed=0))(X)\n",
        "    X = BatchNormalization(axis = 3, name = bn_name_base + '2a')(X)\n",
        "    X = Activation('relu')(X)\n",
        "\n",
        "\n",
        "    # Second component of main path\n",
        "    X = Conv2D(filters = F2, kernel_size = (f, f), strides = (1,1), padding = 'same', name = conv_name_base + '2b', kernel_initializer = glorot_uniform(seed=0))(X)\n",
        "    X = BatchNormalization(axis = 3, name = bn_name_base + '2b')(X)\n",
        "    X = Activation('relu')(X)\n",
        "\n",
        "    # Third component of main path\n",
        "    X = Conv2D(filters = F3, kernel_size = (1, 1), strides = (1,1), padding = 'valid', name = conv_name_base + '2c', kernel_initializer = glorot_uniform(seed=0))(X)\n",
        "    X = BatchNormalization(axis = 3, name = bn_name_base + '2c')(X)\n",
        "\n",
        "    X = Activation('relu')(X)\n",
        "    X = Dropout(dropout_rate)(X)  # Add dropout layer\n",
        "\n",
        "\n",
        "    # Final step: Add shortcut value to main path, and pass it through a RELU activation\n",
        "    X = Add()([X_shortcut,X])\n",
        "    X = Activation(\"relu\")(X)\n",
        "\n",
        "    return X\n",
        "    return X"
      ],
      "metadata": {
        "id": "Q2XVraDzjcJj"
      },
      "execution_count": null,
      "outputs": []
    },
    {
      "cell_type": "code",
      "source": [
        "def convolutional_block(X, f, filters, stage, block, s = 2,dropout_rate=0.2):\n",
        "    \"\"\"\n",
        "    Implementation of the convolutional block4\n",
        "\n",
        "    Arguments:\n",
        "    X -- input tensor of shape (m, n_H_prev, n_W_prev, n_C_prev)\n",
        "    f -- integer, specifying the shape of the middle CONV's window for the main path\n",
        "    filters -- python list of integers, defining the number of filters in the CONV layers of the main path\n",
        "    stage -- integer, used to name the layers, depending on their position in the network\n",
        "    block -- string/character, used to name the layers, depending on their position in the network\n",
        "    s -- Integer, specifying the stride to be used\n",
        "\n",
        "    Returns:\n",
        "    X -- output of the convolutional block, tensor of shape (n_H, n_W, n_C)\n",
        "    \"\"\"\n",
        "\n",
        "    # defining name basis\n",
        "    conv_name_base = 'res' + str(stage) + block + '_branch'\n",
        "    bn_name_base = 'bn' + str(stage) + block + '_branch'\n",
        "\n",
        "    # Retrieve Filters\n",
        "    F1, F2, F3 = filters\n",
        "\n",
        "    # Save the input value\n",
        "    X_shortcut = X\n",
        "\n",
        "\n",
        "    ##### MAIN PATH #####\n",
        "    # First component of main path\n",
        "    X = Conv2D(F1, (1, 1), strides = (s,s), name = conv_name_base + '2a',padding = 'valid', kernel_initializer = glorot_uniform(seed=0))(X)\n",
        "    X = BatchNormalization(axis = 3, name = bn_name_base + '2a')(X)\n",
        "    X = Activation('relu')(X)\n",
        "\n",
        "    # Second component of main path\n",
        "    X = Conv2D(F2, (f, f), strides = (1,1), name = conv_name_base + '2b',padding = 'same', kernel_initializer = glorot_uniform(seed=0))(X)\n",
        "    X = BatchNormalization(axis = 3, name = bn_name_base + '2b')(X)\n",
        "    X = Activation('relu')(X)\n",
        "\n",
        "    # Third component of main path\n",
        "    X = Conv2D(F3, (1, 1), strides = (1,1), name = conv_name_base + '2c',padding = 'valid', kernel_initializer = glorot_uniform(seed=0))(X)\n",
        "    X = BatchNormalization(axis = 3, name = bn_name_base + '2c')(X)\n",
        "\n",
        "    ##### SHORTCUT PATH ####\n",
        "    X_shortcut = Conv2D(F3, (1, 1), strides = (s,s), name = conv_name_base + '1',padding = 'valid', kernel_initializer = glorot_uniform(seed=0))(X_shortcut)\n",
        "    X_shortcut = BatchNormalization(axis = 3, name = bn_name_base + '1')(X_shortcut)\n",
        "\n",
        "    X = Activation('relu')(X)\n",
        "    X = Dropout(dropout_rate)(X)  # Add dropout layer\n",
        "\n",
        "    # Final step: Add shortcut value to main path, and pass it through a RELU activation\n",
        "    X = Add()([X_shortcut,X])\n",
        "    X = Activation(\"relu\")(X)\n",
        "\n",
        "    return X"
      ],
      "metadata": {
        "id": "zId-1Q_ojcMs"
      },
      "execution_count": null,
      "outputs": []
    },
    {
      "cell_type": "code",
      "source": [
        "def Net50(input_shape = (48,48,1), classes = 6 , dropout_rate=0.2):\n",
        "\n",
        "    # Define the input as a tensor with shape input_shape\n",
        "    X_input = Input(input_shape)\n",
        "\n",
        "\n",
        "    # Zero-Padding\n",
        "    #X = ZeroPadding2D((1, 1))(X_input)\n",
        "    X = X_input\n",
        "    # Stage 1\n",
        "\n",
        "    X = Conv2D(8, (3, 3), strides = (1, 1), name = 'conv1', kernel_initializer = glorot_uniform(seed=0))(X)\n",
        "    X = BatchNormalization(axis = 3, name = 'bn_conv1')(X)\n",
        "    X = Activation('relu')(X)\n",
        "    # removed maxpool\n",
        "    #X = MaxPooling2D((3, 3), strides=(2, 2))(X)\n",
        "\n",
        "    # Stage 2\n",
        "    X = convolutional_block(X, f = 3, filters = [32, 32, 128], stage = 2, block='a', s = 1,dropout_rate=dropout_rate)\n",
        "    X = identity_block(X, 3, [32, 32, 128], stage=2, block='b')\n",
        "    X = identity_block(X, 3, [32, 32, 128], stage=2, block='c')\n",
        "\n",
        "\n",
        "    # Stage 3\n",
        "    X = convolutional_block(X, f = 3, filters = [64,64,256], stage = 3, block='a', s = 2,dropout_rate=dropout_rate)\n",
        "    X = identity_block(X, 3, [64,64,256], stage=3, block='b')\n",
        "    X = identity_block(X, 3, [64,64,256], stage=3, block='c')\n",
        "    X = identity_block(X, 3, [64,64,256], stage=3, block='d')\n",
        "\n",
        "    # Stage 4\n",
        "    X = convolutional_block(X, f = 3, filters = [128, 128, 512], stage = 4, block='a', s = 2,dropout_rate=dropout_rate)\n",
        "    X = identity_block(X, 3, [128, 128, 512], stage=4, block='b')\n",
        "    X = identity_block(X, 3, [128, 128, 512], stage=4, block='c')\n",
        "    X = identity_block(X, 3, [128, 128, 512], stage=4, block='d')\n",
        "    X = identity_block(X, 3, [128, 128, 512], stage=4, block='e')\n",
        "    X = identity_block(X, 3, [128, 128, 512], stage=4, block='f')\n",
        "\n",
        "    # Stage 5\n",
        "    X = convolutional_block(X, f = 3, filters = [256, 256, 1024], stage = 5, block='a', s = 2,dropout_rate=dropout_rate)\n",
        "    X = identity_block(X, 3, [256, 256, 1024], stage=5, block='b')\n",
        "    X = identity_block(X, 3, [256, 256, 1024], stage=5, block='c')\n",
        "\n",
        "    # AVGPOOL .\n",
        "    X = AveragePooling2D((2,2), name='avg_pool')(X)\n",
        "\n",
        "    # output layer\n",
        "    X = Flatten()(X)\n",
        "    X = Dense(512, activation = 'relu', name='fc1024' , kernel_initializer = glorot_uniform(seed=0))(X)\n",
        "    X = Dense(classes, activation='softmax', name='fc' + str(classes), kernel_initializer = glorot_uniform(seed=0))(X)\n",
        "\n",
        "\n",
        "    # Create model\n",
        "    model = Model(inputs = X_input, outputs = X, name='Net50')\n",
        "\n",
        "    return model"
      ],
      "metadata": {
        "id": "oIdSm7hYjtIE"
      },
      "execution_count": null,
      "outputs": []
    },
    {
      "cell_type": "markdown",
      "source": [
        "# **Train the model**"
      ],
      "metadata": {
        "id": "fphXM2sC9kv_"
      }
    },
    {
      "cell_type": "code",
      "source": [
        "from keras.optimizers import Adam, SGD\n",
        "model = Net50(input_shape = (48, 48, 1), classes = 6,dropout_rate=0.2)\n",
        "optimizer = Adam(lr=0.0005, beta_1=0.9, beta_2=0.999, epsilon=1e-7)\n",
        "model.compile(optimizer= optimizer, loss='categorical_crossentropy', metrics=['accuracy'])"
      ],
      "metadata": {
        "id": "YmE9oJ3Bj2fQ"
      },
      "execution_count": null,
      "outputs": []
    },
    {
      "cell_type": "code",
      "source": [
        "model.summary()"
      ],
      "metadata": {
        "colab": {
          "base_uri": "https://localhost:8080/"
        },
        "id": "D5KQmbyOj6oM",
        "outputId": "4c22e9b8-0dd2-48d8-cdf0-3754732dfe08"
      },
      "execution_count": null,
      "outputs": [
        {
          "output_type": "stream",
          "name": "stdout",
          "text": [
            "Model: \"Net50\"\n",
            "__________________________________________________________________________________________________\n",
            " Layer (type)                   Output Shape         Param #     Connected to                     \n",
            "==================================================================================================\n",
            " input_1 (InputLayer)           [(None, 48, 48, 1)]  0           []                               \n",
            "                                                                                                  \n",
            " conv1 (Conv2D)                 (None, 46, 46, 8)    80          ['input_1[0][0]']                \n",
            "                                                                                                  \n",
            " bn_conv1 (BatchNormalization)  (None, 46, 46, 8)    32          ['conv1[0][0]']                  \n",
            "                                                                                                  \n",
            " activation (Activation)        (None, 46, 46, 8)    0           ['bn_conv1[0][0]']               \n",
            "                                                                                                  \n",
            " res2a_branch2a (Conv2D)        (None, 46, 46, 32)   288         ['activation[0][0]']             \n",
            "                                                                                                  \n",
            " bn2a_branch2a (BatchNormalizat  (None, 46, 46, 32)  128         ['res2a_branch2a[0][0]']         \n",
            " ion)                                                                                             \n",
            "                                                                                                  \n",
            " activation_1 (Activation)      (None, 46, 46, 32)   0           ['bn2a_branch2a[0][0]']          \n",
            "                                                                                                  \n",
            " res2a_branch2b (Conv2D)        (None, 46, 46, 32)   9248        ['activation_1[0][0]']           \n",
            "                                                                                                  \n",
            " bn2a_branch2b (BatchNormalizat  (None, 46, 46, 32)  128         ['res2a_branch2b[0][0]']         \n",
            " ion)                                                                                             \n",
            "                                                                                                  \n",
            " activation_2 (Activation)      (None, 46, 46, 32)   0           ['bn2a_branch2b[0][0]']          \n",
            "                                                                                                  \n",
            " res2a_branch1 (Conv2D)         (None, 46, 46, 128)  1152        ['activation[0][0]']             \n",
            "                                                                                                  \n",
            " res2a_branch2c (Conv2D)        (None, 46, 46, 128)  4224        ['activation_2[0][0]']           \n",
            "                                                                                                  \n",
            " bn2a_branch1 (BatchNormalizati  (None, 46, 46, 128)  512        ['res2a_branch1[0][0]']          \n",
            " on)                                                                                              \n",
            "                                                                                                  \n",
            " bn2a_branch2c (BatchNormalizat  (None, 46, 46, 128)  512        ['res2a_branch2c[0][0]']         \n",
            " ion)                                                                                             \n",
            "                                                                                                  \n",
            " add (Add)                      (None, 46, 46, 128)  0           ['bn2a_branch1[0][0]',           \n",
            "                                                                  'bn2a_branch2c[0][0]']          \n",
            "                                                                                                  \n",
            " activation_3 (Activation)      (None, 46, 46, 128)  0           ['add[0][0]']                    \n",
            "                                                                                                  \n",
            " res2b_branch2a (Conv2D)        (None, 46, 46, 32)   4128        ['activation_3[0][0]']           \n",
            "                                                                                                  \n",
            " bn2b_branch2a (BatchNormalizat  (None, 46, 46, 32)  128         ['res2b_branch2a[0][0]']         \n",
            " ion)                                                                                             \n",
            "                                                                                                  \n",
            " activation_4 (Activation)      (None, 46, 46, 32)   0           ['bn2b_branch2a[0][0]']          \n",
            "                                                                                                  \n",
            " res2b_branch2b (Conv2D)        (None, 46, 46, 32)   9248        ['activation_4[0][0]']           \n",
            "                                                                                                  \n",
            " bn2b_branch2b (BatchNormalizat  (None, 46, 46, 32)  128         ['res2b_branch2b[0][0]']         \n",
            " ion)                                                                                             \n",
            "                                                                                                  \n",
            " activation_5 (Activation)      (None, 46, 46, 32)   0           ['bn2b_branch2b[0][0]']          \n",
            "                                                                                                  \n",
            " res2b_branch2c (Conv2D)        (None, 46, 46, 128)  4224        ['activation_5[0][0]']           \n",
            "                                                                                                  \n",
            " bn2b_branch2c (BatchNormalizat  (None, 46, 46, 128)  512        ['res2b_branch2c[0][0]']         \n",
            " ion)                                                                                             \n",
            "                                                                                                  \n",
            " add_1 (Add)                    (None, 46, 46, 128)  0           ['activation_3[0][0]',           \n",
            "                                                                  'bn2b_branch2c[0][0]']          \n",
            "                                                                                                  \n",
            " activation_6 (Activation)      (None, 46, 46, 128)  0           ['add_1[0][0]']                  \n",
            "                                                                                                  \n",
            " res2c_branch2a (Conv2D)        (None, 46, 46, 32)   4128        ['activation_6[0][0]']           \n",
            "                                                                                                  \n",
            " bn2c_branch2a (BatchNormalizat  (None, 46, 46, 32)  128         ['res2c_branch2a[0][0]']         \n",
            " ion)                                                                                             \n",
            "                                                                                                  \n",
            " activation_7 (Activation)      (None, 46, 46, 32)   0           ['bn2c_branch2a[0][0]']          \n",
            "                                                                                                  \n",
            " res2c_branch2b (Conv2D)        (None, 46, 46, 32)   9248        ['activation_7[0][0]']           \n",
            "                                                                                                  \n",
            " bn2c_branch2b (BatchNormalizat  (None, 46, 46, 32)  128         ['res2c_branch2b[0][0]']         \n",
            " ion)                                                                                             \n",
            "                                                                                                  \n",
            " activation_8 (Activation)      (None, 46, 46, 32)   0           ['bn2c_branch2b[0][0]']          \n",
            "                                                                                                  \n",
            " res2c_branch2c (Conv2D)        (None, 46, 46, 128)  4224        ['activation_8[0][0]']           \n",
            "                                                                                                  \n",
            " bn2c_branch2c (BatchNormalizat  (None, 46, 46, 128)  512        ['res2c_branch2c[0][0]']         \n",
            " ion)                                                                                             \n",
            "                                                                                                  \n",
            " add_2 (Add)                    (None, 46, 46, 128)  0           ['activation_6[0][0]',           \n",
            "                                                                  'bn2c_branch2c[0][0]']          \n",
            "                                                                                                  \n",
            " activation_9 (Activation)      (None, 46, 46, 128)  0           ['add_2[0][0]']                  \n",
            "                                                                                                  \n",
            " res3a_branch2a (Conv2D)        (None, 23, 23, 64)   8256        ['activation_9[0][0]']           \n",
            "                                                                                                  \n",
            " bn3a_branch2a (BatchNormalizat  (None, 23, 23, 64)  256         ['res3a_branch2a[0][0]']         \n",
            " ion)                                                                                             \n",
            "                                                                                                  \n",
            " activation_10 (Activation)     (None, 23, 23, 64)   0           ['bn3a_branch2a[0][0]']          \n",
            "                                                                                                  \n",
            " res3a_branch2b (Conv2D)        (None, 23, 23, 64)   36928       ['activation_10[0][0]']          \n",
            "                                                                                                  \n",
            " bn3a_branch2b (BatchNormalizat  (None, 23, 23, 64)  256         ['res3a_branch2b[0][0]']         \n",
            " ion)                                                                                             \n",
            "                                                                                                  \n",
            " activation_11 (Activation)     (None, 23, 23, 64)   0           ['bn3a_branch2b[0][0]']          \n",
            "                                                                                                  \n",
            " res3a_branch1 (Conv2D)         (None, 23, 23, 256)  33024       ['activation_9[0][0]']           \n",
            "                                                                                                  \n",
            " res3a_branch2c (Conv2D)        (None, 23, 23, 256)  16640       ['activation_11[0][0]']          \n",
            "                                                                                                  \n",
            " bn3a_branch1 (BatchNormalizati  (None, 23, 23, 256)  1024       ['res3a_branch1[0][0]']          \n",
            " on)                                                                                              \n",
            "                                                                                                  \n",
            " bn3a_branch2c (BatchNormalizat  (None, 23, 23, 256)  1024       ['res3a_branch2c[0][0]']         \n",
            " ion)                                                                                             \n",
            "                                                                                                  \n",
            " add_3 (Add)                    (None, 23, 23, 256)  0           ['bn3a_branch1[0][0]',           \n",
            "                                                                  'bn3a_branch2c[0][0]']          \n",
            "                                                                                                  \n",
            " activation_12 (Activation)     (None, 23, 23, 256)  0           ['add_3[0][0]']                  \n",
            "                                                                                                  \n",
            " res3b_branch2a (Conv2D)        (None, 23, 23, 64)   16448       ['activation_12[0][0]']          \n",
            "                                                                                                  \n",
            " bn3b_branch2a (BatchNormalizat  (None, 23, 23, 64)  256         ['res3b_branch2a[0][0]']         \n",
            " ion)                                                                                             \n",
            "                                                                                                  \n",
            " activation_13 (Activation)     (None, 23, 23, 64)   0           ['bn3b_branch2a[0][0]']          \n",
            "                                                                                                  \n",
            " res3b_branch2b (Conv2D)        (None, 23, 23, 64)   36928       ['activation_13[0][0]']          \n",
            "                                                                                                  \n",
            " bn3b_branch2b (BatchNormalizat  (None, 23, 23, 64)  256         ['res3b_branch2b[0][0]']         \n",
            " ion)                                                                                             \n",
            "                                                                                                  \n",
            " activation_14 (Activation)     (None, 23, 23, 64)   0           ['bn3b_branch2b[0][0]']          \n",
            "                                                                                                  \n",
            " res3b_branch2c (Conv2D)        (None, 23, 23, 256)  16640       ['activation_14[0][0]']          \n",
            "                                                                                                  \n",
            " bn3b_branch2c (BatchNormalizat  (None, 23, 23, 256)  1024       ['res3b_branch2c[0][0]']         \n",
            " ion)                                                                                             \n",
            "                                                                                                  \n",
            " add_4 (Add)                    (None, 23, 23, 256)  0           ['activation_12[0][0]',          \n",
            "                                                                  'bn3b_branch2c[0][0]']          \n",
            "                                                                                                  \n",
            " activation_15 (Activation)     (None, 23, 23, 256)  0           ['add_4[0][0]']                  \n",
            "                                                                                                  \n",
            " res3c_branch2a (Conv2D)        (None, 23, 23, 64)   16448       ['activation_15[0][0]']          \n",
            "                                                                                                  \n",
            " bn3c_branch2a (BatchNormalizat  (None, 23, 23, 64)  256         ['res3c_branch2a[0][0]']         \n",
            " ion)                                                                                             \n",
            "                                                                                                  \n",
            " activation_16 (Activation)     (None, 23, 23, 64)   0           ['bn3c_branch2a[0][0]']          \n",
            "                                                                                                  \n",
            " res3c_branch2b (Conv2D)        (None, 23, 23, 64)   36928       ['activation_16[0][0]']          \n",
            "                                                                                                  \n",
            " bn3c_branch2b (BatchNormalizat  (None, 23, 23, 64)  256         ['res3c_branch2b[0][0]']         \n",
            " ion)                                                                                             \n",
            "                                                                                                  \n",
            " activation_17 (Activation)     (None, 23, 23, 64)   0           ['bn3c_branch2b[0][0]']          \n",
            "                                                                                                  \n",
            " res3c_branch2c (Conv2D)        (None, 23, 23, 256)  16640       ['activation_17[0][0]']          \n",
            "                                                                                                  \n",
            " bn3c_branch2c (BatchNormalizat  (None, 23, 23, 256)  1024       ['res3c_branch2c[0][0]']         \n",
            " ion)                                                                                             \n",
            "                                                                                                  \n",
            " add_5 (Add)                    (None, 23, 23, 256)  0           ['activation_15[0][0]',          \n",
            "                                                                  'bn3c_branch2c[0][0]']          \n",
            "                                                                                                  \n",
            " activation_18 (Activation)     (None, 23, 23, 256)  0           ['add_5[0][0]']                  \n",
            "                                                                                                  \n",
            " res3d_branch2a (Conv2D)        (None, 23, 23, 64)   16448       ['activation_18[0][0]']          \n",
            "                                                                                                  \n",
            " bn3d_branch2a (BatchNormalizat  (None, 23, 23, 64)  256         ['res3d_branch2a[0][0]']         \n",
            " ion)                                                                                             \n",
            "                                                                                                  \n",
            " activation_19 (Activation)     (None, 23, 23, 64)   0           ['bn3d_branch2a[0][0]']          \n",
            "                                                                                                  \n",
            " res3d_branch2b (Conv2D)        (None, 23, 23, 64)   36928       ['activation_19[0][0]']          \n",
            "                                                                                                  \n",
            " bn3d_branch2b (BatchNormalizat  (None, 23, 23, 64)  256         ['res3d_branch2b[0][0]']         \n",
            " ion)                                                                                             \n",
            "                                                                                                  \n",
            " activation_20 (Activation)     (None, 23, 23, 64)   0           ['bn3d_branch2b[0][0]']          \n",
            "                                                                                                  \n",
            " res3d_branch2c (Conv2D)        (None, 23, 23, 256)  16640       ['activation_20[0][0]']          \n",
            "                                                                                                  \n",
            " bn3d_branch2c (BatchNormalizat  (None, 23, 23, 256)  1024       ['res3d_branch2c[0][0]']         \n",
            " ion)                                                                                             \n",
            "                                                                                                  \n",
            " add_6 (Add)                    (None, 23, 23, 256)  0           ['activation_18[0][0]',          \n",
            "                                                                  'bn3d_branch2c[0][0]']          \n",
            "                                                                                                  \n",
            " activation_21 (Activation)     (None, 23, 23, 256)  0           ['add_6[0][0]']                  \n",
            "                                                                                                  \n",
            " res4a_branch2a (Conv2D)        (None, 12, 12, 128)  32896       ['activation_21[0][0]']          \n",
            "                                                                                                  \n",
            " bn4a_branch2a (BatchNormalizat  (None, 12, 12, 128)  512        ['res4a_branch2a[0][0]']         \n",
            " ion)                                                                                             \n",
            "                                                                                                  \n",
            " activation_22 (Activation)     (None, 12, 12, 128)  0           ['bn4a_branch2a[0][0]']          \n",
            "                                                                                                  \n",
            " res4a_branch2b (Conv2D)        (None, 12, 12, 128)  147584      ['activation_22[0][0]']          \n",
            "                                                                                                  \n",
            " bn4a_branch2b (BatchNormalizat  (None, 12, 12, 128)  512        ['res4a_branch2b[0][0]']         \n",
            " ion)                                                                                             \n",
            "                                                                                                  \n",
            " activation_23 (Activation)     (None, 12, 12, 128)  0           ['bn4a_branch2b[0][0]']          \n",
            "                                                                                                  \n",
            " res4a_branch1 (Conv2D)         (None, 12, 12, 512)  131584      ['activation_21[0][0]']          \n",
            "                                                                                                  \n",
            " res4a_branch2c (Conv2D)        (None, 12, 12, 512)  66048       ['activation_23[0][0]']          \n",
            "                                                                                                  \n",
            " bn4a_branch1 (BatchNormalizati  (None, 12, 12, 512)  2048       ['res4a_branch1[0][0]']          \n",
            " on)                                                                                              \n",
            "                                                                                                  \n",
            " bn4a_branch2c (BatchNormalizat  (None, 12, 12, 512)  2048       ['res4a_branch2c[0][0]']         \n",
            " ion)                                                                                             \n",
            "                                                                                                  \n",
            " add_7 (Add)                    (None, 12, 12, 512)  0           ['bn4a_branch1[0][0]',           \n",
            "                                                                  'bn4a_branch2c[0][0]']          \n",
            "                                                                                                  \n",
            " activation_24 (Activation)     (None, 12, 12, 512)  0           ['add_7[0][0]']                  \n",
            "                                                                                                  \n",
            " res4b_branch2a (Conv2D)        (None, 12, 12, 128)  65664       ['activation_24[0][0]']          \n",
            "                                                                                                  \n",
            " bn4b_branch2a (BatchNormalizat  (None, 12, 12, 128)  512        ['res4b_branch2a[0][0]']         \n",
            " ion)                                                                                             \n",
            "                                                                                                  \n",
            " activation_25 (Activation)     (None, 12, 12, 128)  0           ['bn4b_branch2a[0][0]']          \n",
            "                                                                                                  \n",
            " res4b_branch2b (Conv2D)        (None, 12, 12, 128)  147584      ['activation_25[0][0]']          \n",
            "                                                                                                  \n",
            " bn4b_branch2b (BatchNormalizat  (None, 12, 12, 128)  512        ['res4b_branch2b[0][0]']         \n",
            " ion)                                                                                             \n",
            "                                                                                                  \n",
            " activation_26 (Activation)     (None, 12, 12, 128)  0           ['bn4b_branch2b[0][0]']          \n",
            "                                                                                                  \n",
            " res4b_branch2c (Conv2D)        (None, 12, 12, 512)  66048       ['activation_26[0][0]']          \n",
            "                                                                                                  \n",
            " bn4b_branch2c (BatchNormalizat  (None, 12, 12, 512)  2048       ['res4b_branch2c[0][0]']         \n",
            " ion)                                                                                             \n",
            "                                                                                                  \n",
            " add_8 (Add)                    (None, 12, 12, 512)  0           ['activation_24[0][0]',          \n",
            "                                                                  'bn4b_branch2c[0][0]']          \n",
            "                                                                                                  \n",
            " activation_27 (Activation)     (None, 12, 12, 512)  0           ['add_8[0][0]']                  \n",
            "                                                                                                  \n",
            " res4c_branch2a (Conv2D)        (None, 12, 12, 128)  65664       ['activation_27[0][0]']          \n",
            "                                                                                                  \n",
            " bn4c_branch2a (BatchNormalizat  (None, 12, 12, 128)  512        ['res4c_branch2a[0][0]']         \n",
            " ion)                                                                                             \n",
            "                                                                                                  \n",
            " activation_28 (Activation)     (None, 12, 12, 128)  0           ['bn4c_branch2a[0][0]']          \n",
            "                                                                                                  \n",
            " res4c_branch2b (Conv2D)        (None, 12, 12, 128)  147584      ['activation_28[0][0]']          \n",
            "                                                                                                  \n",
            " bn4c_branch2b (BatchNormalizat  (None, 12, 12, 128)  512        ['res4c_branch2b[0][0]']         \n",
            " ion)                                                                                             \n",
            "                                                                                                  \n",
            " activation_29 (Activation)     (None, 12, 12, 128)  0           ['bn4c_branch2b[0][0]']          \n",
            "                                                                                                  \n",
            " res4c_branch2c (Conv2D)        (None, 12, 12, 512)  66048       ['activation_29[0][0]']          \n",
            "                                                                                                  \n",
            " bn4c_branch2c (BatchNormalizat  (None, 12, 12, 512)  2048       ['res4c_branch2c[0][0]']         \n",
            " ion)                                                                                             \n",
            "                                                                                                  \n",
            " add_9 (Add)                    (None, 12, 12, 512)  0           ['activation_27[0][0]',          \n",
            "                                                                  'bn4c_branch2c[0][0]']          \n",
            "                                                                                                  \n",
            " activation_30 (Activation)     (None, 12, 12, 512)  0           ['add_9[0][0]']                  \n",
            "                                                                                                  \n",
            " res4d_branch2a (Conv2D)        (None, 12, 12, 128)  65664       ['activation_30[0][0]']          \n",
            "                                                                                                  \n",
            " bn4d_branch2a (BatchNormalizat  (None, 12, 12, 128)  512        ['res4d_branch2a[0][0]']         \n",
            " ion)                                                                                             \n",
            "                                                                                                  \n",
            " activation_31 (Activation)     (None, 12, 12, 128)  0           ['bn4d_branch2a[0][0]']          \n",
            "                                                                                                  \n",
            " res4d_branch2b (Conv2D)        (None, 12, 12, 128)  147584      ['activation_31[0][0]']          \n",
            "                                                                                                  \n",
            " bn4d_branch2b (BatchNormalizat  (None, 12, 12, 128)  512        ['res4d_branch2b[0][0]']         \n",
            " ion)                                                                                             \n",
            "                                                                                                  \n",
            " activation_32 (Activation)     (None, 12, 12, 128)  0           ['bn4d_branch2b[0][0]']          \n",
            "                                                                                                  \n",
            " res4d_branch2c (Conv2D)        (None, 12, 12, 512)  66048       ['activation_32[0][0]']          \n",
            "                                                                                                  \n",
            " bn4d_branch2c (BatchNormalizat  (None, 12, 12, 512)  2048       ['res4d_branch2c[0][0]']         \n",
            " ion)                                                                                             \n",
            "                                                                                                  \n",
            " add_10 (Add)                   (None, 12, 12, 512)  0           ['activation_30[0][0]',          \n",
            "                                                                  'bn4d_branch2c[0][0]']          \n",
            "                                                                                                  \n",
            " activation_33 (Activation)     (None, 12, 12, 512)  0           ['add_10[0][0]']                 \n",
            "                                                                                                  \n",
            " res4e_branch2a (Conv2D)        (None, 12, 12, 128)  65664       ['activation_33[0][0]']          \n",
            "                                                                                                  \n",
            " bn4e_branch2a (BatchNormalizat  (None, 12, 12, 128)  512        ['res4e_branch2a[0][0]']         \n",
            " ion)                                                                                             \n",
            "                                                                                                  \n",
            " activation_34 (Activation)     (None, 12, 12, 128)  0           ['bn4e_branch2a[0][0]']          \n",
            "                                                                                                  \n",
            " res4e_branch2b (Conv2D)        (None, 12, 12, 128)  147584      ['activation_34[0][0]']          \n",
            "                                                                                                  \n",
            " bn4e_branch2b (BatchNormalizat  (None, 12, 12, 128)  512        ['res4e_branch2b[0][0]']         \n",
            " ion)                                                                                             \n",
            "                                                                                                  \n",
            " activation_35 (Activation)     (None, 12, 12, 128)  0           ['bn4e_branch2b[0][0]']          \n",
            "                                                                                                  \n",
            " res4e_branch2c (Conv2D)        (None, 12, 12, 512)  66048       ['activation_35[0][0]']          \n",
            "                                                                                                  \n",
            " bn4e_branch2c (BatchNormalizat  (None, 12, 12, 512)  2048       ['res4e_branch2c[0][0]']         \n",
            " ion)                                                                                             \n",
            "                                                                                                  \n",
            " add_11 (Add)                   (None, 12, 12, 512)  0           ['activation_33[0][0]',          \n",
            "                                                                  'bn4e_branch2c[0][0]']          \n",
            "                                                                                                  \n",
            " activation_36 (Activation)     (None, 12, 12, 512)  0           ['add_11[0][0]']                 \n",
            "                                                                                                  \n",
            " res4f_branch2a (Conv2D)        (None, 12, 12, 128)  65664       ['activation_36[0][0]']          \n",
            "                                                                                                  \n",
            " bn4f_branch2a (BatchNormalizat  (None, 12, 12, 128)  512        ['res4f_branch2a[0][0]']         \n",
            " ion)                                                                                             \n",
            "                                                                                                  \n",
            " activation_37 (Activation)     (None, 12, 12, 128)  0           ['bn4f_branch2a[0][0]']          \n",
            "                                                                                                  \n",
            " res4f_branch2b (Conv2D)        (None, 12, 12, 128)  147584      ['activation_37[0][0]']          \n",
            "                                                                                                  \n",
            " bn4f_branch2b (BatchNormalizat  (None, 12, 12, 128)  512        ['res4f_branch2b[0][0]']         \n",
            " ion)                                                                                             \n",
            "                                                                                                  \n",
            " activation_38 (Activation)     (None, 12, 12, 128)  0           ['bn4f_branch2b[0][0]']          \n",
            "                                                                                                  \n",
            " res4f_branch2c (Conv2D)        (None, 12, 12, 512)  66048       ['activation_38[0][0]']          \n",
            "                                                                                                  \n",
            " bn4f_branch2c (BatchNormalizat  (None, 12, 12, 512)  2048       ['res4f_branch2c[0][0]']         \n",
            " ion)                                                                                             \n",
            "                                                                                                  \n",
            " add_12 (Add)                   (None, 12, 12, 512)  0           ['activation_36[0][0]',          \n",
            "                                                                  'bn4f_branch2c[0][0]']          \n",
            "                                                                                                  \n",
            " activation_39 (Activation)     (None, 12, 12, 512)  0           ['add_12[0][0]']                 \n",
            "                                                                                                  \n",
            " res5a_branch2a (Conv2D)        (None, 6, 6, 256)    131328      ['activation_39[0][0]']          \n",
            "                                                                                                  \n",
            " bn5a_branch2a (BatchNormalizat  (None, 6, 6, 256)   1024        ['res5a_branch2a[0][0]']         \n",
            " ion)                                                                                             \n",
            "                                                                                                  \n",
            " activation_40 (Activation)     (None, 6, 6, 256)    0           ['bn5a_branch2a[0][0]']          \n",
            "                                                                                                  \n",
            " res5a_branch2b (Conv2D)        (None, 6, 6, 256)    590080      ['activation_40[0][0]']          \n",
            "                                                                                                  \n",
            " bn5a_branch2b (BatchNormalizat  (None, 6, 6, 256)   1024        ['res5a_branch2b[0][0]']         \n",
            " ion)                                                                                             \n",
            "                                                                                                  \n",
            " activation_41 (Activation)     (None, 6, 6, 256)    0           ['bn5a_branch2b[0][0]']          \n",
            "                                                                                                  \n",
            " res5a_branch1 (Conv2D)         (None, 6, 6, 1024)   525312      ['activation_39[0][0]']          \n",
            "                                                                                                  \n",
            " res5a_branch2c (Conv2D)        (None, 6, 6, 1024)   263168      ['activation_41[0][0]']          \n",
            "                                                                                                  \n",
            " bn5a_branch1 (BatchNormalizati  (None, 6, 6, 1024)  4096        ['res5a_branch1[0][0]']          \n",
            " on)                                                                                              \n",
            "                                                                                                  \n",
            " bn5a_branch2c (BatchNormalizat  (None, 6, 6, 1024)  4096        ['res5a_branch2c[0][0]']         \n",
            " ion)                                                                                             \n",
            "                                                                                                  \n",
            " add_13 (Add)                   (None, 6, 6, 1024)   0           ['bn5a_branch1[0][0]',           \n",
            "                                                                  'bn5a_branch2c[0][0]']          \n",
            "                                                                                                  \n",
            " activation_42 (Activation)     (None, 6, 6, 1024)   0           ['add_13[0][0]']                 \n",
            "                                                                                                  \n",
            " res5b_branch2a (Conv2D)        (None, 6, 6, 256)    262400      ['activation_42[0][0]']          \n",
            "                                                                                                  \n",
            " bn5b_branch2a (BatchNormalizat  (None, 6, 6, 256)   1024        ['res5b_branch2a[0][0]']         \n",
            " ion)                                                                                             \n",
            "                                                                                                  \n",
            " activation_43 (Activation)     (None, 6, 6, 256)    0           ['bn5b_branch2a[0][0]']          \n",
            "                                                                                                  \n",
            " res5b_branch2b (Conv2D)        (None, 6, 6, 256)    590080      ['activation_43[0][0]']          \n",
            "                                                                                                  \n",
            " bn5b_branch2b (BatchNormalizat  (None, 6, 6, 256)   1024        ['res5b_branch2b[0][0]']         \n",
            " ion)                                                                                             \n",
            "                                                                                                  \n",
            " activation_44 (Activation)     (None, 6, 6, 256)    0           ['bn5b_branch2b[0][0]']          \n",
            "                                                                                                  \n",
            " res5b_branch2c (Conv2D)        (None, 6, 6, 1024)   263168      ['activation_44[0][0]']          \n",
            "                                                                                                  \n",
            " bn5b_branch2c (BatchNormalizat  (None, 6, 6, 1024)  4096        ['res5b_branch2c[0][0]']         \n",
            " ion)                                                                                             \n",
            "                                                                                                  \n",
            " add_14 (Add)                   (None, 6, 6, 1024)   0           ['activation_42[0][0]',          \n",
            "                                                                  'bn5b_branch2c[0][0]']          \n",
            "                                                                                                  \n",
            " activation_45 (Activation)     (None, 6, 6, 1024)   0           ['add_14[0][0]']                 \n",
            "                                                                                                  \n",
            " res5c_branch2a (Conv2D)        (None, 6, 6, 256)    262400      ['activation_45[0][0]']          \n",
            "                                                                                                  \n",
            " bn5c_branch2a (BatchNormalizat  (None, 6, 6, 256)   1024        ['res5c_branch2a[0][0]']         \n",
            " ion)                                                                                             \n",
            "                                                                                                  \n",
            " activation_46 (Activation)     (None, 6, 6, 256)    0           ['bn5c_branch2a[0][0]']          \n",
            "                                                                                                  \n",
            " res5c_branch2b (Conv2D)        (None, 6, 6, 256)    590080      ['activation_46[0][0]']          \n",
            "                                                                                                  \n",
            " bn5c_branch2b (BatchNormalizat  (None, 6, 6, 256)   1024        ['res5c_branch2b[0][0]']         \n",
            " ion)                                                                                             \n",
            "                                                                                                  \n",
            " activation_47 (Activation)     (None, 6, 6, 256)    0           ['bn5c_branch2b[0][0]']          \n",
            "                                                                                                  \n",
            " res5c_branch2c (Conv2D)        (None, 6, 6, 1024)   263168      ['activation_47[0][0]']          \n",
            "                                                                                                  \n",
            " bn5c_branch2c (BatchNormalizat  (None, 6, 6, 1024)  4096        ['res5c_branch2c[0][0]']         \n",
            " ion)                                                                                             \n",
            "                                                                                                  \n",
            " add_15 (Add)                   (None, 6, 6, 1024)   0           ['activation_45[0][0]',          \n",
            "                                                                  'bn5c_branch2c[0][0]']          \n",
            "                                                                                                  \n",
            " activation_48 (Activation)     (None, 6, 6, 1024)   0           ['add_15[0][0]']                 \n",
            "                                                                                                  \n",
            " avg_pool (AveragePooling2D)    (None, 3, 3, 1024)   0           ['activation_48[0][0]']          \n",
            "                                                                                                  \n",
            " flatten (Flatten)              (None, 9216)         0           ['avg_pool[0][0]']               \n",
            "                                                                                                  \n",
            " fc1024 (Dense)                 (None, 512)          4719104     ['flatten[0][0]']                \n",
            "                                                                                                  \n",
            " fc6 (Dense)                    (None, 6)            3078        ['fc1024[0][0]']                 \n",
            "                                                                                                  \n",
            "==================================================================================================\n",
            "Total params: 10,646,070\n",
            "Trainable params: 10,619,558\n",
            "Non-trainable params: 26,512\n",
            "__________________________________________________________________________________________________\n"
          ]
        }
      ]
    },
    {
      "cell_type": "code",
      "source": [
        "from keras import layers\n",
        "from keras.layers import Input, Add, Dense, Activation, ZeroPadding2D, BatchNormalization, Flatten, Conv2D, AveragePooling2D, MaxPooling2D, GlobalMaxPooling2D\n",
        "from keras.models import Model, load_model\n",
        "from keras.preprocessing import image\n",
        "from keras.utils import layer_utils\n",
        "from keras.utils.data_utils import get_file\n",
        "from keras.applications.imagenet_utils import preprocess_input\n",
        "import pydot\n",
        "from IPython.display import SVG\n",
        "from keras.utils.vis_utils import model_to_dot\n",
        "from keras.utils import plot_model\n",
        "\n",
        "from keras.initializers import glorot_uniform\n",
        "import scipy.misc\n",
        "from matplotlib.pyplot import imshow\n",
        "%matplotlib inline\n",
        "\n",
        "import keras.backend as K\n",
        "K.set_image_data_format('channels_last')\n",
        "K.set_learning_phase(1)"
      ],
      "metadata": {
        "id": "0Vvqu4dPj9_8"
      },
      "execution_count": null,
      "outputs": []
    },
    {
      "cell_type": "code",
      "source": [
        "history = model.fit(balanced_gen_male, steps_per_epoch=len(X_train_male) /batch_size, epochs=num_epochs, verbose=1, class_weight=class_weights,callbacks=callbacks,validation_data= (X_test_male,Y_test_male))"
      ],
      "metadata": {
        "colab": {
          "base_uri": "https://localhost:8080/"
        },
        "id": "IHa57Tc3j-3r",
        "outputId": "a41180db-0800-4ecd-a2ef-10df92c4c0c0"
      },
      "execution_count": null,
      "outputs": [
        {
          "output_type": "stream",
          "name": "stdout",
          "text": [
            "Epoch 1/150\n",
            "441/440 [==============================] - ETA: 0s - loss: 2.2180 - accuracy: 0.2343\n",
            "Epoch 1: val_accuracy improved from -inf to 0.20696, saving model to /content/drive/MyDrive/Reserch/models/best_model_cifar10_maletrtest.hdf5\n",
            "440/440 [==============================] - 76s 116ms/step - loss: 2.2180 - accuracy: 0.2343 - val_loss: 1.7043 - val_accuracy: 0.2070 - lr: 5.0000e-04\n",
            "Epoch 2/150\n",
            "441/440 [==============================] - ETA: 0s - loss: 1.6493 - accuracy: 0.2951\n",
            "Epoch 2: val_accuracy improved from 0.20696 to 0.34150, saving model to /content/drive/MyDrive/Reserch/models/best_model_cifar10_maletrtest.hdf5\n",
            "440/440 [==============================] - 47s 107ms/step - loss: 1.6493 - accuracy: 0.2951 - val_loss: 1.5708 - val_accuracy: 0.3415 - lr: 5.0000e-04\n",
            "Epoch 3/150\n",
            "441/440 [==============================] - ETA: 0s - loss: 1.5781 - accuracy: 0.3420\n",
            "Epoch 3: val_accuracy improved from 0.34150 to 0.37416, saving model to /content/drive/MyDrive/Reserch/models/best_model_cifar10_maletrtest.hdf5\n",
            "440/440 [==============================] - 48s 108ms/step - loss: 1.5781 - accuracy: 0.3420 - val_loss: 1.5890 - val_accuracy: 0.3742 - lr: 5.0000e-04\n",
            "Epoch 4/150\n",
            "441/440 [==============================] - ETA: 0s - loss: 1.5007 - accuracy: 0.3841\n",
            "Epoch 4: val_accuracy improved from 0.37416 to 0.39546, saving model to /content/drive/MyDrive/Reserch/models/best_model_cifar10_maletrtest.hdf5\n",
            "440/440 [==============================] - 48s 109ms/step - loss: 1.5007 - accuracy: 0.3841 - val_loss: 1.5818 - val_accuracy: 0.3955 - lr: 5.0000e-04\n",
            "Epoch 5/150\n",
            "441/440 [==============================] - ETA: 0s - loss: 1.4330 - accuracy: 0.4157\n",
            "Epoch 5: val_accuracy improved from 0.39546 to 0.44551, saving model to /content/drive/MyDrive/Reserch/models/best_model_cifar10_maletrtest.hdf5\n",
            "440/440 [==============================] - 48s 109ms/step - loss: 1.4330 - accuracy: 0.4157 - val_loss: 1.3742 - val_accuracy: 0.4455 - lr: 5.0000e-04\n",
            "Epoch 6/150\n",
            "441/440 [==============================] - ETA: 0s - loss: 1.3853 - accuracy: 0.4320\n",
            "Epoch 6: val_accuracy did not improve from 0.44551\n",
            "440/440 [==============================] - 46s 104ms/step - loss: 1.3853 - accuracy: 0.4320 - val_loss: 1.9702 - val_accuracy: 0.3010 - lr: 5.0000e-04\n",
            "Epoch 7/150\n",
            "441/440 [==============================] - ETA: 0s - loss: 1.3428 - accuracy: 0.4529\n",
            "Epoch 7: val_accuracy did not improve from 0.44551\n",
            "440/440 [==============================] - 45s 103ms/step - loss: 1.3428 - accuracy: 0.4529 - val_loss: 1.4404 - val_accuracy: 0.4409 - lr: 5.0000e-04\n",
            "Epoch 8/150\n",
            "441/440 [==============================] - ETA: 0s - loss: 1.3105 - accuracy: 0.4715\n",
            "Epoch 8: val_accuracy improved from 0.44551 to 0.50550, saving model to /content/drive/MyDrive/Reserch/models/best_model_cifar10_maletrtest.hdf5\n",
            "440/440 [==============================] - 48s 110ms/step - loss: 1.3105 - accuracy: 0.4715 - val_loss: 1.2408 - val_accuracy: 0.5055 - lr: 5.0000e-04\n",
            "Epoch 9/150\n",
            "441/440 [==============================] - ETA: 0s - loss: 1.2679 - accuracy: 0.4949\n",
            "Epoch 9: val_accuracy did not improve from 0.50550\n",
            "440/440 [==============================] - 45s 103ms/step - loss: 1.2679 - accuracy: 0.4949 - val_loss: 1.2458 - val_accuracy: 0.4856 - lr: 5.0000e-04\n",
            "Epoch 10/150\n",
            "441/440 [==============================] - ETA: 0s - loss: 1.2456 - accuracy: 0.5072\n",
            "Epoch 10: val_accuracy did not improve from 0.50550\n",
            "440/440 [==============================] - 46s 103ms/step - loss: 1.2456 - accuracy: 0.5072 - val_loss: 1.2802 - val_accuracy: 0.4952 - lr: 5.0000e-04\n",
            "Epoch 11/150\n",
            "441/440 [==============================] - ETA: 0s - loss: 1.2180 - accuracy: 0.5151\n",
            "Epoch 11: val_accuracy did not improve from 0.50550\n",
            "440/440 [==============================] - 46s 103ms/step - loss: 1.2180 - accuracy: 0.5151 - val_loss: 1.3025 - val_accuracy: 0.5020 - lr: 5.0000e-04\n",
            "Epoch 12/150\n",
            "441/440 [==============================] - ETA: 0s - loss: 1.1892 - accuracy: 0.5290\n",
            "Epoch 12: val_accuracy did not improve from 0.50550\n",
            "440/440 [==============================] - 45s 103ms/step - loss: 1.1892 - accuracy: 0.5290 - val_loss: 2.6899 - val_accuracy: 0.3074 - lr: 5.0000e-04\n",
            "Epoch 13/150\n",
            "441/440 [==============================] - ETA: 0s - loss: 1.1650 - accuracy: 0.5423\n",
            "Epoch 13: val_accuracy improved from 0.50550 to 0.50870, saving model to /content/drive/MyDrive/Reserch/models/best_model_cifar10_maletrtest.hdf5\n",
            "440/440 [==============================] - 48s 109ms/step - loss: 1.1650 - accuracy: 0.5423 - val_loss: 1.2580 - val_accuracy: 0.5087 - lr: 5.0000e-04\n",
            "Epoch 14/150\n",
            "441/440 [==============================] - ETA: 0s - loss: 1.1401 - accuracy: 0.5549\n",
            "Epoch 14: val_accuracy improved from 0.50870 to 0.53852, saving model to /content/drive/MyDrive/Reserch/models/best_model_cifar10_maletrtest.hdf5\n",
            "440/440 [==============================] - 48s 109ms/step - loss: 1.1401 - accuracy: 0.5549 - val_loss: 1.1954 - val_accuracy: 0.5385 - lr: 5.0000e-04\n",
            "Epoch 15/150\n",
            "441/440 [==============================] - ETA: 0s - loss: 1.1208 - accuracy: 0.5628\n",
            "Epoch 15: val_accuracy did not improve from 0.53852\n",
            "440/440 [==============================] - 46s 103ms/step - loss: 1.1208 - accuracy: 0.5628 - val_loss: 1.2263 - val_accuracy: 0.5275 - lr: 5.0000e-04\n",
            "Epoch 16/150\n",
            "441/440 [==============================] - ETA: 0s - loss: 1.0972 - accuracy: 0.5721\n",
            "Epoch 16: val_accuracy improved from 0.53852 to 0.54739, saving model to /content/drive/MyDrive/Reserch/models/best_model_cifar10_maletrtest.hdf5\n",
            "440/440 [==============================] - 48s 110ms/step - loss: 1.0972 - accuracy: 0.5721 - val_loss: 1.1777 - val_accuracy: 0.5474 - lr: 5.0000e-04\n",
            "Epoch 17/150\n",
            "441/440 [==============================] - ETA: 0s - loss: 1.0821 - accuracy: 0.5839\n",
            "Epoch 17: val_accuracy improved from 0.54739 to 0.55804, saving model to /content/drive/MyDrive/Reserch/models/best_model_cifar10_maletrtest.hdf5\n",
            "440/440 [==============================] - 48s 109ms/step - loss: 1.0821 - accuracy: 0.5839 - val_loss: 1.1694 - val_accuracy: 0.5580 - lr: 5.0000e-04\n",
            "Epoch 18/150\n",
            "441/440 [==============================] - ETA: 0s - loss: 1.0630 - accuracy: 0.5925\n",
            "Epoch 18: val_accuracy improved from 0.55804 to 0.56514, saving model to /content/drive/MyDrive/Reserch/models/best_model_cifar10_maletrtest.hdf5\n",
            "440/440 [==============================] - 49s 111ms/step - loss: 1.0630 - accuracy: 0.5925 - val_loss: 1.1342 - val_accuracy: 0.5651 - lr: 5.0000e-04\n",
            "Epoch 19/150\n",
            "441/440 [==============================] - ETA: 0s - loss: 1.0372 - accuracy: 0.6009\n",
            "Epoch 19: val_accuracy did not improve from 0.56514\n",
            "440/440 [==============================] - 46s 104ms/step - loss: 1.0372 - accuracy: 0.6009 - val_loss: 1.1854 - val_accuracy: 0.5563 - lr: 5.0000e-04\n",
            "Epoch 20/150\n",
            "441/440 [==============================] - ETA: 0s - loss: 1.0341 - accuracy: 0.5955\n",
            "Epoch 20: val_accuracy did not improve from 0.56514\n",
            "440/440 [==============================] - 46s 105ms/step - loss: 1.0341 - accuracy: 0.5955 - val_loss: 1.4754 - val_accuracy: 0.4860 - lr: 5.0000e-04\n",
            "Epoch 21/150\n",
            "441/440 [==============================] - ETA: 0s - loss: 1.0165 - accuracy: 0.6093\n",
            "Epoch 21: val_accuracy did not improve from 0.56514\n",
            "440/440 [==============================] - 46s 105ms/step - loss: 1.0165 - accuracy: 0.6093 - val_loss: 1.3203 - val_accuracy: 0.5147 - lr: 5.0000e-04\n",
            "Epoch 22/150\n",
            "441/440 [==============================] - ETA: 0s - loss: 1.0060 - accuracy: 0.6129\n",
            "Epoch 22: val_accuracy improved from 0.56514 to 0.58715, saving model to /content/drive/MyDrive/Reserch/models/best_model_cifar10_maletrtest.hdf5\n",
            "440/440 [==============================] - 51s 116ms/step - loss: 1.0060 - accuracy: 0.6129 - val_loss: 1.1120 - val_accuracy: 0.5871 - lr: 5.0000e-04\n",
            "Epoch 23/150\n",
            "441/440 [==============================] - ETA: 0s - loss: 0.9863 - accuracy: 0.6211\n",
            "Epoch 23: val_accuracy did not improve from 0.58715\n",
            "440/440 [==============================] - 46s 105ms/step - loss: 0.9863 - accuracy: 0.6211 - val_loss: 1.1185 - val_accuracy: 0.5800 - lr: 5.0000e-04\n",
            "Epoch 24/150\n",
            "441/440 [==============================] - ETA: 0s - loss: 0.9801 - accuracy: 0.6285\n",
            "Epoch 24: val_accuracy did not improve from 0.58715\n",
            "440/440 [==============================] - 46s 104ms/step - loss: 0.9801 - accuracy: 0.6285 - val_loss: 1.1183 - val_accuracy: 0.5737 - lr: 5.0000e-04\n",
            "Epoch 25/150\n",
            "441/440 [==============================] - ETA: 0s - loss: 0.9600 - accuracy: 0.6317\n",
            "Epoch 25: val_accuracy improved from 0.58715 to 0.58999, saving model to /content/drive/MyDrive/Reserch/models/best_model_cifar10_maletrtest.hdf5\n",
            "440/440 [==============================] - 48s 109ms/step - loss: 0.9600 - accuracy: 0.6317 - val_loss: 1.0863 - val_accuracy: 0.5900 - lr: 5.0000e-04\n",
            "Epoch 26/150\n",
            "441/440 [==============================] - ETA: 0s - loss: 0.9579 - accuracy: 0.6314\n",
            "Epoch 26: val_accuracy did not improve from 0.58999\n",
            "440/440 [==============================] - 46s 104ms/step - loss: 0.9579 - accuracy: 0.6314 - val_loss: 1.1313 - val_accuracy: 0.5758 - lr: 5.0000e-04\n",
            "Epoch 27/150\n",
            "441/440 [==============================] - ETA: 0s - loss: 0.9429 - accuracy: 0.6348\n",
            "Epoch 27: val_accuracy improved from 0.58999 to 0.59460, saving model to /content/drive/MyDrive/Reserch/models/best_model_cifar10_maletrtest.hdf5\n",
            "440/440 [==============================] - 48s 108ms/step - loss: 0.9429 - accuracy: 0.6348 - val_loss: 1.0986 - val_accuracy: 0.5946 - lr: 5.0000e-04\n",
            "Epoch 28/150\n",
            "441/440 [==============================] - ETA: 0s - loss: 0.9338 - accuracy: 0.6390\n",
            "Epoch 28: val_accuracy improved from 0.59460 to 0.62123, saving model to /content/drive/MyDrive/Reserch/models/best_model_cifar10_maletrtest.hdf5\n",
            "440/440 [==============================] - 48s 109ms/step - loss: 0.9338 - accuracy: 0.6390 - val_loss: 0.9917 - val_accuracy: 0.6212 - lr: 5.0000e-04\n",
            "Epoch 29/150\n",
            "441/440 [==============================] - ETA: 0s - loss: 0.9143 - accuracy: 0.6527\n",
            "Epoch 29: val_accuracy did not improve from 0.62123\n",
            "440/440 [==============================] - 46s 104ms/step - loss: 0.9143 - accuracy: 0.6527 - val_loss: 1.1637 - val_accuracy: 0.5744 - lr: 5.0000e-04\n",
            "Epoch 30/150\n",
            "441/440 [==============================] - ETA: 0s - loss: 0.9088 - accuracy: 0.6555\n",
            "Epoch 30: val_accuracy did not improve from 0.62123\n",
            "440/440 [==============================] - 46s 105ms/step - loss: 0.9088 - accuracy: 0.6555 - val_loss: 1.1468 - val_accuracy: 0.5815 - lr: 5.0000e-04\n",
            "Epoch 31/150\n",
            "441/440 [==============================] - ETA: 0s - loss: 0.8995 - accuracy: 0.6561\n",
            "Epoch 31: val_accuracy did not improve from 0.62123\n",
            "440/440 [==============================] - 46s 103ms/step - loss: 0.8995 - accuracy: 0.6561 - val_loss: 1.0709 - val_accuracy: 0.6088 - lr: 5.0000e-04\n",
            "Epoch 32/150\n",
            "441/440 [==============================] - ETA: 0s - loss: 0.8882 - accuracy: 0.6648\n",
            "Epoch 32: val_accuracy did not improve from 0.62123\n",
            "440/440 [==============================] - 46s 104ms/step - loss: 0.8882 - accuracy: 0.6648 - val_loss: 1.0781 - val_accuracy: 0.6060 - lr: 5.0000e-04\n",
            "Epoch 33/150\n",
            "441/440 [==============================] - ETA: 0s - loss: 0.8770 - accuracy: 0.6641\n",
            "Epoch 33: val_accuracy did not improve from 0.62123\n",
            "440/440 [==============================] - 46s 104ms/step - loss: 0.8770 - accuracy: 0.6641 - val_loss: 1.1023 - val_accuracy: 0.5808 - lr: 5.0000e-04\n",
            "Epoch 34/150\n",
            "441/440 [==============================] - ETA: 0s - loss: 0.8710 - accuracy: 0.6685\n",
            "Epoch 34: val_accuracy improved from 0.62123 to 0.62868, saving model to /content/drive/MyDrive/Reserch/models/best_model_cifar10_maletrtest.hdf5\n",
            "440/440 [==============================] - 48s 109ms/step - loss: 0.8710 - accuracy: 0.6685 - val_loss: 1.0128 - val_accuracy: 0.6287 - lr: 5.0000e-04\n",
            "Epoch 35/150\n",
            "441/440 [==============================] - ETA: 0s - loss: 0.8598 - accuracy: 0.6761\n",
            "Epoch 35: val_accuracy did not improve from 0.62868\n",
            "440/440 [==============================] - 46s 105ms/step - loss: 0.8598 - accuracy: 0.6761 - val_loss: 1.0243 - val_accuracy: 0.6127 - lr: 5.0000e-04\n",
            "Epoch 36/150\n",
            "441/440 [==============================] - ETA: 0s - loss: 0.8381 - accuracy: 0.6814\n",
            "Epoch 36: val_accuracy did not improve from 0.62868\n",
            "440/440 [==============================] - 46s 105ms/step - loss: 0.8381 - accuracy: 0.6814 - val_loss: 1.0822 - val_accuracy: 0.6141 - lr: 5.0000e-04\n",
            "Epoch 37/150\n",
            "441/440 [==============================] - ETA: 0s - loss: 0.8295 - accuracy: 0.6892\n",
            "Epoch 37: val_accuracy did not improve from 0.62868\n",
            "440/440 [==============================] - 45s 103ms/step - loss: 0.8295 - accuracy: 0.6892 - val_loss: 1.0457 - val_accuracy: 0.6148 - lr: 5.0000e-04\n",
            "Epoch 38/150\n",
            "441/440 [==============================] - ETA: 0s - loss: 0.8209 - accuracy: 0.6868\n",
            "Epoch 38: val_accuracy improved from 0.62868 to 0.62904, saving model to /content/drive/MyDrive/Reserch/models/best_model_cifar10_maletrtest.hdf5\n",
            "440/440 [==============================] - 51s 116ms/step - loss: 0.8209 - accuracy: 0.6868 - val_loss: 1.0226 - val_accuracy: 0.6290 - lr: 5.0000e-04\n",
            "Epoch 39/150\n",
            "441/440 [==============================] - ETA: 0s - loss: 0.8117 - accuracy: 0.6935\n",
            "Epoch 39: val_accuracy did not improve from 0.62904\n",
            "440/440 [==============================] - 46s 103ms/step - loss: 0.8117 - accuracy: 0.6935 - val_loss: 1.0503 - val_accuracy: 0.6216 - lr: 5.0000e-04\n",
            "Epoch 40/150\n",
            "441/440 [==============================] - ETA: 0s - loss: 0.8015 - accuracy: 0.6960\n",
            "Epoch 40: val_accuracy did not improve from 0.62904\n",
            "\n",
            "Epoch 40: ReduceLROnPlateau reducing learning rate to 5.0000002374872565e-05.\n",
            "440/440 [==============================] - 46s 105ms/step - loss: 0.8015 - accuracy: 0.6960 - val_loss: 1.0222 - val_accuracy: 0.6230 - lr: 5.0000e-04\n",
            "Epoch 41/150\n",
            "441/440 [==============================] - ETA: 0s - loss: 0.7180 - accuracy: 0.7272\n",
            "Epoch 41: val_accuracy improved from 0.62904 to 0.64998, saving model to /content/drive/MyDrive/Reserch/models/best_model_cifar10_maletrtest.hdf5\n",
            "440/440 [==============================] - 48s 110ms/step - loss: 0.7180 - accuracy: 0.7272 - val_loss: 0.9506 - val_accuracy: 0.6500 - lr: 5.0000e-05\n",
            "Epoch 42/150\n",
            "441/440 [==============================] - ETA: 0s - loss: 0.6797 - accuracy: 0.7423\n",
            "Epoch 42: val_accuracy improved from 0.64998 to 0.65247, saving model to /content/drive/MyDrive/Reserch/models/best_model_cifar10_maletrtest.hdf5\n",
            "440/440 [==============================] - 48s 109ms/step - loss: 0.6797 - accuracy: 0.7423 - val_loss: 0.9609 - val_accuracy: 0.6525 - lr: 5.0000e-05\n",
            "Epoch 43/150\n",
            "441/440 [==============================] - ETA: 0s - loss: 0.6647 - accuracy: 0.7465\n",
            "Epoch 43: val_accuracy improved from 0.65247 to 0.65424, saving model to /content/drive/MyDrive/Reserch/models/best_model_cifar10_maletrtest.hdf5\n",
            "440/440 [==============================] - 48s 108ms/step - loss: 0.6647 - accuracy: 0.7465 - val_loss: 0.9773 - val_accuracy: 0.6542 - lr: 5.0000e-05\n",
            "Epoch 44/150\n",
            "441/440 [==============================] - ETA: 0s - loss: 0.6659 - accuracy: 0.7484\n",
            "Epoch 44: val_accuracy improved from 0.65424 to 0.65744, saving model to /content/drive/MyDrive/Reserch/models/best_model_cifar10_maletrtest.hdf5\n",
            "440/440 [==============================] - 48s 110ms/step - loss: 0.6659 - accuracy: 0.7484 - val_loss: 0.9763 - val_accuracy: 0.6574 - lr: 5.0000e-05\n",
            "Epoch 45/150\n",
            "441/440 [==============================] - ETA: 0s - loss: 0.6513 - accuracy: 0.7555\n",
            "Epoch 45: val_accuracy did not improve from 0.65744\n",
            "440/440 [==============================] - 46s 104ms/step - loss: 0.6513 - accuracy: 0.7555 - val_loss: 0.9788 - val_accuracy: 0.6535 - lr: 5.0000e-05\n",
            "Epoch 46/150\n",
            "441/440 [==============================] - ETA: 0s - loss: 0.6355 - accuracy: 0.7607\n",
            "Epoch 46: val_accuracy did not improve from 0.65744\n",
            "440/440 [==============================] - 46s 103ms/step - loss: 0.6355 - accuracy: 0.7607 - val_loss: 0.9896 - val_accuracy: 0.6550 - lr: 5.0000e-05\n",
            "Epoch 47/150\n",
            "441/440 [==============================] - ETA: 0s - loss: 0.6317 - accuracy: 0.7631\n",
            "Epoch 47: val_accuracy improved from 0.65744 to 0.66099, saving model to /content/drive/MyDrive/Reserch/models/best_model_cifar10_maletrtest.hdf5\n",
            "440/440 [==============================] - 48s 109ms/step - loss: 0.6317 - accuracy: 0.7631 - val_loss: 0.9861 - val_accuracy: 0.6610 - lr: 5.0000e-05\n",
            "Epoch 48/150\n",
            "441/440 [==============================] - ETA: 0s - loss: 0.6265 - accuracy: 0.7638\n",
            "Epoch 48: val_accuracy did not improve from 0.66099\n",
            "440/440 [==============================] - 46s 104ms/step - loss: 0.6265 - accuracy: 0.7638 - val_loss: 0.9842 - val_accuracy: 0.6553 - lr: 5.0000e-05\n",
            "Epoch 49/150\n",
            "441/440 [==============================] - ETA: 0s - loss: 0.6209 - accuracy: 0.7675\n",
            "Epoch 49: val_accuracy did not improve from 0.66099\n",
            "440/440 [==============================] - 46s 105ms/step - loss: 0.6209 - accuracy: 0.7675 - val_loss: 0.9961 - val_accuracy: 0.6585 - lr: 5.0000e-05\n",
            "Epoch 50/150\n",
            "441/440 [==============================] - ETA: 0s - loss: 0.6162 - accuracy: 0.7726\n",
            "Epoch 50: val_accuracy did not improve from 0.66099\n",
            "440/440 [==============================] - 46s 104ms/step - loss: 0.6162 - accuracy: 0.7726 - val_loss: 1.0040 - val_accuracy: 0.6525 - lr: 5.0000e-05\n",
            "Epoch 51/150\n",
            "441/440 [==============================] - ETA: 0s - loss: 0.6072 - accuracy: 0.7754\n",
            "Epoch 51: val_accuracy did not improve from 0.66099\n",
            "440/440 [==============================] - 46s 105ms/step - loss: 0.6072 - accuracy: 0.7754 - val_loss: 1.0020 - val_accuracy: 0.6518 - lr: 5.0000e-05\n",
            "Epoch 52/150\n",
            "441/440 [==============================] - ETA: 0s - loss: 0.5991 - accuracy: 0.7758\n",
            "Epoch 52: val_accuracy did not improve from 0.66099\n",
            "440/440 [==============================] - 46s 105ms/step - loss: 0.5991 - accuracy: 0.7758 - val_loss: 1.0225 - val_accuracy: 0.6581 - lr: 5.0000e-05\n",
            "Epoch 53/150\n",
            "441/440 [==============================] - ETA: 0s - loss: 0.5980 - accuracy: 0.7743\n",
            "Epoch 53: val_accuracy improved from 0.66099 to 0.66312, saving model to /content/drive/MyDrive/Reserch/models/best_model_cifar10_maletrtest.hdf5\n",
            "\n",
            "Epoch 53: ReduceLROnPlateau reducing learning rate to 5.000000237487257e-06.\n",
            "440/440 [==============================] - 48s 110ms/step - loss: 0.5980 - accuracy: 0.7743 - val_loss: 1.0025 - val_accuracy: 0.6631 - lr: 5.0000e-05\n",
            "Epoch 54/150\n",
            "441/440 [==============================] - ETA: 0s - loss: 0.5862 - accuracy: 0.7798\n",
            "Epoch 54: val_accuracy did not improve from 0.66312\n",
            "440/440 [==============================] - 46s 104ms/step - loss: 0.5862 - accuracy: 0.7798 - val_loss: 1.0080 - val_accuracy: 0.6610 - lr: 5.0000e-06\n",
            "Epoch 55/150\n",
            "441/440 [==============================] - ETA: 0s - loss: 0.5757 - accuracy: 0.7844\n",
            "Epoch 55: val_accuracy did not improve from 0.66312\n",
            "440/440 [==============================] - 46s 105ms/step - loss: 0.5757 - accuracy: 0.7844 - val_loss: 1.0059 - val_accuracy: 0.6610 - lr: 5.0000e-06\n",
            "Epoch 56/150\n",
            "441/440 [==============================] - ETA: 0s - loss: 0.5805 - accuracy: 0.7836\n",
            "Epoch 56: val_accuracy did not improve from 0.66312\n",
            "440/440 [==============================] - 46s 103ms/step - loss: 0.5805 - accuracy: 0.7836 - val_loss: 1.0101 - val_accuracy: 0.6624 - lr: 5.0000e-06\n",
            "Epoch 57/150\n",
            "441/440 [==============================] - ETA: 0s - loss: 0.5839 - accuracy: 0.7829\n",
            "Epoch 57: val_accuracy did not improve from 0.66312\n",
            "440/440 [==============================] - 47s 106ms/step - loss: 0.5839 - accuracy: 0.7829 - val_loss: 1.0053 - val_accuracy: 0.6617 - lr: 5.0000e-06\n",
            "Epoch 58/150\n",
            "441/440 [==============================] - ETA: 0s - loss: 0.5816 - accuracy: 0.7838\n",
            "Epoch 58: val_accuracy did not improve from 0.66312\n",
            "440/440 [==============================] - 46s 104ms/step - loss: 0.5816 - accuracy: 0.7838 - val_loss: 1.0105 - val_accuracy: 0.6613 - lr: 5.0000e-06\n",
            "Epoch 59/150\n",
            "441/440 [==============================] - ETA: 0s - loss: 0.5804 - accuracy: 0.7839\n",
            "Epoch 59: val_accuracy improved from 0.66312 to 0.66489, saving model to /content/drive/MyDrive/Reserch/models/best_model_cifar10_maletrtest.hdf5\n",
            "440/440 [==============================] - 49s 110ms/step - loss: 0.5804 - accuracy: 0.7839 - val_loss: 1.0072 - val_accuracy: 0.6649 - lr: 5.0000e-06\n",
            "Epoch 60/150\n",
            "441/440 [==============================] - ETA: 0s - loss: 0.5825 - accuracy: 0.7833\n",
            "Epoch 60: val_accuracy did not improve from 0.66489\n",
            "440/440 [==============================] - 47s 106ms/step - loss: 0.5825 - accuracy: 0.7833 - val_loss: 1.0077 - val_accuracy: 0.6649 - lr: 5.0000e-06\n",
            "Epoch 61/150\n",
            "441/440 [==============================] - ETA: 0s - loss: 0.5854 - accuracy: 0.7822\n",
            "Epoch 61: val_accuracy improved from 0.66489 to 0.66560, saving model to /content/drive/MyDrive/Reserch/models/best_model_cifar10_maletrtest.hdf5\n",
            "440/440 [==============================] - 49s 111ms/step - loss: 0.5854 - accuracy: 0.7822 - val_loss: 1.0096 - val_accuracy: 0.6656 - lr: 5.0000e-06\n",
            "Epoch 62/150\n",
            "441/440 [==============================] - ETA: 0s - loss: 0.5768 - accuracy: 0.7860\n",
            "Epoch 62: val_accuracy did not improve from 0.66560\n",
            "440/440 [==============================] - 46s 104ms/step - loss: 0.5768 - accuracy: 0.7860 - val_loss: 1.0073 - val_accuracy: 0.6638 - lr: 5.0000e-06\n",
            "Epoch 63/150\n",
            "441/440 [==============================] - ETA: 0s - loss: 0.5763 - accuracy: 0.7869\n",
            "Epoch 63: val_accuracy did not improve from 0.66560\n",
            "440/440 [==============================] - 46s 105ms/step - loss: 0.5763 - accuracy: 0.7869 - val_loss: 1.0128 - val_accuracy: 0.6624 - lr: 5.0000e-06\n",
            "Epoch 64/150\n",
            "441/440 [==============================] - ETA: 0s - loss: 0.5728 - accuracy: 0.7837\n",
            "Epoch 64: val_accuracy did not improve from 0.66560\n",
            "440/440 [==============================] - 46s 105ms/step - loss: 0.5728 - accuracy: 0.7837 - val_loss: 1.0130 - val_accuracy: 0.6606 - lr: 5.0000e-06\n",
            "Epoch 65/150\n",
            "441/440 [==============================] - ETA: 0s - loss: 0.5746 - accuracy: 0.7876\n",
            "Epoch 65: val_accuracy did not improve from 0.66560\n",
            "\n",
            "Epoch 65: ReduceLROnPlateau reducing learning rate to 5.000000328436726e-07.\n",
            "440/440 [==============================] - 46s 105ms/step - loss: 0.5746 - accuracy: 0.7876 - val_loss: 1.0197 - val_accuracy: 0.6613 - lr: 5.0000e-06\n",
            "Epoch 66/150\n",
            "441/440 [==============================] - ETA: 0s - loss: 0.5717 - accuracy: 0.7860\n",
            "Epoch 66: val_accuracy did not improve from 0.66560\n",
            "440/440 [==============================] - 46s 105ms/step - loss: 0.5717 - accuracy: 0.7860 - val_loss: 1.0170 - val_accuracy: 0.6631 - lr: 5.0000e-07\n"
          ]
        }
      ]
    },
    {
      "cell_type": "code",
      "source": [
        "loss, accuracy = model.evaluate(X_test_male,Y_test_male)"
      ],
      "metadata": {
        "id": "0yQ87dpw5yy5",
        "colab": {
          "base_uri": "https://localhost:8080/"
        },
        "outputId": "048cac0f-2311-4668-c6fd-baac7acd3dee"
      },
      "execution_count": null,
      "outputs": [
        {
          "output_type": "stream",
          "name": "stdout",
          "text": [
            "89/89 [==============================] - 2s 26ms/step - loss: 1.0170 - accuracy: 0.6631\n"
          ]
        }
      ]
    },
    {
      "cell_type": "markdown",
      "source": [
        "**Prediction results**"
      ],
      "metadata": {
        "id": "eDR0Q3819z_E"
      }
    },
    {
      "cell_type": "code",
      "source": [
        "# Assuming you have a trained model named 'model' and training data X_train and corresponding labels Y_train\n",
        "\n",
        "# Define the emotion label mapping\n",
        "label_mapping = {\n",
        "    0: \"happy\",\n",
        "    1: \"sad\",\n",
        "    2: \"neutral\",\n",
        "    3: \"fear\",\n",
        "    4: \"disgust\",\n",
        "    5: \"angry\"\n",
        "}\n",
        "\n",
        "# Make predictions on the training data\n",
        "Y_pred = model.predict(X_train_male)\n",
        "\n",
        "# Select a few examples to display\n",
        "num_examples = 10\n",
        "indices = np.random.randint(0, len(X_train_male), num_examples)\n",
        "\n",
        "# Display the predicted and actual labels for the selected examples\n",
        "for index in indices:\n",
        "    predicted_label = np.argmax(Y_pred[index])  # Get the index of the predicted class with the highest probability\n",
        "    actual_label = np.argmax(Y_train_male[index])  # Get the index of the actual class\n",
        "    predicted_emotion = label_mapping[predicted_label]\n",
        "    actual_emotion = label_mapping[actual_label]\n",
        "    print(\"Example {}: Predicted label = {}, Actual label = {}\".format(index, predicted_emotion, actual_emotion))\n"
      ],
      "metadata": {
        "id": "Iny-osZwrh1O",
        "colab": {
          "base_uri": "https://localhost:8080/"
        },
        "outputId": "7d6ef858-a2bc-4ad8-9e83-cdd03b6d1401"
      },
      "execution_count": null,
      "outputs": [
        {
          "output_type": "stream",
          "name": "stdout",
          "text": [
            "441/441 [==============================] - 11s 24ms/step\n",
            "Example 3012: Predicted label = happy, Actual label = happy\n",
            "Example 5945: Predicted label = sad, Actual label = sad\n",
            "Example 5412: Predicted label = angry, Actual label = angry\n",
            "Example 5477: Predicted label = sad, Actual label = sad\n",
            "Example 2636: Predicted label = neutral, Actual label = angry\n",
            "Example 2192: Predicted label = angry, Actual label = angry\n",
            "Example 7706: Predicted label = neutral, Actual label = neutral\n",
            "Example 8477: Predicted label = sad, Actual label = sad\n",
            "Example 9282: Predicted label = fear, Actual label = fear\n",
            "Example 7595: Predicted label = sad, Actual label = disgust\n"
          ]
        }
      ]
    },
    {
      "cell_type": "code",
      "source": [
        "def plotting_epochs(training_, validation_, lossOrAccu):\n",
        "  plt.figure(figsize=[6,4])\n",
        "  plt.plot(training_, 'black', linewidth=2.0)\n",
        "  plt.plot(validation_, 'blue', linewidth=2.0)\n",
        "  plt.legend(['Training '+lossOrAccu, 'Validation '+lossOrAccu], fontsize=14)\n",
        "  plt.xlabel('Epochs', fontsize=10)\n",
        "  plt.ylabel(lossOrAccu, fontsize=10)\n",
        "  plt.title(lossOrAccu+' Curves', fontsize=12)"
      ],
      "metadata": {
        "id": "XJgLuaFT-J8s"
      },
      "execution_count": null,
      "outputs": []
    },
    {
      "cell_type": "code",
      "source": [
        "plotting_epochs(history.history['accuracy'], history.history['val_accuracy'], \"Accuracy\")\n",
        "plotting_epochs(history.history['loss'], history.history['val_loss'], \"Loss\")"
      ],
      "metadata": {
        "id": "dd188geq81_r",
        "colab": {
          "base_uri": "https://localhost:8080/",
          "height": 803
        },
        "outputId": "e0f072a0-2aab-42a1-a9a8-780246548c8d"
      },
      "execution_count": null,
      "outputs": [
        {
          "output_type": "display_data",
          "data": {
            "text/plain": [
              "<Figure size 600x400 with 1 Axes>"
            ],
            "image/png": "[encoded data removed]"
          },
          "metadata": {}
        },
        {
          "output_type": "display_data",
          "data": {
            "text/plain": [
              "<Figure size 600x400 with 1 Axes>"
            ],
            "image/png": "[encoded data removed]"
          },
          "metadata": {}
        }
      ]
    },
    {
      "cell_type": "code",
      "source": [
        "fig, ((ax1, ax2)) = plt.subplots(nrows=1, ncols=2,figsize=(20,6))\n",
        "\n",
        "ax1.plot(history.history['accuracy'],'b', history.history['val_accuracy'], 'r')\n",
        "ax1.set_ylabel('Accuracy Rate',fontsize=12)\n",
        "ax1.set_xlabel('Iteration',fontsize=12)\n",
        "ax1.set_title(')',fontsize=14)\n",
        "\n",
        "ax1.legend(['Training Accuracy','Validation Accuracy'],fontsize=12,loc='best')\n",
        "\n",
        "ax2.plot(history.history['loss'], 'b',history.history['val_loss'],'r')\n",
        "ax2.set_ylabel('Loss',fontsize=12)\n",
        "ax2.set_xlabel('Iteration',fontsize=12)\n",
        "ax2.set_title('Learning Curve',fontsize=14)\n",
        "ax2.legend(['Training Loss','Validation Loss'],fontsize=12,loc='best')\n",
        "\n",
        "# plt.savefig('crosse_results.png')\n",
        "plt.show()"
      ],
      "metadata": {
        "id": "6IJiFJPC821D",
        "colab": {
          "base_uri": "https://localhost:8080/",
          "height": 526
        },
        "outputId": "c72e9380-d1f1-44c3-9a14-d7a2bcec18ed"
      },
      "execution_count": null,
      "outputs": [
        {
          "output_type": "display_data",
          "data": {
            "text/plain": [
              "<Figure size 2000x600 with 2 Axes>"
            ],
            "image/png": "[encoded data removed]"
          },
          "metadata": {}
        }
      ]
    },
    {
      "cell_type": "code",
      "source": [
        "import numpy as np\n",
        "import matplotlib.pyplot as plt\n",
        "import seaborn as sns\n",
        "from sklearn.metrics import confusion_matrix\n",
        "\n",
        "# Assuming you have a trained model named 'model' and test data X_test with corresponding true labels Y_test\n",
        "\n",
        "# Make predictions on the test data\n",
        "Y_pred = model.predict(X_test_male)\n",
        "\n",
        "# Get the class labels with the highest probability for each prediction\n",
        "y_pred = np.argmax(Y_pred, axis=1)\n",
        "\n",
        "# Get the true labels for the test data\n",
        "y_true = np.argmax(Y_test_male, axis=1)\n",
        "\n",
        "# Assuming you have the true labels (y_true) and predicted labels (y_pred)\n",
        "\n",
        "# Compute the confusion matrix\n",
        "cm = confusion_matrix(y_true, y_pred)\n",
        "\n",
        "# Create a list of class labels\n",
        "class_labels = ['happy', 'sad', 'neutral', 'fear', 'disgust', 'angry']\n",
        "\n",
        "# Plot the confusion matrix\n",
        "plt.figure(figsize=(8, 6))\n",
        "sns.heatmap(cm, annot=True, fmt=\"d\", cmap='Blues', xticklabels=class_labels, yticklabels=class_labels)\n",
        "plt.title(\"Confusion Matrix\")\n",
        "plt.xlabel(\"Predicted Labels\")\n",
        "plt.ylabel(\"True Labels\")\n",
        "plt.show()"
      ],
      "metadata": {
        "id": "7_usqMAK5g3d",
        "colab": {
          "base_uri": "https://localhost:8080/",
          "height": 581
        },
        "outputId": "68e32427-070c-46ef-897f-3eaadd66825b"
      },
      "execution_count": null,
      "outputs": [
        {
          "output_type": "stream",
          "name": "stdout",
          "text": [
            "89/89 [==============================] - 2s 24ms/step\n"
          ]
        },
        {
          "output_type": "display_data",
          "data": {
            "text/plain": [
              "<Figure size 800x600 with 2 Axes>"
            ],
            "image/png": "[encoded data removed]"
          },
          "metadata": {}
        }
      ]
    },
    {
      "cell_type": "code",
      "source": [
        "\n",
        "from sklearn.metrics import classification_report\n",
        "\n",
        "# Assuming you have a trained model named 'model' and test data X_test and corresponding labels Y_test\n",
        "\n",
        "# Make predictions on the test data\n",
        "Y_pred = model.predict(X_test_male)\n",
        "predicted_labels = np.argmax(Y_pred, axis=1)\n",
        "\n",
        "# Generate classification report\n",
        "report = classification_report(np.argmax(Y_test_male, axis=1), predicted_labels)\n",
        "\n",
        "print(report)"
      ],
      "metadata": {
        "id": "conpb89JAm70",
        "colab": {
          "base_uri": "https://localhost:8080/"
        },
        "outputId": "a38e5029-6bec-4699-dfa4-3860c69cdd6b"
      },
      "execution_count": null,
      "outputs": [
        {
          "output_type": "stream",
          "name": "stdout",
          "text": [
            "89/89 [==============================] - 2s 23ms/step\n",
            "              precision    recall  f1-score   support\n",
            "\n",
            "           0       0.91      0.84      0.88       553\n",
            "           1       0.53      0.52      0.53       537\n",
            "           2       0.62      0.77      0.69       646\n",
            "           3       0.65      0.46      0.54       451\n",
            "           4       0.75      0.57      0.65        75\n",
            "           5       0.63      0.67      0.65       555\n",
            "\n",
            "    accuracy                           0.66      2817\n",
            "   macro avg       0.68      0.64      0.65      2817\n",
            "weighted avg       0.67      0.66      0.66      2817\n",
            "\n"
          ]
        }
      ]
    },
    {
      "cell_type": "code",
      "source": [
        "# import dlib\n",
        "# from PIL import Image\n",
        "# from skimage import io, color\n",
        "# import matplotlib.pyplot as plt\n",
        "\n",
        "# def detect_faces(image):\n",
        "#     # Create a face detector\n",
        "#     face_detector = dlib.get_frontal_face_detector()\n",
        "\n",
        "#     # Convert image to RGB if it's in a different format\n",
        "#     if image.ndim == 2:\n",
        "#         # Grayscale image\n",
        "#         image = color.gray2rgb(image)\n",
        "#     elif image.ndim == 4:\n",
        "#         # RGBA image\n",
        "#         image = image[..., :3]\n",
        "\n",
        "#     # Run detector and get bounding boxes of the faces in the image\n",
        "#     detected_faces = face_detector(image, 1)\n",
        "#     face_frames = [(x.left(), x.top(), x.right(), x.bottom()) for x in detected_faces]\n",
        "\n",
        "#     return face_frames\n",
        "\n",
        "# # Load image\n",
        "# img_path = '/content/drive/MyDrive/photos/S057_001_00000019.png'\n",
        "# image = io.imread(img_path)\n",
        "\n",
        "# # Detect faces\n",
        "# detected_faces = detect_faces(image)\n",
        "# tab_faces = []\n",
        "# # Crop faces and plot\n",
        "# for n, face_rect in enumerate(detected_faces):\n",
        "#     face = Image.fromarray(image).crop(face_rect)\n",
        "#     tab = np.asarray(face)\n",
        "#     tab_faces.append(tab)\n",
        "#     plt.subplot(1, len(detected_faces), n+1)\n",
        "#     plt.axis('off')\n",
        "#     plt.imshow(face)\n",
        "\n",
        "# plt.show()\n"
      ],
      "metadata": {
        "id": "yLtV0VxsWwo4"
      },
      "execution_count": null,
      "outputs": []
    },
    {
      "cell_type": "code",
      "source": [
        "# image_to_predict = np.asarray(face)\n",
        "# img = cv2.resize(image_to_predict,(48,48),1)"
      ],
      "metadata": {
        "id": "_5NklaupX9k4"
      },
      "execution_count": null,
      "outputs": []
    },
    {
      "cell_type": "code",
      "source": [
        "# inv_dic = {\n",
        "#     0: 'happy',\n",
        "#     1: 'sad',\n",
        "#     2: 'suprise',\n",
        "#     3: 'fear',\n",
        "#     4: 'disgust',\n",
        "#     5: 'angry'\n",
        "#     # Add more class labels and indices as needed\n",
        "# }\n"
      ],
      "metadata": {
        "id": "OQEmQYoPby4G"
      },
      "execution_count": null,
      "outputs": []
    },
    {
      "cell_type": "code",
      "source": [
        "# tab = []\n",
        "# tab.append(img)\n",
        "# tab = np.array(tab)\n",
        "# print(inv_dic[np.argmax(model.predict(tab))])\n",
        "# # plt.imshow(tab[0],cmap = plt.cm.binary)"
      ],
      "metadata": {
        "id": "No-8oCsAYTTp"
      },
      "execution_count": null,
      "outputs": []
    },
    {
      "cell_type": "code",
      "source": [
        "# for img in tab_faces :\n",
        "#   img = img = cv2.resize(img,(48,48),3)\n",
        "#   tab = []\n",
        "#   tab.append(img)\n",
        "#   tab = np.array(tab)\n",
        "#   print(inv_dic[np.argmax(model.predict(tab))])"
      ],
      "metadata": {
        "id": "KDTSWgY0YgjQ"
      },
      "execution_count": null,
      "outputs": []
    },
    {
      "cell_type": "code",
      "source": [
        "# # Load and display the original image\n",
        "# original_image = Image.fromarray(image)\n",
        "# plt.figure()\n",
        "# plt.imshow(original_image)\n",
        "# plt.axis('off')\n",
        "# plt.show()"
      ],
      "metadata": {
        "id": "f0Hd9d55Yo2Y"
      },
      "execution_count": null,
      "outputs": []
    },
    {
      "cell_type": "code",
      "source": [
        "# import dlib\n",
        "# from PIL import Image\n",
        "# from skimage import io, color\n",
        "# import matplotlib.pyplot as plt\n",
        "\n",
        "# def detect_faces(image):\n",
        "#     # Create a face detector\n",
        "#     face_detector = dlib.get_frontal_face_detector()\n",
        "\n",
        "#     # Convert image to RGB if it's in a different format\n",
        "#     if image.ndim == 2:\n",
        "#         # Grayscale image\n",
        "#         image = color.gray2rgb(image)\n",
        "#     elif image.ndim == 4:\n",
        "#         # RGBA image\n",
        "#         image = image[..., :3]\n",
        "\n",
        "#     # Run detector and get bounding boxes of the faces in the image\n",
        "#     detected_faces = face_detector(image, 1)\n",
        "#     face_frames = [(x.left(), x.top(), x.right(), x.bottom()) for x in detected_faces]\n",
        "\n",
        "#     return face_frames\n",
        "\n",
        "# # Load image\n",
        "# img_path = '/content/drive/MyDrive/photos/S999_001_00000018.png'\n",
        "# image = io.imread(img_path)\n",
        "\n",
        "# # Detect faces\n",
        "# detected_faces = detect_faces(image)\n",
        "# tab_faces = []\n",
        "# # Crop faces and plot\n",
        "# for n, face_rect in enumerate(detected_faces):\n",
        "#     face = Image.fromarray(image).crop(face_rect)\n",
        "#     tab = np.asarray(face)\n",
        "#     tab_faces.append(tab)\n",
        "#     plt.subplot(1, len(detected_faces), n+1)\n",
        "#     plt.axis('off')\n",
        "#     plt.imshow(face)\n",
        "\n",
        "# plt.show()"
      ],
      "metadata": {
        "id": "OldZd-26i13n"
      },
      "execution_count": null,
      "outputs": []
    },
    {
      "cell_type": "code",
      "source": [
        "# image_to_predict = np.asarray(face)\n",
        "# img = cv2.resize(image_to_predict,(48,48),1)"
      ],
      "metadata": {
        "id": "dnUsaX6gjRrU"
      },
      "execution_count": null,
      "outputs": []
    },
    {
      "cell_type": "code",
      "source": [
        "# inv_dic = {\n",
        "#     0: 'happy',\n",
        "#     1: 'sad',\n",
        "#     2: 'suprise',\n",
        "#     3: 'fear',\n",
        "#     4: 'disgust',\n",
        "#     5: 'angry'\n",
        "#     # Add more class labels and indices as needed\n",
        "# }\n"
      ],
      "metadata": {
        "id": "u0x83Pd9jSsy"
      },
      "execution_count": null,
      "outputs": []
    },
    {
      "cell_type": "code",
      "source": [
        "# tab = []\n",
        "# tab.append(img)\n",
        "# tab = np.array(tab)\n",
        "# print(inv_dic[np.argmax(model.predict(tab))])\n",
        "# # plt.imshow(tab[0],cmap = plt.cm.binary)"
      ],
      "metadata": {
        "id": "iVL20p22jZaE"
      },
      "execution_count": null,
      "outputs": []
    },
    {
      "cell_type": "code",
      "source": [
        "# for img in tab_faces :\n",
        "#   img = img = cv2.resize(img,(48,48),3)\n",
        "#   tab = []\n",
        "#   tab.append(img)\n",
        "#   tab = np.array(tab)\n",
        "#   print(inv_dic[np.argmax(model.predict(tab))])"
      ],
      "metadata": {
        "id": "EUo5JUQ6jdYT"
      },
      "execution_count": null,
      "outputs": []
    },
    {
      "cell_type": "code",
      "source": [
        "# # Load and display the original image\n",
        "# original_image = Image.fromarray(image)\n",
        "# plt.figure()\n",
        "# plt.imshow(original_image)\n",
        "# plt.axis('off')\n",
        "# plt.show()"
      ],
      "metadata": {
        "id": "rynoKBtLjeuZ"
      },
      "execution_count": null,
      "outputs": []
    }
  ]
}