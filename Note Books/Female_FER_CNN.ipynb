{
  "cells": [
    {
      "cell_type": "markdown",
      "metadata": {
        "id": "NJuGubRJv3Bn"
      },
      "source": [
        "### **Insall nessaray libraries and packages**"
      ]
    },
    {
      "cell_type": "code",
      "execution_count": null,
      "metadata": {
        "id": "Dd2Sr88ivuGb",
        "colab": {
          "base_uri": "https://localhost:8080/"
        },
        "outputId": "63776781-d1a1-4619-f8b3-61299882035c"
      },
      "outputs": [
        {
          "output_type": "stream",
          "name": "stdout",
          "text": [
            "Collecting utils\n",
            "  Downloading utils-1.0.1-py2.py3-none-any.whl (21 kB)\n",
            "Installing collected packages: utils\n",
            "Successfully installed utils-1.0.1\n"
          ]
        }
      ],
      "source": [
        "!pip install utils"
      ]
    },
    {
      "cell_type": "code",
      "execution_count": null,
      "metadata": {
        "id": "rFLEl4jlsexy"
      },
      "outputs": [],
      "source": [
        "import numpy as np\n",
        "import seaborn as sns\n",
        "import matplotlib.pyplot as plt\n",
        "import utils\n",
        "import os\n",
        "%matplotlib inline\n",
        "import pandas as pd"
      ]
    },
    {
      "cell_type": "code",
      "execution_count": null,
      "metadata": {
        "id": "z-XXzPSvwBcT",
        "colab": {
          "base_uri": "https://localhost:8080/"
        },
        "outputId": "3c18d73f-aeb8-4619-a22d-c702f7ce68ca"
      },
      "outputs": [
        {
          "output_type": "stream",
          "name": "stdout",
          "text": [
            "Collecting livelossplot\n",
            "  Downloading livelossplot-0.5.5-py3-none-any.whl (22 kB)\n",
            "Requirement already satisfied: matplotlib in /usr/local/lib/python3.10/dist-packages (from livelossplot) (3.7.1)\n",
            "Requirement already satisfied: bokeh in /usr/local/lib/python3.10/dist-packages (from livelossplot) (3.2.2)\n",
            "Requirement already satisfied: Jinja2>=2.9 in /usr/local/lib/python3.10/dist-packages (from bokeh->livelossplot) (3.1.2)\n",
            "Requirement already satisfied: contourpy>=1 in /usr/local/lib/python3.10/dist-packages (from bokeh->livelossplot) (1.1.0)\n",
            "Requirement already satisfied: numpy>=1.16 in /usr/local/lib/python3.10/dist-packages (from bokeh->livelossplot) (1.23.5)\n",
            "Requirement already satisfied: packaging>=16.8 in /usr/local/lib/python3.10/dist-packages (from bokeh->livelossplot) (23.1)\n",
            "Requirement already satisfied: pandas>=1.2 in /usr/local/lib/python3.10/dist-packages (from bokeh->livelossplot) (1.5.3)\n",
            "Requirement already satisfied: pillow>=7.1.0 in /usr/local/lib/python3.10/dist-packages (from bokeh->livelossplot) (9.4.0)\n",
            "Requirement already satisfied: PyYAML>=3.10 in /usr/local/lib/python3.10/dist-packages (from bokeh->livelossplot) (6.0.1)\n",
            "Requirement already satisfied: tornado>=5.1 in /usr/local/lib/python3.10/dist-packages (from bokeh->livelossplot) (6.3.2)\n",
            "Requirement already satisfied: xyzservices>=2021.09.1 in /usr/local/lib/python3.10/dist-packages (from bokeh->livelossplot) (2023.7.0)\n",
            "Requirement already satisfied: cycler>=0.10 in /usr/local/lib/python3.10/dist-packages (from matplotlib->livelossplot) (0.11.0)\n",
            "Requirement already satisfied: fonttools>=4.22.0 in /usr/local/lib/python3.10/dist-packages (from matplotlib->livelossplot) (4.42.1)\n",
            "Requirement already satisfied: kiwisolver>=1.0.1 in /usr/local/lib/python3.10/dist-packages (from matplotlib->livelossplot) (1.4.4)\n",
            "Requirement already satisfied: pyparsing>=2.3.1 in /usr/local/lib/python3.10/dist-packages (from matplotlib->livelossplot) (3.1.1)\n",
            "Requirement already satisfied: python-dateutil>=2.7 in /usr/local/lib/python3.10/dist-packages (from matplotlib->livelossplot) (2.8.2)\n",
            "Requirement already satisfied: MarkupSafe>=2.0 in /usr/local/lib/python3.10/dist-packages (from Jinja2>=2.9->bokeh->livelossplot) (2.1.3)\n",
            "Requirement already satisfied: pytz>=2020.1 in /usr/local/lib/python3.10/dist-packages (from pandas>=1.2->bokeh->livelossplot) (2023.3)\n",
            "Requirement already satisfied: six>=1.5 in /usr/local/lib/python3.10/dist-packages (from python-dateutil>=2.7->matplotlib->livelossplot) (1.16.0)\n",
            "Installing collected packages: livelossplot\n",
            "Successfully installed livelossplot-0.5.5\n"
          ]
        }
      ],
      "source": [
        "!pip install livelossplot"
      ]
    },
    {
      "cell_type": "code",
      "execution_count": null,
      "metadata": {
        "id": "3ae2l1NhF1cs",
        "colab": {
          "base_uri": "https://localhost:8080/"
        },
        "outputId": "0988ac93-01ff-48c5-ab21-8d5b84fdadca"
      },
      "outputs": [
        {
          "output_type": "stream",
          "name": "stdout",
          "text": [
            "Tensorflow version: 2.12.0\n"
          ]
        }
      ],
      "source": [
        "from tensorflow.keras.preprocessing.image import ImageDataGenerator\n",
        "from tensorflow.keras.layers import Dense, Input, Dropout,Flatten, Conv2D\n",
        "from tensorflow.keras.layers import BatchNormalization, Activation, MaxPooling2D\n",
        "from tensorflow.keras.models import Model, Sequential\n",
        "from tensorflow.keras.optimizers import Adam\n",
        "from tensorflow.keras.callbacks import ModelCheckpoint, ReduceLROnPlateau\n",
        "from tensorflow.keras.utils import plot_model\n",
        "\n",
        "from IPython.display import SVG, Image\n",
        "from livelossplot.tf_keras import PlotLossesCallback\n",
        "import tensorflow as tf\n",
        "print(\"Tensorflow version:\", tf.__version__)"
      ]
    },
    {
      "cell_type": "code",
      "execution_count": null,
      "metadata": {
        "id": "2cATCSkwFssd"
      },
      "outputs": [],
      "source": [
        "from tensorflow.keras.preprocessing.image import load_img"
      ]
    },
    {
      "cell_type": "code",
      "execution_count": null,
      "metadata": {
        "id": "1aYRTXXgF-o6"
      },
      "outputs": [],
      "source": [
        "import warnings\n",
        "import random\n",
        "from tqdm.notebook import tqdm\n",
        "warnings.filterwarnings('ignore')"
      ]
    },
    {
      "cell_type": "code",
      "execution_count": null,
      "metadata": {
        "id": "PJzi2wNnF_UW"
      },
      "outputs": [],
      "source": [
        "from keras.utils import to_categorical\n",
        "from sklearn.utils import shuffle"
      ]
    },
    {
      "cell_type": "markdown",
      "metadata": {
        "id": "5uRd09hLwqTZ"
      },
      "source": [
        "**Load the dataset**"
      ]
    },
    {
      "cell_type": "code",
      "execution_count": null,
      "metadata": {
        "id": "H5rtKzphwQJU"
      },
      "outputs": [],
      "source": [
        "TRAIN_DIR_Female = '/content/drive/MyDrive/Reserch/Female/train/'\n",
        "TEST_DIR_Female = '/content/drive/MyDrive/Reserch/Female/Test/'"
      ]
    },
    {
      "cell_type": "markdown",
      "metadata": {
        "id": "zZl-cPAA4ixA"
      },
      "source": [
        "# **Preprocess the dataset**"
      ]
    },
    {
      "cell_type": "markdown",
      "metadata": {
        "id": "n_iPDhD3yhgS"
      },
      "source": [
        "**Read Images from the data path**"
      ]
    },
    {
      "cell_type": "code",
      "execution_count": null,
      "metadata": {
        "id": "WB4VoPWg0QFE"
      },
      "outputs": [],
      "source": [
        "import cv2"
      ]
    },
    {
      "cell_type": "code",
      "execution_count": null,
      "metadata": {
        "colab": {
          "base_uri": "https://localhost:8080/"
        },
        "id": "gbQUIdB6DIxF",
        "outputId": "f6e8dac4-1716-4ace-fb4e-4a96288bc2f0"
      },
      "outputs": [
        {
          "output_type": "stream",
          "name": "stdout",
          "text": [
            "Loaded 1545 images for the dataset-angry\n",
            "\n",
            "Loaded 562 images for the dataset-disgust\n",
            "\n",
            "Loaded 2498 images for the dataset-fear\n",
            "\n",
            "Loaded 2824 images for the dataset-happy\n",
            "\n",
            "Loaded 2172 images for the dataset-neutral\n",
            "\n",
            "Loaded 2788 images for the dataset-sad\n",
            "\n",
            "Failed to read image: desktop.ini\n",
            "Emotion Counts:\n",
            "angry: 1545\n",
            "disgust: 562\n",
            "fear: 2498\n",
            "happy: 2824\n",
            "neutral: 2172\n",
            "sad: 2788\n"
          ]
        }
      ],
      "source": [
        "TRAIN_DIR_Female = '/content/drive/MyDrive/Reserch/Female/train/'\n",
        "data_dir_sequence = ['angry', 'disgust', 'fear', 'happy', 'neutral','sad']\n",
        "\n",
        "\n",
        "img_data_list = []\n",
        "emotion_counts_tr_female = {}\n",
        "\n",
        "for dataset in data_dir_sequence:\n",
        "    img_list = os.listdir(os.path.join(TRAIN_DIR_Female, dataset))\n",
        "    count = len(img_list)\n",
        "    emotion_counts_tr_female[dataset] = count\n",
        "    print('Loaded {} images for the dataset-{}\\n'.format(count, dataset))\n",
        "    for img in img_list:\n",
        "        input_img = cv2.imread(os.path.join(TRAIN_DIR_Female, dataset, img))\n",
        "        if input_img is not None:\n",
        "            input_img = cv2.cvtColor(input_img, cv2.COLOR_BGR2GRAY)\n",
        "            input_img = cv2.equalizeHist(input_img)\n",
        "            img_data_list.append(input_img)\n",
        "        else:\n",
        "            print(f\"Failed to read image: {img}\")\n",
        "\n",
        "img_data_train_female = np.array(img_data_list)\n",
        "img_data_train_female = img_data_train_female.astype('float32')\n",
        "img_data_train_female = img_data_train_female/ 255\n",
        "\n",
        "# img_data_test_female = img_data_train_female.reshape(-1, 48, 48)  # Reshape the array to (total_count, 48, 48)\n",
        "\n",
        "print(\"Emotion Counts:\")\n",
        "for emotion, count in emotion_counts_tr_female.items():\n",
        "    print(\"{}: {}\".format(emotion, count))\n"
      ]
    },
    {
      "cell_type": "code",
      "execution_count": null,
      "metadata": {
        "colab": {
          "base_uri": "https://localhost:8080/"
        },
        "id": "jDvGPVXZ9KuL",
        "outputId": "6591a848-4c26-4ecd-8cb1-70555fc7fcf3"
      },
      "outputs": [
        {
          "output_type": "execute_result",
          "data": {
            "text/plain": [
              "(12388, 48, 48)"
            ]
          },
          "metadata": {},
          "execution_count": 11
        }
      ],
      "source": [
        "img_data_train_female.shape"
      ]
    },
    {
      "cell_type": "code",
      "execution_count": null,
      "metadata": {
        "colab": {
          "base_uri": "https://localhost:8080/"
        },
        "id": "UccvBcCBCuhX",
        "outputId": "b9aeed9e-b671-4048-dd8b-15fd629abef3"
      },
      "outputs": [
        {
          "output_type": "stream",
          "name": "stdout",
          "text": [
            "Loaded 314 images for the dataset-angry\n",
            "\n",
            "Loaded 112 images for the dataset-disgust\n",
            "\n",
            "Loaded 593 images for the dataset-fear\n",
            "\n",
            "Loaded 588 images for the dataset-happy\n",
            "\n",
            "Loaded 438 images for the dataset-neutral\n",
            "\n",
            "Loaded 563 images for the dataset-sad\n",
            "\n",
            "Emotion Counts:\n",
            "angry: 314\n",
            "disgust: 112\n",
            "fear: 593\n",
            "happy: 588\n",
            "neutral: 438\n",
            "sad: 563\n"
          ]
        }
      ],
      "source": [
        "TEST_DIR_Female = '/content/drive/MyDrive/Reserch/Female/Test/'\n",
        "data_dir_sequence = ['angry', 'disgust', 'fear', 'happy', 'neutral','sad']\n",
        "\n",
        "img_data_list = []\n",
        "emotion_counts_te_female = {}\n",
        "\n",
        "for dataset in data_dir_sequence:\n",
        "    img_list = os.listdir(os.path.join(TEST_DIR_Female, dataset))\n",
        "    count = len(img_list)\n",
        "    emotion_counts_te_female[dataset] = count\n",
        "    print('Loaded {} images for the dataset-{}\\n'.format(count, dataset))\n",
        "    for img in img_list:\n",
        "        input_img = cv2.imread(os.path.join(TEST_DIR_Female, dataset, img))\n",
        "        if input_img is not None:\n",
        "            input_img = cv2.cvtColor(input_img, cv2.COLOR_BGR2GRAY)\n",
        "            input_img = cv2.equalizeHist(input_img)\n",
        "            img_data_list.append(input_img)\n",
        "        else:\n",
        "            print(f\"Failed to read image: {img}\")\n",
        "\n",
        "img_data_test_female = np.array(img_data_list)\n",
        "img_data_test_female = img_data_test_female.astype('float32')\n",
        "img_data_test_female = img_data_test_female / 255\n",
        "\n",
        "# img_data_test_female = img_data_test_female.reshape(-1, 48, 48)  # Reshape the array to (total_count, 48, 48)\n",
        "\n",
        "print(\"Emotion Counts:\")\n",
        "for emotion, count in emotion_counts_te_female.items():\n",
        "    print(\"{}: {}\".format(emotion, count))\n"
      ]
    },
    {
      "cell_type": "code",
      "execution_count": null,
      "metadata": {
        "colab": {
          "base_uri": "https://localhost:8080/"
        },
        "id": "n1I58I9e9TEO",
        "outputId": "1894e5d0-fcc2-4a39-fbaa-f6a8f52682bf"
      },
      "outputs": [
        {
          "output_type": "execute_result",
          "data": {
            "text/plain": [
              "(2608, 48, 48)"
            ]
          },
          "metadata": {},
          "execution_count": 13
        }
      ],
      "source": [
        "img_data_test_female.shape"
      ]
    },
    {
      "cell_type": "markdown",
      "metadata": {
        "id": "Kuc_UCWCym5f"
      },
      "source": [
        "**Data set distribution**"
      ]
    },
    {
      "cell_type": "code",
      "execution_count": null,
      "metadata": {
        "colab": {
          "base_uri": "https://localhost:8080/",
          "height": 472
        },
        "id": "YHliOtVe9TLa",
        "outputId": "125f39ff-e2c7-4c81-bbe6-e1f71ebbc998"
      },
      "outputs": [
        {
          "output_type": "display_data",
          "data": {
            "text/plain": [
              "<Figure size 640x480 with 1 Axes>"
            ],
            "image/png": "[encoded data removed]"
          },
          "metadata": {}
        }
      ],
      "source": [
        "emotions_tr_fe = list(emotion_counts_tr_female.keys())\n",
        "counts_tr_fe = list(emotion_counts_tr_female.values())\n",
        "\n",
        "# Create a bar chart\n",
        "plt.bar(emotions_tr_fe,counts_tr_fe)\n",
        "plt.xlabel('Emotions')\n",
        "plt.ylabel('Count')\n",
        "plt.title('Distribution of Images across Emotions')\n",
        "plt.show()"
      ]
    },
    {
      "cell_type": "code",
      "execution_count": null,
      "metadata": {
        "colab": {
          "base_uri": "https://localhost:8080/",
          "height": 472
        },
        "id": "Ue09jAht9TPa",
        "outputId": "af53ba0c-f073-4d37-c3c0-6752b2bfec59"
      },
      "outputs": [
        {
          "output_type": "display_data",
          "data": {
            "text/plain": [
              "<Figure size 640x480 with 1 Axes>"
            ],
            "image/png": "[encoded data removed]"
          },
          "metadata": {}
        }
      ],
      "source": [
        "emotions_te_fe = list(emotion_counts_te_female.keys())\n",
        "counts_te_fe = list(emotion_counts_te_female.values())\n",
        "\n",
        "# Create a bar chart\n",
        "plt.bar(emotions_te_fe,counts_te_fe)\n",
        "plt.xlabel('Emotions')\n",
        "plt.ylabel('Count')\n",
        "plt.title('Distribution of Images across Emotions')\n",
        "plt.show()"
      ]
    },
    {
      "cell_type": "markdown",
      "metadata": {
        "id": "g172Ky1Wyzlc"
      },
      "source": [
        "**Define the number of classes**"
      ]
    },
    {
      "cell_type": "code",
      "execution_count": null,
      "metadata": {
        "id": "nB31En7m9kQk"
      },
      "outputs": [],
      "source": [
        "from keras.utils import to_categorical\n",
        "\n",
        "num_classes = 6\n",
        "num_of_samples_train_female = img_data_train_female.shape[0]\n",
        "\n",
        "labels_train_female = np.ones((num_of_samples_train_female,), dtype='int64')\n",
        "labels_train_female[0:1545] = 5  # 1545 Angry\n",
        "labels_train_female[1545:2107] = 4  # 562 Disgust\n",
        "labels_train_female[2107:4605] = 3  # 2498 Fear\n",
        "labels_train_female[4605:7429] = 0  # 2824 Happy\n",
        "labels_train_female[7429:9601] = 2  # 2172 neutral\n",
        "labels_train_female[9601:] = 1  # 2788 Sad\n",
        "# labels_train_female[8454:] = 2  # 1566 Surprise\n",
        "\n",
        "names = ['HAPPY', 'SAD', 'NEUTRAL', 'FEAR', 'DISGUST', 'ANGRY']\n",
        "\n",
        "def getLabel(id):\n",
        "    return ['HAPPY', 'SAD', 'NEUTRAL', 'FEAR', 'DISGUST', 'ANGRY'][id]\n",
        "\n",
        "# labels_train_female_encoded = to_categorical(labels_train_female, num_classes=num_classes)\n"
      ]
    },
    {
      "cell_type": "code",
      "execution_count": null,
      "metadata": {
        "colab": {
          "base_uri": "https://localhost:8080/"
        },
        "id": "Zg5LKV9F9kYZ",
        "outputId": "2f2d6b03-2ec7-46e2-99fe-b99a2365e972"
      },
      "outputs": [
        {
          "output_type": "stream",
          "name": "stdout",
          "text": [
            "HAPPY: 2824\n",
            "SAD: 2787\n",
            "NEUTRAL: 2172\n",
            "FEAR: 2498\n",
            "DISGUST: 562\n",
            "ANGRY: 1545\n"
          ]
        }
      ],
      "source": [
        "labels_train_females = np.bincount(labels_train_female)\n",
        "\n",
        "# Print the count of each label\n",
        "for i, count in enumerate(labels_train_females):\n",
        "    label_name = getLabel(i)\n",
        "    print(\"{}: {}\".format(label_name, count))"
      ]
    },
    {
      "cell_type": "code",
      "execution_count": null,
      "metadata": {
        "id": "tTWHqQPE49l2"
      },
      "outputs": [],
      "source": [
        "from keras.utils import to_categorical\n",
        "\n",
        "num_classes = 6\n",
        "num_of_samples_te_female = img_data_test_female.shape[0]\n",
        "\n",
        "labels_test_female = np.ones((num_of_samples_te_female,), dtype='int64')\n",
        "labels_test_female[0:314] = 5  # 314 Angry\n",
        "labels_test_female[314:426] = 4  # 112 Disgust\n",
        "labels_test_female[426:1019] = 3  # 593 Fear\n",
        "labels_test_female[1019:1607] = 0  # 588 Happy\n",
        "labels_test_female[1607:2045] = 2  #  438 neutral\n",
        "labels_test_female[2045:] = 1  #  563 Sad\n",
        "# labels_test_female[2589:] = 2  # 418 Surprise\n",
        "\n",
        "names = ['HAPPY', 'SAD', 'NEUTRAL', 'FEAR', 'DISGUST', 'ANGRY']\n",
        "\n",
        "def getLabel(id):\n",
        "    return ['HAPPY', 'SAD', 'NEUTRAL', 'FEAR', 'DISGUST', 'ANGRY'][id]\n",
        "\n",
        "# labels_train_female_encoded = to_categorical(labels_train_female, num_classes=num_classes)\n"
      ]
    },
    {
      "cell_type": "code",
      "execution_count": null,
      "metadata": {
        "colab": {
          "base_uri": "https://localhost:8080/"
        },
        "id": "LOCUOFBZ5HET",
        "outputId": "fc735027-304a-4f93-a717-d9d74c037d7b"
      },
      "outputs": [
        {
          "output_type": "stream",
          "name": "stdout",
          "text": [
            "HAPPY: 588\n",
            "SAD: 563\n",
            "NEUTRAL: 438\n",
            "FEAR: 593\n",
            "DISGUST: 112\n",
            "ANGRY: 314\n"
          ]
        }
      ],
      "source": [
        "labels_test_females = np.bincount(labels_test_female)\n",
        "\n",
        "# Print the count of each label\n",
        "for i, count in enumerate(labels_test_females):\n",
        "    label_name = getLabel(i)\n",
        "    print(\"{}: {}\".format(label_name, count))"
      ]
    },
    {
      "cell_type": "code",
      "source": [
        "import matplotlib.pyplot as plt\n",
        "\n",
        "# Get index of images representing each expression\n",
        "happy_idx = np.where(labels_test_female == 0)[0][0]\n",
        "sad_idx = np.where(labels_test_female == 1)[0][0]\n",
        "neutral_idx = np.where(labels_test_female == 2)[0][0]\n",
        "fear_idx = np.where(labels_test_female == 3)[0][0]\n",
        "disgust_idx = np.where(labels_test_female == 4)[0][0]\n",
        "angry_idx = np.where(labels_test_female== 5)[0][0]\n",
        "\n",
        "# Plotting the images\n",
        "fig, axs = plt.subplots(1, 6, figsize=(15, 3))\n",
        "axs[0].imshow(img_data_test_female[happy_idx])\n",
        "axs[0].set_title(\"Happy\")\n",
        "axs[1].imshow(img_data_test_female[sad_idx])\n",
        "axs[1].set_title(\"Sad\")\n",
        "axs[2].imshow(img_data_test_female[neutral_idx])\n",
        "axs[2].set_title(\"Neutral\")\n",
        "axs[3].imshow(img_data_test_female[fear_idx])\n",
        "axs[3].set_title(\"Fear\")\n",
        "axs[4].imshow(img_data_test_female[disgust_idx])\n",
        "axs[4].set_title(\"Disgust\")\n",
        "axs[5].imshow(img_data_test_female[angry_idx])\n",
        "axs[5].set_title(\"Angry\")\n",
        "\n",
        "plt.show()\n"
      ],
      "metadata": {
        "colab": {
          "base_uri": "https://localhost:8080/",
          "height": 249
        },
        "id": "0o6BuOu8XvOO",
        "outputId": "7dc349f3-8ebd-47fa-86ec-9446442168e0"
      },
      "execution_count": null,
      "outputs": [
        {
          "output_type": "display_data",
          "data": {
            "text/plain": [
              "<Figure size 1500x300 with 6 Axes>"
            ],
            "image/png": "[encoded data removed]"
          },
          "metadata": {}
        }
      ]
    },
    {
      "cell_type": "code",
      "execution_count": null,
      "metadata": {
        "colab": {
          "base_uri": "https://localhost:8080/"
        },
        "id": "Tn7uJZOM9kgW",
        "outputId": "29acfbd9-f11c-4285-e9f4-0cccdc2c2a40"
      },
      "outputs": [
        {
          "output_type": "stream",
          "name": "stdout",
          "text": [
            "(2608,) (12388,)\n"
          ]
        }
      ],
      "source": [
        "print(labels_test_female.shape,labels_train_female.shape)"
      ]
    },
    {
      "cell_type": "markdown",
      "metadata": {
        "id": "DFbKObR5y76J"
      },
      "source": [
        "**Convert the class label to one-hot encoding**"
      ]
    },
    {
      "cell_type": "code",
      "execution_count": null,
      "metadata": {
        "id": "I9BMLKxSrcZr"
      },
      "outputs": [],
      "source": [
        "# convert class labels to on-hot encoding# conve\n",
        "Y_Fe_tr = to_categorical(labels_train_female, num_classes)\n",
        "Y_Fe_ts = to_categorical(labels_test_female, num_classes)"
      ]
    },
    {
      "cell_type": "code",
      "execution_count": null,
      "metadata": {
        "colab": {
          "base_uri": "https://localhost:8080/"
        },
        "id": "UmCMvukKu-og",
        "outputId": "4865b3b1-8848-4d97-d20c-899f219d3fb3"
      },
      "outputs": [
        {
          "output_type": "stream",
          "name": "stdout",
          "text": [
            "(12388, 6) (2608, 6)\n"
          ]
        }
      ],
      "source": [
        "print(Y_Fe_tr.shape,Y_Fe_ts.shape)"
      ]
    },
    {
      "cell_type": "markdown",
      "metadata": {
        "id": "CQxQbHMSy_CO"
      },
      "source": [
        "**Shuffle the dataset**"
      ]
    },
    {
      "cell_type": "code",
      "execution_count": null,
      "metadata": {
        "id": "9ap9Wpaon1iG"
      },
      "outputs": [],
      "source": [
        "#Shuffle the dataset\n",
        "x_train_female,y_train_female = shuffle(img_data_train_female,Y_Fe_tr, random_state=2)\n",
        "x_test_female,y_test_female = shuffle(img_data_test_female,Y_Fe_ts, random_state=2)"
      ]
    },
    {
      "cell_type": "code",
      "execution_count": null,
      "metadata": {
        "id": "2e8d9YmO9xxX"
      },
      "outputs": [],
      "source": [
        "X_train_female = x_train_female\n",
        "Y_train_female =y_train_female\n",
        "X_test_female =x_test_female\n",
        "Y_test_female =y_test_female"
      ]
    },
    {
      "cell_type": "code",
      "execution_count": null,
      "metadata": {
        "colab": {
          "base_uri": "https://localhost:8080/"
        },
        "id": "rbrhs1N56fo1",
        "outputId": "afbaceb4-904a-43f0-b102-9a78e6380b28"
      },
      "outputs": [
        {
          "output_type": "stream",
          "name": "stdout",
          "text": [
            "(12388, 48, 48) (12388, 6) (2608, 48, 48) (2608, 6)\n"
          ]
        }
      ],
      "source": [
        "print(X_train_female.shape,Y_train_female.shape,X_test_female.shape,Y_test_female.shape)"
      ]
    },
    {
      "cell_type": "code",
      "source": [
        "# X_train_female = np.stack((X_train_female,)*3, axis = -1)\n",
        "# X_test_female = np.stack((X_test_female,)*3, axis = -1)"
      ],
      "metadata": {
        "id": "FE5Rd3DY-DWb"
      },
      "execution_count": null,
      "outputs": []
    },
    {
      "cell_type": "code",
      "execution_count": null,
      "metadata": {
        "id": "1EfpuC2L9yAz"
      },
      "outputs": [],
      "source": [
        "X_train_female = X_train_female.reshape(X_train_female.shape[0], X_train_female.shape[1], X_train_female.shape[2], 1)\n",
        "X_test_female  = X_test_female .reshape(X_test_female .shape[0],X_test_female .shape[1], X_test_female .shape[2], 1)"
      ]
    },
    {
      "cell_type": "markdown",
      "metadata": {
        "id": "eMEnkSw97iBT"
      },
      "source": [
        "# **Handling imbalncing**"
      ]
    },
    {
      "cell_type": "markdown",
      "metadata": {
        "id": "5LuNjQGB7zAF"
      },
      "source": [
        "**Class weights**"
      ]
    },
    {
      "cell_type": "code",
      "execution_count": null,
      "metadata": {
        "id": "5YyhHHGf9-ye"
      },
      "outputs": [],
      "source": [
        "from sklearn.utils import class_weight\n",
        "\n",
        "class_weights = class_weight.compute_class_weight(\n",
        "    class_weight=\"balanced\",\n",
        "    classes=np.unique(labels_train_female),\n",
        "    y=labels_train_female\n",
        ")\n",
        "\n",
        "class_weights = dict(zip(np.unique(labels_train_female), class_weights))"
      ]
    },
    {
      "cell_type": "code",
      "execution_count": null,
      "metadata": {
        "colab": {
          "base_uri": "https://localhost:8080/"
        },
        "id": "jrSElzKg9_BS",
        "outputId": "bede7250-6d33-44ba-c08d-c5435bf93414"
      },
      "outputs": [
        {
          "output_type": "execute_result",
          "data": {
            "text/plain": [
              "{0: 0.7311142587346553,\n",
              " 1: 0.7408204760196149,\n",
              " 2: 0.9505831798649478,\n",
              " 3: 0.8265278889778489,\n",
              " 4: 3.6737841043890866,\n",
              " 5: 1.336353829557713}"
            ]
          },
          "metadata": {},
          "execution_count": 30
        }
      ],
      "source": [
        "class_weights"
      ]
    },
    {
      "cell_type": "code",
      "execution_count": null,
      "metadata": {
        "id": "0vjV3hvUiral"
      },
      "outputs": [],
      "source": [
        "from tensorflow.keras.preprocessing.image import ImageDataGenerator"
      ]
    },
    {
      "cell_type": "markdown",
      "metadata": {
        "id": "0enBp08G8oBG"
      },
      "source": [
        "**Data Augmentation**"
      ]
    },
    {
      "cell_type": "code",
      "execution_count": null,
      "metadata": {
        "id": "wp8cXj0-8Mti"
      },
      "outputs": [],
      "source": [
        "# datagen = ImageDataGenerator(rotation_range=10)"
      ]
    },
    {
      "cell_type": "code",
      "execution_count": null,
      "metadata": {
        "id": "fB94yMEbkjJu"
      },
      "outputs": [],
      "source": [
        "# from keras.utils.data_utils import Sequence\n",
        "# from imblearn.over_sampling import RandomOverSampler\n",
        "# from imblearn.tensorflow import balanced_batch_generator\n",
        "\n",
        "# class BalancedDataGenerator(Sequence):\n",
        "#     \"\"\"ImageDataGenerator + RandomOversampling\"\"\"\n",
        "#     def __init__(self, x, y, datagen, batch_size=32):\n",
        "#         self.datagen = datagen\n",
        "#         self.batch_size = min(batch_size, x.shape[0])\n",
        "#         datagen.fit(x)\n",
        "#         self.gen, self.steps_per_epoch = balanced_batch_generator(x.reshape(x.shape[0], -1), y, sampler=RandomOverSampler(), batch_size=self.batch_size, keep_sparse=True)\n",
        "#         self._shape = (self.steps_per_epoch * batch_size, *x.shape[1:])\n",
        "\n",
        "#     def __len__(self):\n",
        "#         return self.steps_per_epoch\n",
        "\n",
        "#     def __getitem__(self, idx):\n",
        "#         x_batch, y_batch = self.gen.__next__()\n",
        "#         x_batch = x_batch.reshape(-1, *self._shape[1:])\n",
        "#         return self.datagen.flow(x_batch, y_batch, batch_size=self.batch_size).next()"
      ]
    },
    {
      "cell_type": "code",
      "source": [
        "data_generator = ImageDataGenerator(\n",
        "                        featurewise_center=False,\n",
        "                        featurewise_std_normalization=False,\n",
        "                        samplewise_std_normalization=False,  # divide each input by its std\n",
        "                        zca_whitening=False,\n",
        "                        rotation_range=10,\n",
        "                        shear_range = 10,\n",
        "                        width_shift_range=0.2,\n",
        "                        height_shift_range=0.2,\n",
        "                        zoom_range=.1,\n",
        "                        horizontal_flip=True,\n",
        "                        vertical_flip=False)\n",
        "\n",
        "\n",
        "balanced_gen_female = data_generator.flow(X_train_female,Y_train_female,)\n",
        "# balanced_gen_female_val = data_generator.flow(X_test_female,Y_test_female,)"
      ],
      "metadata": {
        "id": "dud_YUooSRzb"
      },
      "execution_count": null,
      "outputs": []
    },
    {
      "cell_type": "code",
      "source": [
        "# datagen = ImageDataGenerator(\n",
        "#         featurewise_center=False,  # set input mean to 0 over the dataset\n",
        "#         samplewise_center=False,  # set each sample mean to 0\n",
        "#         featurewise_std_normalization=False,  # divide inputs by std of the dataset\n",
        "#         samplewise_std_normalization=False,  # divide each input by its std\n",
        "#         zca_whitening=False,  # apply ZCA whitening\n",
        "#         rotation_range=10,  # randomly rotate images in the range (degrees, 0 to 180)\n",
        "#         zoom_range = 0.1, # Randomly zoom image\n",
        "#         width_shift_range=0.2,  # randomly shift images horizontally (fraction of total width)\n",
        "#         height_shift_range=0.2,  # randomly shift images vertically (fraction of total height)\n",
        "#         horizontal_flip=True,  # randomly flip images\n",
        "#         vertical_flip=False)  # randomly flip images"
      ],
      "metadata": {
        "id": "gqTQdIT6ub2e"
      },
      "execution_count": null,
      "outputs": []
    },
    {
      "cell_type": "code",
      "source": [
        "\n",
        "# from keras.preprocessing.image import ImageDataGenerator\n",
        "\n",
        "# datagennnn = ImageDataGenerator(\n",
        "#         rotation_range=40,\n",
        "#         width_shift_range=0.2,\n",
        "#         height_shift_range=0.2,\n",
        "#         rescale=1./255,\n",
        "#         shear_range=0.2,\n",
        "#         zoom_range=0.2,\n",
        "#         horizontal_flip=False,\n",
        "#         fill_mode='nearest')\n"
      ],
      "metadata": {
        "id": "2a1BLtUHOucV"
      },
      "execution_count": null,
      "outputs": []
    },
    {
      "cell_type": "code",
      "source": [
        "# it = datagennnn.flow(X_test_female, Y_test_female,batch_size=32)\n",
        "# female = datagennnn.flow(X_train_female,Y_train_female, batch_size=32)"
      ],
      "metadata": {
        "id": "Zb-R4YpdO0rj"
      },
      "execution_count": null,
      "outputs": []
    },
    {
      "cell_type": "code",
      "execution_count": null,
      "metadata": {
        "id": "9jdd3zQuEuOs"
      },
      "outputs": [],
      "source": [
        "# Create an instance of the data generator\n",
        "\n",
        "# datagen = ImageDataGenerator(rotation_range=10,)\n",
        "# balanced_gen_female = BalancedDataGenerator(X_train_female,Y_train_female, datagen, batch_size=32)\n",
        "# balanced_gen_val_female= BalancedDataGenerator(X_test_female, Y_test_female, datagen, batch_size=64)"
      ]
    },
    {
      "cell_type": "markdown",
      "metadata": {
        "id": "_LNvGe7P8sN6"
      },
      "source": [
        "**Learning Rate Scheduler**"
      ]
    },
    {
      "cell_type": "code",
      "execution_count": null,
      "metadata": {
        "id": "Nk9qlA8drDoP"
      },
      "outputs": [],
      "source": [
        "class LossLearningRateScheduler(tf.keras.callbacks.History):\n",
        "    \"\"\"\n",
        "    A learning rate scheduler that relies on changes in loss function\n",
        "    value to dictate whether learning rate is decayed or not.\n",
        "    LossLearningRateScheduler has the following properties:\n",
        "    base_lr: the starting learning rate\n",
        "    lookback_epochs: the number of epochs in the past to compare with the loss function at the current epoch to determine if progress is being made.\n",
        "    decay_threshold / decay_multiple: if loss function has not improved by a factor of decay_threshold * lookback_epochs, then decay_multiple will be applied to the learning rate.\n",
        "    spike_epochs: list of the epoch numbers where you want to spike the learning rate.\n",
        "    spike_multiple: the multiple applied to the current learning rate for a spike.\n",
        "    \"\"\"\n",
        "\n",
        "    def __init__(self, base_lr, lookback_epochs, spike_epochs = None, spike_multiple = 10, decay_threshold = 0.002, decay_multiple = 0.7, loss_type = 'val_loss'):\n",
        "\n",
        "        super(LossLearningRateScheduler, self).__init__()\n",
        "\n",
        "        self.base_lr = base_lr\n",
        "        self.lookback_epochs = lookback_epochs\n",
        "        self.spike_epochs = spike_epochs\n",
        "        self.spike_multiple = spike_multiple\n",
        "        self.decay_threshold = decay_threshold\n",
        "        self.decay_multiple = decay_multiple\n",
        "        self.loss_type = loss_type\n",
        "\n",
        "\n",
        "    def on_epoch_begin(self, epoch, logs=None):\n",
        "\n",
        "        if len(self.epoch) > self.lookback_epochs:\n",
        "\n",
        "            current_lr = tf.keras.backend.get_value(self.model.optimizer.lr)\n",
        "\n",
        "            target_loss = self.history[self.loss_type]\n",
        "\n",
        "            loss_diff =  target_loss[-int(self.lookback_epochs)] - target_loss[-1]\n",
        "\n",
        "            if loss_diff <= np.abs(target_loss[-1]) * (self.decay_threshold * self.lookback_epochs):\n",
        "\n",
        "                print(' '.join(('Changing learning rate from', str(current_lr), 'to', str(current_lr * self.decay_multiple))))\n",
        "                tf.keras.backend.set_value(self.model.optimizer.lr, current_lr * self.decay_multiple)\n",
        "                current_lr = current_lr * self.decay_multiple\n",
        "\n",
        "            else:\n",
        "\n",
        "                print(' '.join(('Learning rate:', str(current_lr))))\n",
        "\n",
        "            if self.spike_epochs is not None and len(self.epoch) in self.spike_epochs:\n",
        "                print(' '.join(('Spiking learning rate from', str(current_lr), 'to', str(current_lr * self.spike_multiple))))\n",
        "                tf.keras.backend.set_value(self.model.optimizer.lr, current_lr * self.spike_multiple)\n",
        "\n",
        "        else:\n",
        "\n",
        "            print(' '.join(('Setting learning rate to', str(self.base_lr))))\n",
        "            tf.keras.backend.set_value(self.model.optimizer.lr, self.base_lr)\n",
        "\n",
        "\n",
        "        return tf.keras.backend.get_value(self.model.optimizer.lr)\n",
        "\n"
      ]
    },
    {
      "cell_type": "code",
      "execution_count": null,
      "metadata": {
        "id": "jCsDItdF8lx6"
      },
      "outputs": [],
      "source": [
        "callback_lr = LossLearningRateScheduler(base_lr=0.001, lookback_epochs=5)"
      ]
    },
    {
      "cell_type": "code",
      "execution_count": null,
      "metadata": {
        "id": "lKeY2EE2IXdX"
      },
      "outputs": [],
      "source": [
        "filepath = '/content/drive/MyDrive/Reserch/best_model_cifar10fem.hdf5'\n",
        "from tensorflow.keras.callbacks import Callback\n",
        "from tensorflow.keras.callbacks import EarlyStopping\n",
        "\n",
        "\n",
        "checkpoint = ModelCheckpoint(filepath=filepath,\n",
        "                             monitor='val_accuracy',\n",
        "                             verbose=1,\n",
        "                             save_best_only=True)\n",
        "\n",
        "stop = EarlyStopping(monitor='val_accuracy', patience =5,\n",
        "                      verbose=0, mode='auto', baseline=None,\n",
        "                      restore_best_weights=False)\n",
        "\n",
        "callbacks = [checkpoint,stop,callback_lr]"
      ]
    },
    {
      "cell_type": "code",
      "execution_count": null,
      "metadata": {
        "id": "re9E9UYo5K6Q"
      },
      "outputs": [],
      "source": [
        "from keras import layers\n"
      ]
    },
    {
      "cell_type": "markdown",
      "metadata": {
        "id": "cT6olR_y8VQS"
      },
      "source": [
        "# **Model Buliding**"
      ]
    },
    {
      "cell_type": "code",
      "execution_count": null,
      "metadata": {
        "id": "pfLRe1Xmqft7"
      },
      "outputs": [],
      "source": [
        "from keras.models import Sequential\n",
        "from keras.layers import Conv2D, BatchNormalization\n",
        "from keras.regularizers import l2  # Import l2 function"
      ]
    },
    {
      "cell_type": "code",
      "execution_count": null,
      "metadata": {
        "id": "gM8KmfJLqr4c"
      },
      "outputs": [],
      "source": [
        "img_size = 48"
      ]
    },
    {
      "cell_type": "code",
      "execution_count": null,
      "metadata": {
        "id": "xOGCxm5wjzyr"
      },
      "outputs": [],
      "source": [
        "# model = Sequential()\n",
        "# model.add(Conv2D(64,kernel_size=(3,3),padding='same',kernel_regularizer=l2(0.001),activation='relu',input_shape=(img_size,img_size,1)))\n",
        "# model.add(Conv2D(64,kernel_size=(3,3),padding='same',activation='relu'))\n",
        "# model.add(Conv2D(64,kernel_size=(3,3),padding='same',activation='relu'))\n",
        "# model.add(BatchNormalization())\n",
        "# model.add(MaxPooling2D(pool_size=(2,2)))\n",
        "\n",
        "# model.add(Dropout(0.4))\n",
        "\n",
        "# model.add(Conv2D(128,kernel_size=(3,3),kernel_regularizer=l2(0.001),activation='relu'))\n",
        "# model.add(Conv2D(128,kernel_size=(3,3),activation='relu'))\n",
        "# model.add(Conv2D(128,kernel_size=(3,3),activation='relu'))\n",
        "# model.add(BatchNormalization())\n",
        "# model.add(MaxPooling2D(pool_size=(2,2)))\n",
        "\n",
        "# model.add(Dropout(0.4))\n",
        "\n",
        "# model.add(Conv2D(512,kernel_size=(3,3),kernel_regularizer=l2(0.001),activation='relu'))\n",
        "# model.add(Conv2D(512,kernel_size=(3,3),activation='relu'))\n",
        "# model.add(Conv2D(512,kernel_size=(3,3),activation='relu'))\n",
        "# model.add(BatchNormalization())\n",
        "# model.add(MaxPooling2D(pool_size=(2,2)))\n",
        "\n",
        "# model.add(Dropout(0.4))\n",
        "\n",
        "# model.add(Flatten())\n",
        "\n",
        "\n",
        "# model.add(Dense(1024,kernel_regularizer=l2(0.001),activation='relu'))\n",
        "# model.add(Dropout(0.3))\n",
        "# model.add(Dense(6,activation='softmax'))\n",
        "\n",
        "# model.summary()"
      ]
    },
    {
      "cell_type": "code",
      "execution_count": null,
      "metadata": {
        "id": "AxHP48vS2Ss3",
        "colab": {
          "base_uri": "https://localhost:8080/"
        },
        "outputId": "4cdeb028-2cf1-4d02-92ef-897e797ec153"
      },
      "outputs": [
        {
          "output_type": "stream",
          "name": "stdout",
          "text": [
            "Model: \"sequential_1\"\n",
            "_________________________________________________________________\n",
            " Layer (type)                Output Shape              Param #   \n",
            "=================================================================\n",
            " conv2d_4 (Conv2D)           (None, 48, 48, 64)        640       \n",
            "                                                                 \n",
            " batch_normalization_6 (Batc  (None, 48, 48, 64)       256       \n",
            " hNormalization)                                                 \n",
            "                                                                 \n",
            " activation_6 (Activation)   (None, 48, 48, 64)        0         \n",
            "                                                                 \n",
            " max_pooling2d_4 (MaxPooling  (None, 24, 24, 64)       0         \n",
            " 2D)                                                             \n",
            "                                                                 \n",
            " dropout_6 (Dropout)         (None, 24, 24, 64)        0         \n",
            "                                                                 \n",
            " conv2d_5 (Conv2D)           (None, 24, 24, 128)       204928    \n",
            "                                                                 \n",
            " batch_normalization_7 (Batc  (None, 24, 24, 128)      512       \n",
            " hNormalization)                                                 \n",
            "                                                                 \n",
            " activation_7 (Activation)   (None, 24, 24, 128)       0         \n",
            "                                                                 \n",
            " max_pooling2d_5 (MaxPooling  (None, 12, 12, 128)      0         \n",
            " 2D)                                                             \n",
            "                                                                 \n",
            " dropout_7 (Dropout)         (None, 12, 12, 128)       0         \n",
            "                                                                 \n",
            " conv2d_6 (Conv2D)           (None, 12, 12, 512)       590336    \n",
            "                                                                 \n",
            " batch_normalization_8 (Batc  (None, 12, 12, 512)      2048      \n",
            " hNormalization)                                                 \n",
            "                                                                 \n",
            " activation_8 (Activation)   (None, 12, 12, 512)       0         \n",
            "                                                                 \n",
            " max_pooling2d_6 (MaxPooling  (None, 6, 6, 512)        0         \n",
            " 2D)                                                             \n",
            "                                                                 \n",
            " dropout_8 (Dropout)         (None, 6, 6, 512)         0         \n",
            "                                                                 \n",
            " conv2d_7 (Conv2D)           (None, 6, 6, 512)         2359808   \n",
            "                                                                 \n",
            " batch_normalization_9 (Batc  (None, 6, 6, 512)        2048      \n",
            " hNormalization)                                                 \n",
            "                                                                 \n",
            " activation_9 (Activation)   (None, 6, 6, 512)         0         \n",
            "                                                                 \n",
            " max_pooling2d_7 (MaxPooling  (None, 3, 3, 512)        0         \n",
            " 2D)                                                             \n",
            "                                                                 \n",
            " dropout_9 (Dropout)         (None, 3, 3, 512)         0         \n",
            "                                                                 \n",
            " flatten_1 (Flatten)         (None, 4608)              0         \n",
            "                                                                 \n",
            " dense_3 (Dense)             (None, 256)               1179904   \n",
            "                                                                 \n",
            " batch_normalization_10 (Bat  (None, 256)              1024      \n",
            " chNormalization)                                                \n",
            "                                                                 \n",
            " activation_10 (Activation)  (None, 256)               0         \n",
            "                                                                 \n",
            " dropout_10 (Dropout)        (None, 256)               0         \n",
            "                                                                 \n",
            " dense_4 (Dense)             (None, 512)               131584    \n",
            "                                                                 \n",
            " batch_normalization_11 (Bat  (None, 512)              2048      \n",
            " chNormalization)                                                \n",
            "                                                                 \n",
            " activation_11 (Activation)  (None, 512)               0         \n",
            "                                                                 \n",
            " dropout_11 (Dropout)        (None, 512)               0         \n",
            "                                                                 \n",
            " dense_5 (Dense)             (None, 6)                 3078      \n",
            "                                                                 \n",
            "=================================================================\n",
            "Total params: 4,478,214\n",
            "Trainable params: 4,474,246\n",
            "Non-trainable params: 3,968\n",
            "_________________________________________________________________\n",
            "None\n"
          ]
        }
      ],
      "source": [
        "\n",
        "    num_classes = 6\n",
        "    model = Sequential()\n",
        "    #the 1-st block\n",
        "    model.add(Conv2D(64,(3,3),padding='same',input_shape =(48,48,1)))\n",
        "    model.add(BatchNormalization())\n",
        "    model.add(Activation('relu'))\n",
        "    model.add(MaxPooling2D(pool_size=(2,2)))\n",
        "    model.add(Dropout(0.25))\n",
        "\n",
        "    model.add(Conv2D(128,(5,5),padding='same'))\n",
        "    model.add(BatchNormalization())\n",
        "    model.add(Activation('relu'))\n",
        "    model.add(MaxPooling2D(pool_size=(2,2)))\n",
        "    model.add(Dropout(0.25))\n",
        "\n",
        "    model.add(Conv2D(512,(3,3),padding='same'))\n",
        "    model.add(BatchNormalization())\n",
        "    model.add(Activation('relu'))\n",
        "    model.add(MaxPooling2D(pool_size=(2,2)))\n",
        "    model.add(Dropout(0.25))\n",
        "\n",
        "    model.add(Conv2D(512,(3,3),padding='same'))\n",
        "    model.add(BatchNormalization())\n",
        "    model.add(Activation('relu'))\n",
        "    model.add(MaxPooling2D(pool_size=(2,2)))\n",
        "    model.add(Dropout(0.25))\n",
        "\n",
        "    model.add(Flatten())\n",
        "\n",
        "    model.add(Dense(256,))\n",
        "    model.add(BatchNormalization())\n",
        "    model.add(Activation('relu'))\n",
        "    model.add(Dropout(0.25))\n",
        "\n",
        "    model.add(Dense(512,))\n",
        "    model.add(BatchNormalization())\n",
        "    model.add(Activation('relu'))\n",
        "    model.add(Dropout(0.25))\n",
        "\n",
        "    model.add(Dense(num_classes,activation='softmax'))\n",
        "\n",
        "\n",
        "\n",
        "    print(model.summary())\n"
      ]
    },
    {
      "cell_type": "code",
      "source": [
        "# pip install efficientnet"
      ],
      "metadata": {
        "id": "fOvR46wa8vLg"
      },
      "execution_count": null,
      "outputs": []
    },
    {
      "cell_type": "code",
      "source": [
        "# pip install tensorflow"
      ],
      "metadata": {
        "id": "t2mQByd_AueG"
      },
      "execution_count": null,
      "outputs": []
    },
    {
      "cell_type": "code",
      "source": [
        "# from tensorflow.keras.applications import ResNet50\n",
        "# from tensorflow.keras.layers import Input, Conv2D, BatchNormalization, Activation, GlobalAveragePooling2D, Dense"
      ],
      "metadata": {
        "id": "oP8kFkyvAukO"
      },
      "execution_count": null,
      "outputs": []
    },
    {
      "cell_type": "code",
      "source": [
        "# from keras.models import Model\n",
        "# from keras.applications import DenseNet121\n",
        "# from keras.applications import vgg16\n",
        "# from keras.applications.inception_v3 import InceptionV3\n",
        "# # from keras.applications.resnet50 import ResNet50\n",
        "# from keras.applications import MobileNet\n",
        "# import efficientnet.keras as efn\n",
        "\n",
        "# def construct_transfer_learning_model(model_name) :\n",
        "#     if model_name == 'MobileNet' :\n",
        "#         base_model=MobileNet(weights='imagenet',include_top=False,input_shape=(img_size,img_size,3))#imports the mobilenet model and discards the last 1000 neuron layer.\n",
        "#         base_model.trainable = True\n",
        "#         for layer in base_model.layers[:-10] :\n",
        "#             layer.trainable = True\n",
        "#     elif model_name == 'VGG16' :\n",
        "#         base_model=vgg16.VGG16(weights='imagenet',include_top=False,input_shape=(img_size,img_size,3))\n",
        "#         base_model.trainable = True\n",
        "#         for layer in base_model.layers[:-3] :\n",
        "#             layer.trainable = True\n",
        "#     elif model_name == 'DenseNet' :\n",
        "#         base_model = DenseNet121(weights='imagenet',include_top=False,input_shape=(img_size,img_size,3))\n",
        "#         base_model.trainable = True\n",
        "#         for layer in base_model.layers[:-10] :\n",
        "#             layer.trainable = True\n",
        "#     elif model_name == 'Inception' :\n",
        "#         base_model=InceptionV3(weights='imagenet',include_top=False,input_shape=(img_size,img_size,3))\n",
        "#         base_model.trainable = True\n",
        "#         for layer in base_model.layers[:-10] :\n",
        "#             layer.trainable = True\n",
        "#     elif model_name == 'ResNet' :\n",
        "#         base_model = ResNet50(weights='imagenet',include_top=False,input_shape=(img_size,img_size,3))\n",
        "#         base_model.trainable = True\n",
        "#         for layer in base_model.layers[:-10] :\n",
        "#             layer.trainable = True\n",
        "#     elif model_name == 'EfficientNet' :\n",
        "#         base_model = efn.EfficientNetB3(weights = 'imagenet', include_top=False, input_shape = (img_size,img_size,3))\n",
        "#         base_model.trainable = True\n",
        "#         for layer in base_model.layers[:-10] :\n",
        "#             layer.trainable = True\n",
        "#     x=base_model.output\n",
        "#     x=GlobalAveragePooling2D()(x)\n",
        "#     x=Dense(1024,activation='relu')(x) #we add dense layers so that the model can learn more complex functions and classify for better results.\n",
        "#     x=Dropout(0.3)(x)\n",
        "#     x=Dense(512,activation='relu')(x) #dense layer 2\n",
        "#     preds=Dense(6,activation='softmax')(x) #final layer with softmax activation\n",
        "#     model=Model(inputs=base_model.input,outputs=preds)\n",
        "#     model.compile(optimizer='Adam',loss = 'categorical_crossentropy',metrics = ['accuracy'])\n",
        "#     return model\n",
        "\n",
        "# model = construct_transfer_learning_model('ResNet')\n",
        "# history = model.fit_generator(balanced_gen_female,\n",
        "#                     epochs = 100,\n",
        "#                     class_weight=class_weights,\n",
        "#                     verbose = True,\n",
        "#                     validation_data= (X_test_female, Y_test_female),\n",
        "#                     callbacks=callbacks\n",
        "#                    )"
      ],
      "metadata": {
        "id": "stAxgO0R5fnD"
      },
      "execution_count": null,
      "outputs": []
    },
    {
      "cell_type": "code",
      "source": [
        "# import tensorflow as tf\n",
        "# from tensorflow.keras.layers import Input, Conv2D, BatchNormalization, Activation, GlobalAveragePooling2D, Dense\n",
        "# from tensorflow.keras.models import Model\n",
        "# from tensorflow.keras.optimizers import Adam\n",
        "\n",
        "# def residual_block(x, filters, kernel_size=3, strides=1):\n",
        "#     shortcut = x\n",
        "\n",
        "#     x = Conv2D(filters, kernel_size, strides=strides, padding=\"same\")(x)\n",
        "#     x = BatchNormalization()(x)\n",
        "#     x = Activation(\"relu\")(x)\n",
        "\n",
        "#     x = Conv2D(filters, kernel_size, strides=1, padding=\"same\")(x)\n",
        "#     x = BatchNormalization()(x)\n",
        "\n",
        "#     if strides != 1 or x.shape[-1] != shortcut.shape[-1]:\n",
        "#         shortcut = Conv2D(filters, kernel_size=1, strides=strides, padding=\"same\")(shortcut)\n",
        "\n",
        "#     x = tf.keras.layers.add([x, shortcut])\n",
        "#     x = Activation(\"relu\")(x)\n",
        "\n",
        "#     return x\n",
        "\n",
        "# # Define the ResNet architecture\n",
        "# input_shape = (48, 48, 1)\n",
        "# inputs = Input(shape=input_shape)\n",
        "# x = Conv2D(16, 3, strides=1, padding=\"same\")(inputs)\n",
        "# x = BatchNormalization()(x)\n",
        "# x = Activation(\"relu\")(x)\n",
        "\n",
        "# n = 6  # Increase the number of residual blocks\n",
        "# for _ in range(n):\n",
        "#     x = residual_block(x, filters=16)\n",
        "\n",
        "# x = residual_block(x, filters=32, strides=2)\n",
        "# for _ in range(n - 1):\n",
        "#     x = residual_block(x, filters=32)\n",
        "\n",
        "# x = residual_block(x, filters=64, strides=2)\n",
        "# for _ in range(n - 1):\n",
        "#     x = residual_block(x, filters=64)\n",
        "\n",
        "# x = BatchNormalization()(x)\n",
        "# x = Activation(\"relu\")(x)\n",
        "# x = GlobalAveragePooling2D()(x)\n",
        "\n",
        "# outputs = Dense(6, activation=\"softmax\")(x)  # 6 classes for emotion recognition\n",
        "\n",
        "# # Create the model\n",
        "# model = Model(inputs, outputs)\n",
        "\n",
        "# optimizer = Adam(learning_rate=0.001, beta_1=0.9, beta_2=0.999, epsilon=1e-07)\n",
        "# model.compile(optimizer=optimizer, loss=\"categorical_crossentropy\", metrics=[\"accuracy\"])\n",
        "\n",
        "# # Print model summary\n",
        "# model.summary()\n"
      ],
      "metadata": {
        "id": "3-91lo_upPBN"
      },
      "execution_count": null,
      "outputs": []
    },
    {
      "cell_type": "markdown",
      "metadata": {
        "id": "fphXM2sC9kv_"
      },
      "source": [
        "# **Train the model**"
      ]
    },
    {
      "cell_type": "code",
      "execution_count": null,
      "metadata": {
        "id": "0TjYAL-F8IeY",
        "colab": {
          "base_uri": "https://localhost:8080/"
        },
        "outputId": "7370f404-f62c-4eb7-9d28-a890264a7c4b"
      },
      "outputs": [
        {
          "output_type": "stream",
          "name": "stdout",
          "text": [
            "Setting learning rate to 0.001\n",
            "Epoch 1/50\n",
            "388/388 [==============================] - ETA: 0s - loss: 1.8557 - accuracy: 0.2431\n",
            "Epoch 1: val_accuracy improved from -inf to 0.33589, saving model to /content/drive/MyDrive/Reserch/best_model_cifar10.hdf5\n",
            "388/388 [==============================] - 22s 36ms/step - loss: 1.8557 - accuracy: 0.2431 - val_loss: 1.6144 - val_accuracy: 0.3359\n",
            "Setting learning rate to 0.001\n",
            "Epoch 2/50\n",
            "387/388 [============================>.] - ETA: 0s - loss: 1.6468 - accuracy: 0.3237\n",
            "Epoch 2: val_accuracy improved from 0.33589 to 0.36541, saving model to /content/drive/MyDrive/Reserch/best_model_cifar10.hdf5\n",
            "388/388 [==============================] - 11s 29ms/step - loss: 1.6466 - accuracy: 0.3239 - val_loss: 1.5316 - val_accuracy: 0.3654\n",
            "Setting learning rate to 0.001\n",
            "Epoch 3/50\n",
            "387/388 [============================>.] - ETA: 0s - loss: 1.5338 - accuracy: 0.3697\n",
            "Epoch 3: val_accuracy improved from 0.36541 to 0.39072, saving model to /content/drive/MyDrive/Reserch/best_model_cifar10.hdf5\n",
            "388/388 [==============================] - 12s 30ms/step - loss: 1.5337 - accuracy: 0.3696 - val_loss: 1.4446 - val_accuracy: 0.3907\n",
            "Setting learning rate to 0.001\n",
            "Epoch 4/50\n",
            "387/388 [============================>.] - ETA: 0s - loss: 1.4679 - accuracy: 0.3956\n",
            "Epoch 4: val_accuracy improved from 0.39072 to 0.43788, saving model to /content/drive/MyDrive/Reserch/best_model_cifar10.hdf5\n",
            "388/388 [==============================] - 15s 38ms/step - loss: 1.4682 - accuracy: 0.3957 - val_loss: 1.4039 - val_accuracy: 0.4379\n",
            "Setting learning rate to 0.001\n",
            "Epoch 5/50\n",
            "387/388 [============================>.] - ETA: 0s - loss: 1.4074 - accuracy: 0.4238\n",
            "Epoch 5: val_accuracy did not improve from 0.43788\n",
            "388/388 [==============================] - 12s 31ms/step - loss: 1.4087 - accuracy: 0.4235 - val_loss: 1.9690 - val_accuracy: 0.2715\n",
            "Setting learning rate to 0.001\n",
            "Epoch 6/50\n",
            "387/388 [============================>.] - ETA: 0s - loss: 1.3603 - accuracy: 0.4425\n",
            "Epoch 6: val_accuracy improved from 0.43788 to 0.47316, saving model to /content/drive/MyDrive/Reserch/best_model_cifar10.hdf5\n",
            "388/388 [==============================] - 12s 30ms/step - loss: 1.3594 - accuracy: 0.4428 - val_loss: 1.2953 - val_accuracy: 0.4732\n",
            "Learning rate: 0.001\n",
            "Epoch 7/50\n",
            "386/388 [============================>.] - ETA: 0s - loss: 1.3344 - accuracy: 0.4512\n",
            "Epoch 7: val_accuracy did not improve from 0.47316\n",
            "388/388 [==============================] - 11s 27ms/step - loss: 1.3344 - accuracy: 0.4511 - val_loss: 2.0270 - val_accuracy: 0.2343\n",
            "Changing learning rate from 0.001 to 0.0007000000332482159\n",
            "Epoch 8/50\n",
            "388/388 [==============================] - ETA: 0s - loss: 1.2914 - accuracy: 0.4774\n",
            "Epoch 8: val_accuracy improved from 0.47316 to 0.51840, saving model to /content/drive/MyDrive/Reserch/best_model_cifar10.hdf5\n",
            "388/388 [==============================] - 13s 34ms/step - loss: 1.2914 - accuracy: 0.4774 - val_loss: 1.1990 - val_accuracy: 0.5184\n",
            "Learning rate: 0.00070000003\n",
            "Epoch 9/50\n",
            "388/388 [==============================] - ETA: 0s - loss: 1.2614 - accuracy: 0.4952\n",
            "Epoch 9: val_accuracy did not improve from 0.51840\n",
            "388/388 [==============================] - 11s 28ms/step - loss: 1.2614 - accuracy: 0.4952 - val_loss: 1.2611 - val_accuracy: 0.4896\n",
            "Learning rate: 0.00070000003\n",
            "Epoch 10/50\n",
            "388/388 [==============================] - ETA: 0s - loss: 1.2412 - accuracy: 0.4962\n",
            "Epoch 10: val_accuracy improved from 0.51840 to 0.54410, saving model to /content/drive/MyDrive/Reserch/best_model_cifar10.hdf5\n",
            "388/388 [==============================] - 12s 31ms/step - loss: 1.2412 - accuracy: 0.4962 - val_loss: 1.1635 - val_accuracy: 0.5441\n",
            "Learning rate: 0.00070000003\n",
            "Epoch 11/50\n",
            "388/388 [==============================] - ETA: 0s - loss: 1.2225 - accuracy: 0.5017\n",
            "Epoch 11: val_accuracy did not improve from 0.54410\n",
            "388/388 [==============================] - 12s 31ms/step - loss: 1.2225 - accuracy: 0.5017 - val_loss: 1.3201 - val_accuracy: 0.4609\n",
            "Learning rate: 0.00070000003\n",
            "Epoch 12/50\n",
            "388/388 [==============================] - ETA: 0s - loss: 1.2036 - accuracy: 0.5090\n",
            "Epoch 12: val_accuracy did not improve from 0.54410\n",
            "388/388 [==============================] - 11s 29ms/step - loss: 1.2036 - accuracy: 0.5090 - val_loss: 1.5190 - val_accuracy: 0.4091\n",
            "Changing learning rate from 0.00070000003 to 0.0004900000232737511\n",
            "Epoch 13/50\n",
            "386/388 [============================>.] - ETA: 0s - loss: 1.1760 - accuracy: 0.5134\n",
            "Epoch 13: val_accuracy did not improve from 0.54410\n",
            "388/388 [==============================] - 15s 38ms/step - loss: 1.1757 - accuracy: 0.5132 - val_loss: 1.2369 - val_accuracy: 0.5081\n",
            "Learning rate: 0.00049\n",
            "Epoch 14/50\n",
            "388/388 [==============================] - ETA: 0s - loss: 1.1573 - accuracy: 0.5324\n",
            "Epoch 14: val_accuracy improved from 0.54410 to 0.56020, saving model to /content/drive/MyDrive/Reserch/best_model_cifar10.hdf5\n",
            "388/388 [==============================] - 13s 33ms/step - loss: 1.1573 - accuracy: 0.5324 - val_loss: 1.1081 - val_accuracy: 0.5602\n",
            "Learning rate: 0.00049\n",
            "Epoch 15/50\n",
            "386/388 [============================>.] - ETA: 0s - loss: 1.1510 - accuracy: 0.5297\n",
            "Epoch 15: val_accuracy did not improve from 0.56020\n",
            "388/388 [==============================] - 12s 30ms/step - loss: 1.1513 - accuracy: 0.5293 - val_loss: 1.2773 - val_accuracy: 0.4919\n",
            "Learning rate: 0.00049\n",
            "Epoch 16/50\n",
            "387/388 [============================>.] - ETA: 0s - loss: 1.1293 - accuracy: 0.5367\n",
            "Epoch 16: val_accuracy did not improve from 0.56020\n",
            "388/388 [==============================] - 10s 27ms/step - loss: 1.1297 - accuracy: 0.5366 - val_loss: 1.1292 - val_accuracy: 0.5544\n",
            "Learning rate: 0.00049\n",
            "Epoch 17/50\n",
            "388/388 [==============================] - ETA: 0s - loss: 1.1114 - accuracy: 0.5419\n",
            "Epoch 17: val_accuracy did not improve from 0.56020\n",
            "388/388 [==============================] - 12s 31ms/step - loss: 1.1114 - accuracy: 0.5419 - val_loss: 1.1674 - val_accuracy: 0.5341\n",
            "Learning rate: 0.00049\n",
            "Epoch 18/50\n",
            "387/388 [============================>.] - ETA: 0s - loss: 1.1090 - accuracy: 0.5530\n",
            "Epoch 18: val_accuracy did not improve from 0.56020\n",
            "388/388 [==============================] - 12s 30ms/step - loss: 1.1088 - accuracy: 0.5529 - val_loss: 1.1851 - val_accuracy: 0.5318\n",
            "Changing learning rate from 0.00049 to 0.00034300000406801696\n",
            "Epoch 19/50\n",
            "387/388 [============================>.] - ETA: 0s - loss: 1.0889 - accuracy: 0.5523\n",
            "Epoch 19: val_accuracy improved from 0.56020 to 0.57132, saving model to /content/drive/MyDrive/Reserch/best_model_cifar10.hdf5\n",
            "388/388 [==============================] - 11s 30ms/step - loss: 1.0901 - accuracy: 0.5521 - val_loss: 1.1083 - val_accuracy: 0.5713\n",
            "Learning rate: 0.000343\n",
            "Epoch 20/50\n",
            "387/388 [============================>.] - ETA: 0s - loss: 1.0702 - accuracy: 0.5602\n",
            "Epoch 20: val_accuracy improved from 0.57132 to 0.58512, saving model to /content/drive/MyDrive/Reserch/best_model_cifar10.hdf5\n",
            "388/388 [==============================] - 11s 28ms/step - loss: 1.0695 - accuracy: 0.5602 - val_loss: 1.0616 - val_accuracy: 0.5851\n",
            "Learning rate: 0.000343\n",
            "Epoch 21/50\n",
            "388/388 [==============================] - ETA: 0s - loss: 1.0614 - accuracy: 0.5702\n",
            "Epoch 21: val_accuracy did not improve from 0.58512\n",
            "388/388 [==============================] - 12s 31ms/step - loss: 1.0614 - accuracy: 0.5702 - val_loss: 1.2601 - val_accuracy: 0.4893\n",
            "Changing learning rate from 0.000343 to 0.00024009999469853935\n",
            "Epoch 22/50\n",
            "388/388 [==============================] - ETA: 0s - loss: 1.0486 - accuracy: 0.5743\n",
            "Epoch 22: val_accuracy improved from 0.58512 to 0.59317, saving model to /content/drive/MyDrive/Reserch/best_model_cifar10.hdf5\n",
            "388/388 [==============================] - 13s 34ms/step - loss: 1.0486 - accuracy: 0.5743 - val_loss: 1.0375 - val_accuracy: 0.5932\n",
            "Learning rate: 0.0002401\n",
            "Epoch 23/50\n",
            "387/388 [============================>.] - ETA: 0s - loss: 1.0408 - accuracy: 0.5743\n",
            "Epoch 23: val_accuracy did not improve from 0.59317\n",
            "388/388 [==============================] - 11s 29ms/step - loss: 1.0404 - accuracy: 0.5741 - val_loss: 1.0708 - val_accuracy: 0.5744\n",
            "Learning rate: 0.0002401\n",
            "Epoch 24/50\n",
            "386/388 [============================>.] - ETA: 0s - loss: 1.0326 - accuracy: 0.5794\n",
            "Epoch 24: val_accuracy did not improve from 0.59317\n",
            "388/388 [==============================] - 12s 31ms/step - loss: 1.0331 - accuracy: 0.5794 - val_loss: 1.0784 - val_accuracy: 0.5798\n",
            "Changing learning rate from 0.0002401 to 0.00016806999628897755\n",
            "Epoch 25/50\n",
            "386/388 [============================>.] - ETA: 0s - loss: 1.0172 - accuracy: 0.5814\n",
            "Epoch 25: val_accuracy improved from 0.59317 to 0.60429, saving model to /content/drive/MyDrive/Reserch/best_model_cifar10.hdf5\n",
            "388/388 [==============================] - 12s 30ms/step - loss: 1.0181 - accuracy: 0.5808 - val_loss: 1.0309 - val_accuracy: 0.6043\n",
            "Learning rate: 0.00016807\n",
            "Epoch 26/50\n",
            "387/388 [============================>.] - ETA: 0s - loss: 1.0103 - accuracy: 0.5860\n",
            "Epoch 26: val_accuracy did not improve from 0.60429\n",
            "388/388 [==============================] - 11s 28ms/step - loss: 1.0094 - accuracy: 0.5864 - val_loss: 1.0416 - val_accuracy: 0.6020\n",
            "Changing learning rate from 0.00016807 to 0.00011764899536501615\n",
            "Epoch 27/50\n",
            "388/388 [==============================] - ETA: 0s - loss: 0.9822 - accuracy: 0.5951\n",
            "Epoch 27: val_accuracy improved from 0.60429 to 0.60698, saving model to /content/drive/MyDrive/Reserch/best_model_cifar10.hdf5\n",
            "388/388 [==============================] - 13s 33ms/step - loss: 0.9822 - accuracy: 0.5951 - val_loss: 1.0213 - val_accuracy: 0.6070\n",
            "Learning rate: 0.000117649\n",
            "Epoch 28/50\n",
            "387/388 [============================>.] - ETA: 0s - loss: 0.9939 - accuracy: 0.5909\n",
            "Epoch 28: val_accuracy did not improve from 0.60698\n",
            "388/388 [==============================] - 12s 32ms/step - loss: 0.9939 - accuracy: 0.5905 - val_loss: 1.0325 - val_accuracy: 0.6051\n",
            "Learning rate: 0.000117649\n",
            "Epoch 29/50\n",
            "387/388 [============================>.] - ETA: 0s - loss: 0.9798 - accuracy: 0.6037\n",
            "Epoch 29: val_accuracy improved from 0.60698 to 0.60966, saving model to /content/drive/MyDrive/Reserch/best_model_cifar10.hdf5\n",
            "388/388 [==============================] - 12s 32ms/step - loss: 0.9810 - accuracy: 0.6035 - val_loss: 1.0127 - val_accuracy: 0.6097\n",
            "Learning rate: 0.000117649\n",
            "Epoch 30/50\n",
            "387/388 [============================>.] - ETA: 0s - loss: 0.9716 - accuracy: 0.5991\n",
            "Epoch 30: val_accuracy improved from 0.60966 to 0.61273, saving model to /content/drive/MyDrive/Reserch/best_model_cifar10.hdf5\n",
            "388/388 [==============================] - 11s 29ms/step - loss: 0.9715 - accuracy: 0.5989 - val_loss: 1.0119 - val_accuracy: 0.6127\n",
            "Learning rate: 0.000117649\n",
            "Epoch 31/50\n",
            "388/388 [==============================] - ETA: 0s - loss: 0.9875 - accuracy: 0.5971\n",
            "Epoch 31: val_accuracy did not improve from 0.61273\n",
            "388/388 [==============================] - 12s 31ms/step - loss: 0.9875 - accuracy: 0.5971 - val_loss: 1.0105 - val_accuracy: 0.6108\n",
            "Learning rate: 0.000117649\n",
            "Epoch 32/50\n",
            "388/388 [==============================] - ETA: 0s - loss: 0.9708 - accuracy: 0.6008\n",
            "Epoch 32: val_accuracy did not improve from 0.61273\n",
            "388/388 [==============================] - 12s 30ms/step - loss: 0.9708 - accuracy: 0.6008 - val_loss: 1.0075 - val_accuracy: 0.6116\n",
            "Learning rate: 0.000117649\n",
            "Epoch 33/50\n",
            "387/388 [============================>.] - ETA: 0s - loss: 0.9651 - accuracy: 0.6041\n",
            "Epoch 33: val_accuracy did not improve from 0.61273\n",
            "388/388 [==============================] - 12s 31ms/step - loss: 0.9656 - accuracy: 0.6041 - val_loss: 1.0517 - val_accuracy: 0.5886\n",
            "Changing learning rate from 0.000117649 to 8.235429777414538e-05\n",
            "Epoch 34/50\n",
            "387/388 [============================>.] - ETA: 0s - loss: 0.9616 - accuracy: 0.6025\n",
            "Epoch 34: val_accuracy did not improve from 0.61273\n",
            "388/388 [==============================] - 14s 37ms/step - loss: 0.9619 - accuracy: 0.6022 - val_loss: 1.0097 - val_accuracy: 0.6097\n",
            "Changing learning rate from 8.2354294e-05 to 5.76480058953166e-05\n",
            "Epoch 35/50\n",
            "386/388 [============================>.] - ETA: 0s - loss: 0.9586 - accuracy: 0.6087\n",
            "Epoch 35: val_accuracy improved from 0.61273 to 0.62308, saving model to /content/drive/MyDrive/Reserch/best_model_cifar10.hdf5\n",
            "388/388 [==============================] - 13s 34ms/step - loss: 0.9592 - accuracy: 0.6084 - val_loss: 0.9875 - val_accuracy: 0.6231\n",
            "Learning rate: 5.7648005e-05\n",
            "Epoch 36/50\n",
            "388/388 [==============================] - ETA: 0s - loss: 0.9541 - accuracy: 0.5999\n",
            "Epoch 36: val_accuracy did not improve from 0.62308\n",
            "388/388 [==============================] - 11s 29ms/step - loss: 0.9541 - accuracy: 0.5999 - val_loss: 0.9956 - val_accuracy: 0.6189\n",
            "Learning rate: 5.7648005e-05\n",
            "Epoch 37/50\n",
            "387/388 [============================>.] - ETA: 0s - loss: 0.9539 - accuracy: 0.6026\n",
            "Epoch 37: val_accuracy did not improve from 0.62308\n",
            "388/388 [==============================] - 12s 31ms/step - loss: 0.9542 - accuracy: 0.6025 - val_loss: 0.9970 - val_accuracy: 0.6169\n",
            "Learning rate: 5.7648005e-05\n",
            "Epoch 38/50\n",
            "386/388 [============================>.] - ETA: 0s - loss: 0.9472 - accuracy: 0.6097\n",
            "Epoch 38: val_accuracy improved from 0.62308 to 0.62653, saving model to /content/drive/MyDrive/Reserch/best_model_cifar10.hdf5\n",
            "388/388 [==============================] - 13s 33ms/step - loss: 0.9466 - accuracy: 0.6102 - val_loss: 0.9874 - val_accuracy: 0.6265\n",
            "Learning rate: 5.7648005e-05\n",
            "Epoch 39/50\n",
            "388/388 [==============================] - ETA: 0s - loss: 0.9454 - accuracy: 0.6086\n",
            "Epoch 39: val_accuracy did not improve from 0.62653\n",
            "388/388 [==============================] - 11s 28ms/step - loss: 0.9454 - accuracy: 0.6086 - val_loss: 0.9973 - val_accuracy: 0.6215\n",
            "Changing learning rate from 5.7648005e-05 to 4.0353603617404586e-05\n",
            "Epoch 40/50\n",
            "386/388 [============================>.] - ETA: 0s - loss: 0.9408 - accuracy: 0.6134\n",
            "Epoch 40: val_accuracy did not improve from 0.62653\n",
            "388/388 [==============================] - 11s 29ms/step - loss: 0.9407 - accuracy: 0.6137 - val_loss: 0.9969 - val_accuracy: 0.6254\n",
            "Changing learning rate from 4.0353603e-05 to 2.8247522277524694e-05\n",
            "Epoch 41/50\n",
            "388/388 [==============================] - ETA: 0s - loss: 0.9399 - accuracy: 0.6153\n",
            "Epoch 41: val_accuracy did not improve from 0.62653\n",
            "388/388 [==============================] - 12s 30ms/step - loss: 0.9399 - accuracy: 0.6153 - val_loss: 0.9998 - val_accuracy: 0.6173\n",
            "Changing learning rate from 2.8247523e-05 to 1.977326610358432e-05\n",
            "Epoch 42/50\n",
            "387/388 [============================>.] - ETA: 0s - loss: 0.9430 - accuracy: 0.6101\n",
            "Epoch 42: val_accuracy did not improve from 0.62653\n",
            "388/388 [==============================] - 11s 30ms/step - loss: 0.9437 - accuracy: 0.6103 - val_loss: 0.9939 - val_accuracy: 0.6242\n",
            "Changing learning rate from 1.9773266e-05 to 1.3841286272509023e-05\n",
            "Epoch 43/50\n",
            "387/388 [============================>.] - ETA: 0s - loss: 0.9367 - accuracy: 0.6182\n",
            "Epoch 43: val_accuracy did not improve from 0.62653\n",
            "388/388 [==============================] - 15s 39ms/step - loss: 0.9367 - accuracy: 0.6183 - val_loss: 0.9901 - val_accuracy: 0.6262\n"
          ]
        }
      ],
      "source": [
        "batch = 32\n",
        "epoch = 50\n",
        "optimizer = Adam(beta_1=0.9, beta_2=0.999, amsgrad=False)\n",
        "model.compile(optimizer=optimizer, loss='categorical_crossentropy', metrics=['accuracy'])\n",
        "history = model.fit(balanced_gen_female, batch_size=batch, class_weight=class_weights, epochs=epoch, class_weight=class_weights,validation_data=(X_test_female,Y_test_female),callbacks=callbacks)"
      ]
    },
    {
      "cell_type": "code",
      "execution_count": null,
      "metadata": {
        "id": "mTELGI-NGBsl",
        "colab": {
          "base_uri": "https://localhost:8080/"
        },
        "outputId": "54b330a4-5f36-448f-9b75-1c278f685e1f"
      },
      "outputs": [
        {
          "output_type": "stream",
          "name": "stdout",
          "text": [
            "82/82 [==============================] - 1s 8ms/step - loss: 0.9901 - accuracy: 0.6262\n"
          ]
        }
      ],
      "source": [
        "loss, accuracy = model.evaluate(X_test_female,Y_test_female)"
      ]
    },
    {
      "cell_type": "markdown",
      "metadata": {
        "id": "eDR0Q3819z_E"
      },
      "source": [
        "**Prediction results**"
      ]
    },
    {
      "cell_type": "markdown",
      "metadata": {
        "id": "wC8geLztLFDQ"
      },
      "source": []
    },
    {
      "cell_type": "code",
      "execution_count": null,
      "metadata": {
        "id": "Iny-osZwrh1O",
        "colab": {
          "base_uri": "https://localhost:8080/"
        },
        "outputId": "d0361a97-1185-4c0b-87b8-5d0ceefb8067"
      },
      "outputs": [
        {
          "output_type": "stream",
          "name": "stdout",
          "text": [
            "388/388 [==============================] - 2s 5ms/step\n",
            "Example 7169: Predicted label = happy, Actual label = happy\n",
            "Example 6323: Predicted label = neutral, Actual label = neutral\n",
            "Example 2980: Predicted label = happy, Actual label = happy\n",
            "Example 3491: Predicted label = fear, Actual label = fear\n",
            "Example 11728: Predicted label = neutral, Actual label = neutral\n",
            "Example 7335: Predicted label = fear, Actual label = fear\n",
            "Example 8775: Predicted label = neutral, Actual label = sad\n",
            "Example 120: Predicted label = sad, Actual label = fear\n",
            "Example 10648: Predicted label = sad, Actual label = sad\n",
            "Example 8294: Predicted label = neutral, Actual label = neutral\n"
          ]
        }
      ],
      "source": [
        "# Assuming you have a trained model named 'model' and training data X_train and corresponding labels Y_train\n",
        "\n",
        "# Define the emotion label mapping\n",
        "label_mapping = {\n",
        "    0: \"happy\",\n",
        "    1: \"sad\",\n",
        "    2: \"neutral\",\n",
        "    3: \"fear\",\n",
        "    4: \"disgust\",\n",
        "    5: \"angry\"\n",
        "}\n",
        "\n",
        "# Make predictions on the training data\n",
        "Y_pred = model.predict(X_train_female)\n",
        "\n",
        "# Select a few examples to display\n",
        "num_examples = 10\n",
        "indices = np.random.randint(0, len(X_train_female), num_examples)\n",
        "\n",
        "# Display the predicted and actual labels for the selected examples\n",
        "for index in indices:\n",
        "    predicted_label = np.argmax(Y_pred[index])  # Get the index of the predicted class with the highest probability\n",
        "    actual_label = np.argmax(Y_train_female[index])  # Get the index of the actual class\n",
        "    predicted_emotion = label_mapping[predicted_label]\n",
        "    actual_emotion = label_mapping[actual_label]\n",
        "    print(\"Example {}: Predicted label = {}, Actual label = {}\".format(index, predicted_emotion, actual_emotion))"
      ]
    },
    {
      "cell_type": "code",
      "execution_count": null,
      "metadata": {
        "id": "wLMJxzCSGPcd",
        "colab": {
          "base_uri": "https://localhost:8080/"
        },
        "outputId": "ab27d46e-5cfe-4e81-895a-e427ab8ecfc4"
      },
      "outputs": [
        {
          "output_type": "stream",
          "name": "stdout",
          "text": [
            "388/388 [==============================] - 2s 5ms/step\n",
            "╒═══════════╤═══════════════════╤════════════════╕\n",
            "│   Example │ Predicted Label   │ Actual Label   │\n",
            "╞═══════════╪═══════════════════╪════════════════╡\n",
            "│      4624 │ angry             │ angry          │\n",
            "├───────────┼───────────────────┼────────────────┤\n",
            "│        80 │ happy             │ happy          │\n",
            "├───────────┼───────────────────┼────────────────┤\n",
            "│      2305 │ fear              │ fear           │\n",
            "├───────────┼───────────────────┼────────────────┤\n",
            "│      2053 │ fear              │ neutral        │\n",
            "├───────────┼───────────────────┼────────────────┤\n",
            "│      6533 │ fear              │ fear           │\n",
            "├───────────┼───────────────────┼────────────────┤\n",
            "│     11694 │ angry             │ angry          │\n",
            "├───────────┼───────────────────┼────────────────┤\n",
            "│      9821 │ angry             │ angry          │\n",
            "├───────────┼───────────────────┼────────────────┤\n",
            "│      1807 │ disgust           │ disgust        │\n",
            "├───────────┼───────────────────┼────────────────┤\n",
            "│      6733 │ sad               │ sad            │\n",
            "├───────────┼───────────────────┼────────────────┤\n",
            "│      3751 │ fear              │ sad            │\n",
            "╘═══════════╧═══════════════════╧════════════════╛\n"
          ]
        }
      ],
      "source": [
        "from tabulate import tabulate\n",
        "\n",
        "# Define the emotion label mapping\n",
        "label_mapping = {\n",
        "    0: \"happy\",\n",
        "    1: \"sad\",\n",
        "    2: \"neutral\",\n",
        "    3: \"fear\",\n",
        "    4: \"disgust\",\n",
        "    5: \"angry\"\n",
        "}\n",
        "\n",
        "# Make predictions on the training data\n",
        "Y_pred = model.predict(X_train_female)\n",
        "\n",
        "# Select a few examples to display\n",
        "num_examples = 10\n",
        "indices = np.random.randint(0, len(X_train_female), num_examples)\n",
        "\n",
        "# Prepare the data for the table\n",
        "table_data = []\n",
        "for index in indices:\n",
        "    predicted_label = np.argmax(Y_pred[index])  # Get the index of the predicted class with the highest probability\n",
        "    actual_label = np.argmax(Y_train_female[index])  # Get the index of the actual class\n",
        "    predicted_emotion = label_mapping[predicted_label]\n",
        "    actual_emotion = label_mapping[actual_label]\n",
        "    table_data.append([index, predicted_emotion, actual_emotion])\n",
        "\n",
        "# Display the table\n",
        "table_headers = [\"Example\", \"Predicted Label\", \"Actual Label\"]\n",
        "table = tabulate(table_data, headers=table_headers, tablefmt=\"fancy_grid\")\n",
        "print(table)\n"
      ]
    },
    {
      "cell_type": "code",
      "execution_count": null,
      "metadata": {
        "id": "XJgLuaFT-J8s"
      },
      "outputs": [],
      "source": [
        "def plotting_epochs(training_, validation_, lossOrAccu):\n",
        "  plt.figure(figsize=[6,4])\n",
        "  plt.plot(training_, 'black', linewidth=2.0)\n",
        "  plt.plot(validation_, 'blue', linewidth=2.0)\n",
        "  plt.legend(['Training '+lossOrAccu, 'Validation '+lossOrAccu], fontsize=14)\n",
        "  plt.xlabel('Epochs', fontsize=10)\n",
        "  plt.ylabel(lossOrAccu, fontsize=10)\n",
        "  plt.title(lossOrAccu+' Curves', fontsize=12)"
      ]
    },
    {
      "cell_type": "code",
      "execution_count": null,
      "metadata": {
        "id": "dd188geq81_r",
        "colab": {
          "base_uri": "https://localhost:8080/",
          "height": 803
        },
        "outputId": "86b4525a-238b-4421-a32b-40e5411c0b4d"
      },
      "outputs": [
        {
          "output_type": "display_data",
          "data": {
            "text/plain": [
              "<Figure size 600x400 with 1 Axes>"
            ],
            "image/png": "[encoded data removed]"
          },
          "metadata": {}
        },
        {
          "output_type": "display_data",
          "data": {
            "text/plain": [
              "<Figure size 600x400 with 1 Axes>"
            ],
            "image/png": "[encoded data removed]"
          },
          "metadata": {}
        }
      ],
      "source": [
        "plotting_epochs(history.history['accuracy'], history.history['val_accuracy'], \"Accuracy\")\n",
        "plotting_epochs(history.history['loss'], history.history['val_loss'], \"Loss\")"
      ]
    },
    {
      "cell_type": "code",
      "execution_count": null,
      "metadata": {
        "id": "6IJiFJPC821D",
        "colab": {
          "base_uri": "https://localhost:8080/",
          "height": 526
        },
        "outputId": "2282794b-cc16-4fdb-dcf6-536f4c776d96"
      },
      "outputs": [
        {
          "output_type": "display_data",
          "data": {
            "text/plain": [
              "<Figure size 2000x600 with 2 Axes>"
            ],
            "image/png": "[encoded data removed]"
          },
          "metadata": {}
        }
      ],
      "source": [
        "fig, ((ax1, ax2)) = plt.subplots(nrows=1, ncols=2,figsize=(20,6))\n",
        "\n",
        "ax1.plot(history.history['accuracy'],'b', history.history['val_accuracy'], 'r')\n",
        "ax1.set_ylabel('Accuracy Rate',fontsize=12)\n",
        "ax1.set_xlabel('Iteration',fontsize=12)\n",
        "ax1.set_title(')',fontsize=14)\n",
        "\n",
        "ax1.legend(['Training Accuracy','Validation Accuracy'],fontsize=12,loc='best')\n",
        "\n",
        "ax2.plot(history.history['loss'], 'b',history.history['val_loss'],'r')\n",
        "ax2.set_ylabel('Loss',fontsize=12)\n",
        "ax2.set_xlabel('Iteration',fontsize=12)\n",
        "ax2.set_title('Learning Curve',fontsize=14)\n",
        "ax2.legend(['Training Loss','Validation Loss'],fontsize=12,loc='best')\n",
        "\n",
        "# plt.savefig('crosse_results.png')\n",
        "plt.show()"
      ]
    },
    {
      "cell_type": "code",
      "execution_count": null,
      "metadata": {
        "id": "yLtV0VxsWwo4",
        "colab": {
          "base_uri": "https://localhost:8080/",
          "height": 406
        },
        "outputId": "d78dccce-1195-4c4b-8c4a-839e4c600008"
      },
      "outputs": [
        {
          "output_type": "display_data",
          "data": {
            "text/plain": [
              "<Figure size 640x480 with 1 Axes>"
            ],
            "image/png": "[encoded data removed]"
          },
          "metadata": {}
        }
      ],
      "source": [
        "import dlib\n",
        "from PIL import Image\n",
        "from skimage import io, color\n",
        "import matplotlib.pyplot as plt\n",
        "\n",
        "def detect_faces(image):\n",
        "    # Create a face detector\n",
        "    face_detector = dlib.get_frontal_face_detector()\n",
        "\n",
        "    # Convert image to RGB if it's in a different format\n",
        "    if image.ndim == 2:\n",
        "        # Grayscale image\n",
        "        image = color.gray2rgb(image)\n",
        "    elif image.ndim == 4:\n",
        "        # RGBA image\n",
        "        image = image[..., :3]\n",
        "\n",
        "    # Run detector and get bounding boxes of the faces in the image\n",
        "    detected_faces = face_detector(image, 1)\n",
        "    face_frames = [(x.left(), x.top(), x.right(), x.bottom()) for x in detected_faces]\n",
        "\n",
        "    return face_frames\n",
        "\n",
        "# Load image\n",
        "img_path = '/content/drive/MyDrive/photos/S057_001_00000019.png'\n",
        "image = io.imread(img_path)\n",
        "\n",
        "# Detect faces\n",
        "detected_faces = detect_faces(image)\n",
        "tab_faces = []\n",
        "# Crop faces and plot\n",
        "for n, face_rect in enumerate(detected_faces):\n",
        "    face = Image.fromarray(image).crop(face_rect)\n",
        "    tab = np.asarray(face)\n",
        "    tab_faces.append(tab)\n",
        "    plt.subplot(1, len(detected_faces), n+1)\n",
        "    plt.axis('off')\n",
        "    plt.imshow(face)\n",
        "\n",
        "plt.show()\n"
      ]
    },
    {
      "cell_type": "code",
      "execution_count": null,
      "metadata": {
        "id": "_5NklaupX9k4"
      },
      "outputs": [],
      "source": [
        "image_to_predict = np.asarray(face)\n",
        "img = cv2.resize(image_to_predict,(48,48),1)"
      ]
    },
    {
      "cell_type": "code",
      "execution_count": null,
      "metadata": {
        "id": "OQEmQYoPby4G"
      },
      "outputs": [],
      "source": [
        "inv_dic = {\n",
        "    0: 'happy',\n",
        "    1: 'sad',\n",
        "    2: 'suprise',\n",
        "    3: 'fear',\n",
        "    4: 'disgust',\n",
        "    5: 'angry'\n",
        "    # Add more class labels and indices as needed\n",
        "}\n"
      ]
    },
    {
      "cell_type": "code",
      "execution_count": null,
      "metadata": {
        "id": "No-8oCsAYTTp",
        "colab": {
          "base_uri": "https://localhost:8080/"
        },
        "outputId": "f0237382-75d2-4b01-934e-59af42078c8d"
      },
      "outputs": [
        {
          "output_type": "stream",
          "name": "stdout",
          "text": [
            "1/1 [==============================] - 0s 364ms/step\n",
            "suprise\n"
          ]
        }
      ],
      "source": [
        "tab = []\n",
        "tab.append(img)\n",
        "tab = np.array(tab)\n",
        "print(inv_dic[np.argmax(model.predict(tab))])\n",
        "# plt.imshow(tab[0],cmap = plt.cm.binary)"
      ]
    },
    {
      "cell_type": "code",
      "execution_count": null,
      "metadata": {
        "id": "KDTSWgY0YgjQ",
        "colab": {
          "base_uri": "https://localhost:8080/"
        },
        "outputId": "02f5070a-193a-420e-d88d-c7f09259028f"
      },
      "outputs": [
        {
          "output_type": "stream",
          "name": "stdout",
          "text": [
            "1/1 [==============================] - 0s 20ms/step\n",
            "suprise\n"
          ]
        }
      ],
      "source": [
        "for img in tab_faces :\n",
        "  img = img = cv2.resize(img,(48,48),3)\n",
        "  tab = []\n",
        "  tab.append(img)\n",
        "  tab = np.array(tab)\n",
        "  print(inv_dic[np.argmax(model.predict(tab))])"
      ]
    },
    {
      "cell_type": "code",
      "execution_count": null,
      "metadata": {
        "id": "f0Hd9d55Yo2Y",
        "colab": {
          "base_uri": "https://localhost:8080/",
          "height": 406
        },
        "outputId": "3e6a02e6-0890-456a-a469-7fe9caee3a9c"
      },
      "outputs": [
        {
          "output_type": "display_data",
          "data": {
            "text/plain": [
              "<Figure size 640x480 with 1 Axes>"
            ],
            "image/png": "[encoded data removed]"
          },
          "metadata": {}
        }
      ],
      "source": [
        "# Load and display the original image\n",
        "original_image = Image.fromarray(image)\n",
        "plt.figure()\n",
        "plt.imshow(original_image)\n",
        "plt.axis('off')\n",
        "plt.show()"
      ]
    },
    {
      "cell_type": "code",
      "execution_count": null,
      "metadata": {
        "id": "OldZd-26i13n",
        "colab": {
          "base_uri": "https://localhost:8080/",
          "height": 406
        },
        "outputId": "bd230edc-d4e5-421c-d2e3-d7f3518a87bb"
      },
      "outputs": [
        {
          "output_type": "display_data",
          "data": {
            "text/plain": [
              "<Figure size 640x480 with 1 Axes>"
            ],
            "image/png": "[encoded data removed]"
          },
          "metadata": {}
        }
      ],
      "source": [
        "import dlib\n",
        "from PIL import Image\n",
        "from skimage import io, color\n",
        "import matplotlib.pyplot as plt\n",
        "\n",
        "def detect_faces(image):\n",
        "    # Create a face detector\n",
        "    face_detector = dlib.get_frontal_face_detector()\n",
        "\n",
        "    # Convert image to RGB if it's in a different format\n",
        "    if image.ndim == 2:\n",
        "        # Grayscale image\n",
        "        image = color.gray2rgb(image)\n",
        "    elif image.ndim == 4:\n",
        "        # RGBA image\n",
        "        image = image[..., :3]\n",
        "\n",
        "    # Run detector and get bounding boxes of the faces in the image\n",
        "    detected_faces = face_detector(image, 1)\n",
        "    face_frames = [(x.left(), x.top(), x.right(), x.bottom()) for x in detected_faces]\n",
        "\n",
        "    return face_frames\n",
        "\n",
        "# Load image\n",
        "img_path = '/content/drive/MyDrive/photos/S999_001_00000018.png'\n",
        "image = io.imread(img_path)\n",
        "\n",
        "# Detect faces\n",
        "detected_faces = detect_faces(image)\n",
        "tab_faces = []\n",
        "# Crop faces and plot\n",
        "for n, face_rect in enumerate(detected_faces):\n",
        "    face = Image.fromarray(image).crop(face_rect)\n",
        "    tab = np.asarray(face)\n",
        "    tab_faces.append(tab)\n",
        "    plt.subplot(1, len(detected_faces), n+1)\n",
        "    plt.axis('off')\n",
        "    plt.imshow(face)\n",
        "\n",
        "plt.show()"
      ]
    },
    {
      "cell_type": "code",
      "execution_count": null,
      "metadata": {
        "id": "dnUsaX6gjRrU"
      },
      "outputs": [],
      "source": [
        "image_to_predict = np.asarray(face)\n",
        "img = cv2.resize(image_to_predict,(48,48),1)"
      ]
    },
    {
      "cell_type": "code",
      "execution_count": null,
      "metadata": {
        "id": "u0x83Pd9jSsy"
      },
      "outputs": [],
      "source": [
        "inv_dic = {\n",
        "    0: 'happy',\n",
        "    1: 'sad',\n",
        "    2: 'neutral',\n",
        "    3: 'fear',\n",
        "    4: 'disgust',\n",
        "    5: 'angry'\n",
        "    # Add more class labels and indices as needed\n",
        "}\n"
      ]
    },
    {
      "cell_type": "code",
      "execution_count": null,
      "metadata": {
        "id": "iVL20p22jZaE",
        "colab": {
          "base_uri": "https://localhost:8080/"
        },
        "outputId": "5d4be4de-9621-4aba-dd42-45bae9e089b9"
      },
      "outputs": [
        {
          "output_type": "stream",
          "name": "stdout",
          "text": [
            "1/1 [==============================] - 0s 28ms/step\n",
            "angry\n"
          ]
        }
      ],
      "source": [
        "tab = []\n",
        "tab.append(img)\n",
        "tab = np.array(tab)\n",
        "print(inv_dic[np.argmax(model.predict(tab))])\n",
        "# plt.imshow(tab[0],cmap = plt.cm.binary)"
      ]
    },
    {
      "cell_type": "code",
      "execution_count": null,
      "metadata": {
        "id": "EUo5JUQ6jdYT",
        "colab": {
          "base_uri": "https://localhost:8080/"
        },
        "outputId": "b09b2912-d5be-422f-c15f-bf5f3c825fcb"
      },
      "outputs": [
        {
          "output_type": "stream",
          "name": "stdout",
          "text": [
            "1/1 [==============================] - 0s 29ms/step\n",
            "angry\n"
          ]
        }
      ],
      "source": [
        "for img in tab_faces :\n",
        "  img = img = cv2.resize(img,(48,48),3)\n",
        "  tab = []\n",
        "  tab.append(img)\n",
        "  tab = np.array(tab)\n",
        "  print(inv_dic[np.argmax(model.predict(tab))])"
      ]
    },
    {
      "cell_type": "code",
      "execution_count": null,
      "metadata": {
        "id": "rynoKBtLjeuZ",
        "colab": {
          "base_uri": "https://localhost:8080/",
          "height": 406
        },
        "outputId": "66eec380-d76b-40c3-c7ad-71d85b926b57"
      },
      "outputs": [
        {
          "output_type": "display_data",
          "data": {
            "text/plain": [
              "<Figure size 640x480 with 1 Axes>"
            ],
            "image/png": "[encoded data removed]"
          },
          "metadata": {}
        }
      ],
      "source": [
        "# Load and display the original image\n",
        "original_image = Image.fromarray(image)\n",
        "plt.figure()\n",
        "plt.imshow(original_image)\n",
        "plt.axis('off')\n",
        "plt.show()"
      ]
    },
    {
      "cell_type": "code",
      "source": [
        "# #fucntion trains the model and saves the best model at the checkpoint\n",
        "# @calc_time\n",
        "# def emotion_recognition_model(x_train,y_train,x_val,y_val):\n",
        "#     #reduce the laerning rate if plateau is encountered\n",
        "#     reduceLR = ReduceLROnPlateau(monitor='loss', factor=0.2, patience=5, min_lr=0.001)\n",
        "#     #early stopping method is used to montior the loss if there are no significant reductions in loss then halt the training\n",
        "#     earlyStop = EarlyStopping(monitor='loss', patience=20)\n",
        "#     #checkpoint to save the best model with highest validation accuracy\n",
        "#     filepath = \"C:/Users/asus/Desktop/Y4S1/research/dataset/male-emotion-recognition.hdf5\"\n",
        "#     checkpoint = ModelCheckpoint(filepath, monitor='val_accuracy', verbose=1, save_best_only=True, mode='max')\n",
        "#     #create a combined list of reduce learning rate, early stopping and checkpoint\n",
        "#     callbacks_list = [reduceLR,earlyStop,checkpoint]\n",
        "\n",
        "#     def residual_block(x, filters, conv_num=3, activation=\"relu\"):\n",
        "#         #fucntion is used to create residual blocks and add residual blocks\n",
        "#         s = Conv1D(filters, 1, padding=\"same\")(x)\n",
        "#         for i in range(conv_num - 1):\n",
        "#             x = Conv1D(filters, 3, padding=\"same\")(x)\n",
        "#             x = Activation(activation)(x)\n",
        "#         x = Conv1D(filters, 3, padding=\"same\")(x)\n",
        "#         x = Add()([x, s])\n",
        "#         x = Activation(activation)(x)\n",
        "\n",
        "#         return x\n",
        "#         #fucntion to build the model\n",
        "\n",
        "#     def build_model():\n",
        "#         inputs =  Input(shape=(x_train.shape[1],1))\n",
        "#         x = Dense(256, activation=\"relu\")(inputs)\n",
        "#         x = residual_block(x, 16, 2)\n",
        "#         x = residual_block(x, 32, 2)\n",
        "#         x = residual_block(x, 32, 2)\n",
        "#         x = residual_block(x, 64, 3)\n",
        "#         x = residual_block(x, 64, 3)\n",
        "#         x = residual_block(x, 128, 3)\n",
        "#         x = residual_block(x, 128, 3)\n",
        "#         #perform the average pooling after last residual block\n",
        "#         x = AveragePooling1D(pool_size=3, strides=3)(x)\n",
        "#         x = Flatten()(x)\n",
        "#         x = Dense(256, activation=\"relu\")(x)\n",
        "#         x = Dense(128, activation=\"relu\")(x)\n",
        "#         outputs = Dense(6, activation=\"softmax\", name=\"output\")(x)\n",
        "\n",
        "#         return Model(inputs=inputs, outputs=outputs)\n",
        "\n",
        "#     res_model = build_model()\n",
        "#     #display the summary of the model\n",
        "#     res_model.summary()\n",
        "#     #complie the model\n",
        "#     res_model.compile(loss='categorical_crossentropy',optimizer = Adam(lr=1e-4, decay=1e-4 / 50) , metrics=['accuracy'])\n",
        "#     history = res_model.fit(np.expand_dims(x_train,-1),y_train,\n",
        "#                         validation_data=(np.expand_dims(x_val, -1), y_val),\n",
        "#                         epochs=500,\n",
        "#                         batch_size=32,\n",
        "#                         shuffle=True,\n",
        "#                         workers=50,\n",
        "#                         verbose=1,\n",
        "#                         use_multiprocessing=True,\n",
        "#                         callbacks = callbacks_list)"
      ],
      "metadata": {
        "id": "qdT9qqi2l_5k"
      },
      "execution_count": null,
      "outputs": []
    },
    {
      "cell_type": "code",
      "source": [
        "# def identity_block(X, f, filters, stage, block):\n",
        "#     \"\"\"\n",
        "#     Implementation of the identity block\n",
        "\n",
        "#     Arguments:\n",
        "#     X -- input tensor of shape (m, n_H_prev, n_W_prev, n_C_prev)\n",
        "#     f -- integer, specifying the shape of the middle CONV's window for the main path\n",
        "#     filters -- python list of integers, defining the number of filters in the CONV layers of the main path\n",
        "#     stage -- integer, used to name the layers, depending on their position in the network\n",
        "#     block -- string/character, used to name the layers, depending on their position in the network\n",
        "\n",
        "#     Returns:\n",
        "#     X -- output of the identity block, tensor of shape (n_H, n_W, n_C)\n",
        "#     \"\"\"\n",
        "\n",
        "#     # defining name basis\n",
        "#     conv_name_base = 'res' + str(stage) + block + '_branch'\n",
        "#     bn_name_base = 'bn' + str(stage) + block + '_branch'\n",
        "\n",
        "#     # Retrieve Filters\n",
        "#     F1, F2, F3 = filters\n",
        "\n",
        "#     # Save the input value. You'll need this later to add back to the main path.\n",
        "#     X_shortcut = X\n",
        "\n",
        "#     # First component of main path\n",
        "#     X = Conv2D(filters = F1, kernel_size = (1, 1), strides = (1,1), padding = 'valid', name = conv_name_base + '2a', kernel_initializer = glorot_uniform(seed=0))(X)\n",
        "#     X = BatchNormalization(axis = 3, name = bn_name_base + '2a')(X)\n",
        "#     X = Activation('relu')(X)\n",
        "\n",
        "\n",
        "#     # Second component of main path\n",
        "#     X = Conv2D(filters = F2, kernel_size = (f, f), strides = (1,1), padding = 'same', name = conv_name_base + '2b', kernel_initializer = glorot_uniform(seed=0))(X)\n",
        "#     X = BatchNormalization(axis = 3, name = bn_name_base + '2b')(X)\n",
        "#     X = Activation('relu')(X)\n",
        "\n",
        "#     # Third component of main path\n",
        "#     X = Conv2D(filters = F3, kernel_size = (1, 1), strides = (1,1), padding = 'valid', name = conv_name_base + '2c', kernel_initializer = glorot_uniform(seed=0))(X)\n",
        "#     X = BatchNormalization(axis = 3, name = bn_name_base + '2c')(X)\n",
        "\n",
        "#     # Final step: Add shortcut value to main path, and pass it through a RELU activation\n",
        "#     X = Add()([X, X_shortcut])\n",
        "#     X = Activation('relu')(X)\n",
        "\n",
        "\n",
        "#     return X"
      ],
      "metadata": {
        "id": "DJ4UAsR8mntE"
      },
      "execution_count": null,
      "outputs": []
    },
    {
      "cell_type": "code",
      "source": [
        "# def convolutional_block(X, f, filters, stage, block, s = 2):\n",
        "#     \"\"\"\n",
        "#     Implementation of the convolutional block\n",
        "\n",
        "#     Arguments:\n",
        "#     X -- input tensor of shape (m, n_H_prev, n_W_prev, n_C_prev)\n",
        "#     f -- integer, specifying the shape of the middle CONV's window for the main path\n",
        "#     filters -- python list of integers, defining the number of filters in the CONV layers of the main path\n",
        "#     stage -- integer, used to name the layers, depending on their position in the network\n",
        "#     block -- string/character, used to name the layers, depending on their position in the network\n",
        "#     s -- Integer, specifying the stride to be used\n",
        "\n",
        "#     Returns:\n",
        "#     X -- output of the convolutional block, tensor of shape (n_H, n_W, n_C)\n",
        "#     \"\"\"\n",
        "\n",
        "#     # defining name basis\n",
        "#     conv_name_base = 'res' + str(stage) + block + '_branch'\n",
        "#     bn_name_base = 'bn' + str(stage) + block + '_branch'\n",
        "\n",
        "#     # Retrieve Filters\n",
        "#     F1, F2, F3 = filters\n",
        "\n",
        "#     # Save the input value\n",
        "#     X_shortcut = X\n",
        "\n",
        "\n",
        "#     ##### MAIN PATH #####\n",
        "#     # First component of main path\n",
        "#     X = Conv2D(F1, (1, 1), strides = (s,s), name = conv_name_base + '2a', kernel_initializer = glorot_uniform(seed=0))(X)\n",
        "#     X = BatchNormalization(axis = 3, name = bn_name_base + '2a')(X)\n",
        "#     X = Activation('relu')(X)\n",
        "\n",
        "\n",
        "#     # Second component of main path\n",
        "#     X = Conv2D(F2, (f,f), strides = (1,1), padding = 'same', name = conv_name_base + '2b', kernel_initializer=glorot_uniform(seed =0))(X)\n",
        "#     X = BatchNormalization(axis = 3, name = bn_name_base + '2b')(X)\n",
        "#     X = Activation('relu') (X)\n",
        "\n",
        "#     # Third component of main path\n",
        "#     X = Conv2D(F3, (1,1), strides = (1,1), padding = 'valid', name = conv_name_base + '2c', kernel_initializer=glorot_uniform(seed =0))(X)\n",
        "#     X = BatchNormalization(axis = 3, name = bn_name_base + '2c')(X)\n",
        "\n",
        "#     ##### SHORTCUT PATH ####\n",
        "#     X_shortcut = Conv2D(F3, (1,1), strides = (s,s), padding = 'valid', name = conv_name_base + '1', kernel_initializer=glorot_uniform(seed =0))(X_shortcut)\n",
        "#     X_shortcut = BatchNormalization(axis = 3, name = bn_name_base + '1')(X_shortcut)\n",
        "\n",
        "#     # Final step: Add shortcut value to main path, and pass it through a RELU activation\n",
        "#     X = Add()([X, X_shortcut])\n",
        "#     X = Activation('relu')(X)\n",
        "\n",
        "\n",
        "#     return X"
      ],
      "metadata": {
        "id": "n7gR0sc6mo7g"
      },
      "execution_count": null,
      "outputs": []
    }
  ],
  "metadata": {
    "colab": {
      "provenance": [],
      "gpuType": "T4"
    },
    "kernelspec": {
      "display_name": "Python 3",
      "name": "python3"
    },
    "language_info": {
      "name": "python"
    },
    "accelerator": "GPU"
  },
  "nbformat": 4,
  "nbformat_minor": 0
}